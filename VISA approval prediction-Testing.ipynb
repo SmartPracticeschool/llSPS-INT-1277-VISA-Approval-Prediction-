{
 "cells": [
  {
   "cell_type": "code",
   "execution_count": 1,
   "metadata": {},
   "outputs": [
    {
     "data": {
      "text/plain": [
       "'C:\\\\Users\\\\TARA\\\\Desktop\\\\remote internship 2020\\\\project'"
      ]
     },
     "execution_count": 1,
     "metadata": {},
     "output_type": "execute_result"
    }
   ],
   "source": [
    "import os\n",
    "os.getcwd()"
   ]
  },
  {
   "cell_type": "code",
   "execution_count": 2,
   "metadata": {},
   "outputs": [
    {
     "data": {
      "text/plain": [
       "'C:\\\\Users\\\\TARA\\\\Desktop\\\\remote internship 2020\\\\datasets'"
      ]
     },
     "execution_count": 2,
     "metadata": {},
     "output_type": "execute_result"
    }
   ],
   "source": [
    "os.chdir(\"C:/Users/TARA/Desktop/remote internship 2020/datasets\")\n",
    "os.getcwd()"
   ]
  },
  {
   "cell_type": "code",
   "execution_count": 3,
   "metadata": {},
   "outputs": [
    {
     "data": {
      "text/html": [
       "<div>\n",
       "<style scoped>\n",
       "    .dataframe tbody tr th:only-of-type {\n",
       "        vertical-align: middle;\n",
       "    }\n",
       "\n",
       "    .dataframe tbody tr th {\n",
       "        vertical-align: top;\n",
       "    }\n",
       "\n",
       "    .dataframe thead th {\n",
       "        text-align: right;\n",
       "    }\n",
       "</style>\n",
       "<table border=\"1\" class=\"dataframe\">\n",
       "  <thead>\n",
       "    <tr style=\"text-align: right;\">\n",
       "      <th></th>\n",
       "      <th>CASE_SUBMITTED_DAY</th>\n",
       "      <th>CASE_SUBMITTED_MONTH</th>\n",
       "      <th>CASE_SUBMITTED_YEAR</th>\n",
       "      <th>DECISION_DAY</th>\n",
       "      <th>DECISION_MONTH</th>\n",
       "      <th>DECISION_YEAR</th>\n",
       "      <th>VISA_CLASS</th>\n",
       "      <th>EMPLOYER_NAME</th>\n",
       "      <th>EMPLOYER_STATE</th>\n",
       "      <th>EMPLOYER_COUNTRY</th>\n",
       "      <th>...</th>\n",
       "      <th>PW_SOURCE_YEAR</th>\n",
       "      <th>PW_SOURCE_OTHER</th>\n",
       "      <th>WAGE_RATE_OF_PAY_FROM</th>\n",
       "      <th>WAGE_RATE_OF_PAY_TO</th>\n",
       "      <th>WAGE_UNIT_OF_PAY</th>\n",
       "      <th>H-1B_DEPENDENT</th>\n",
       "      <th>WILLFUL_VIOLATOR</th>\n",
       "      <th>WORKSITE_STATE</th>\n",
       "      <th>WORKSITE_POSTAL_CODE</th>\n",
       "      <th>CASE_STATUS</th>\n",
       "    </tr>\n",
       "  </thead>\n",
       "  <tbody>\n",
       "    <tr>\n",
       "      <td>0</td>\n",
       "      <td>24</td>\n",
       "      <td>2</td>\n",
       "      <td>2016</td>\n",
       "      <td>1</td>\n",
       "      <td>10</td>\n",
       "      <td>2016</td>\n",
       "      <td>H1B</td>\n",
       "      <td>DISCOVER PRODUCTS INC</td>\n",
       "      <td>IL</td>\n",
       "      <td>UNITED STATES OF AMERICA</td>\n",
       "      <td>...</td>\n",
       "      <td>2015.0</td>\n",
       "      <td>OFLC ONLINE DATA CENTER</td>\n",
       "      <td>65811.0</td>\n",
       "      <td>67320.0</td>\n",
       "      <td>Year</td>\n",
       "      <td>N</td>\n",
       "      <td>N</td>\n",
       "      <td>IL</td>\n",
       "      <td>60015</td>\n",
       "      <td>CERTIFIEDWITHDRAWN</td>\n",
       "    </tr>\n",
       "    <tr>\n",
       "      <td>1</td>\n",
       "      <td>4</td>\n",
       "      <td>3</td>\n",
       "      <td>2016</td>\n",
       "      <td>1</td>\n",
       "      <td>10</td>\n",
       "      <td>2016</td>\n",
       "      <td>H1B</td>\n",
       "      <td>DFS SERVICES LLC</td>\n",
       "      <td>IL</td>\n",
       "      <td>UNITED STATES OF AMERICA</td>\n",
       "      <td>...</td>\n",
       "      <td>2015.0</td>\n",
       "      <td>WILLIS TOWERS WATSON SURVEY</td>\n",
       "      <td>53000.0</td>\n",
       "      <td>57200.0</td>\n",
       "      <td>Year</td>\n",
       "      <td>N</td>\n",
       "      <td>N</td>\n",
       "      <td>IL</td>\n",
       "      <td>60015</td>\n",
       "      <td>CERTIFIEDWITHDRAWN</td>\n",
       "    </tr>\n",
       "    <tr>\n",
       "      <td>2</td>\n",
       "      <td>10</td>\n",
       "      <td>3</td>\n",
       "      <td>2016</td>\n",
       "      <td>1</td>\n",
       "      <td>10</td>\n",
       "      <td>2016</td>\n",
       "      <td>H1B</td>\n",
       "      <td>EASTBANC TECHNOLOGIES LLC</td>\n",
       "      <td>DC</td>\n",
       "      <td>UNITED STATES OF AMERICA</td>\n",
       "      <td>...</td>\n",
       "      <td>2015.0</td>\n",
       "      <td>OFLC ONLINE DATA CENTER</td>\n",
       "      <td>77000.0</td>\n",
       "      <td>0.0</td>\n",
       "      <td>Year</td>\n",
       "      <td>Y</td>\n",
       "      <td>N</td>\n",
       "      <td>DC</td>\n",
       "      <td>20007</td>\n",
       "      <td>CERTIFIEDWITHDRAWN</td>\n",
       "    </tr>\n",
       "    <tr>\n",
       "      <td>3</td>\n",
       "      <td>28</td>\n",
       "      <td>9</td>\n",
       "      <td>2016</td>\n",
       "      <td>1</td>\n",
       "      <td>10</td>\n",
       "      <td>2016</td>\n",
       "      <td>H1B</td>\n",
       "      <td>INFO SERVICES LLC</td>\n",
       "      <td>MI</td>\n",
       "      <td>UNITED STATES OF AMERICA</td>\n",
       "      <td>...</td>\n",
       "      <td>2016.0</td>\n",
       "      <td>OFLC ONLINE DATA CENTER</td>\n",
       "      <td>102000.0</td>\n",
       "      <td>0.0</td>\n",
       "      <td>Year</td>\n",
       "      <td>Y</td>\n",
       "      <td>N</td>\n",
       "      <td>NJ</td>\n",
       "      <td>7302</td>\n",
       "      <td>WITHDRAWN</td>\n",
       "    </tr>\n",
       "    <tr>\n",
       "      <td>4</td>\n",
       "      <td>22</td>\n",
       "      <td>2</td>\n",
       "      <td>2015</td>\n",
       "      <td>2</td>\n",
       "      <td>10</td>\n",
       "      <td>2016</td>\n",
       "      <td>H1B</td>\n",
       "      <td>BBandT CORPORATION</td>\n",
       "      <td>NC</td>\n",
       "      <td>UNITED STATES OF AMERICA</td>\n",
       "      <td>...</td>\n",
       "      <td>2015.0</td>\n",
       "      <td>OFLC ONLINE DATA CENTER</td>\n",
       "      <td>132500.0</td>\n",
       "      <td>0.0</td>\n",
       "      <td>Year</td>\n",
       "      <td>N</td>\n",
       "      <td>N</td>\n",
       "      <td>NY</td>\n",
       "      <td>10036</td>\n",
       "      <td>CERTIFIEDWITHDRAWN</td>\n",
       "    </tr>\n",
       "    <tr>\n",
       "      <td>...</td>\n",
       "      <td>...</td>\n",
       "      <td>...</td>\n",
       "      <td>...</td>\n",
       "      <td>...</td>\n",
       "      <td>...</td>\n",
       "      <td>...</td>\n",
       "      <td>...</td>\n",
       "      <td>...</td>\n",
       "      <td>...</td>\n",
       "      <td>...</td>\n",
       "      <td>...</td>\n",
       "      <td>...</td>\n",
       "      <td>...</td>\n",
       "      <td>...</td>\n",
       "      <td>...</td>\n",
       "      <td>...</td>\n",
       "      <td>...</td>\n",
       "      <td>...</td>\n",
       "      <td>...</td>\n",
       "      <td>...</td>\n",
       "      <td>...</td>\n",
       "    </tr>\n",
       "    <tr>\n",
       "      <td>9995</td>\n",
       "      <td>5</td>\n",
       "      <td>10</td>\n",
       "      <td>2016</td>\n",
       "      <td>12</td>\n",
       "      <td>10</td>\n",
       "      <td>2016</td>\n",
       "      <td>H1B</td>\n",
       "      <td>TATA CONSULTANCY SERVICES LIMITED</td>\n",
       "      <td>MD</td>\n",
       "      <td>UNITED STATES OF AMERICA</td>\n",
       "      <td>...</td>\n",
       "      <td>2016.0</td>\n",
       "      <td>OFLC ONLINE DATA CENTER</td>\n",
       "      <td>74173.0</td>\n",
       "      <td>94500.0</td>\n",
       "      <td>Year</td>\n",
       "      <td>Y</td>\n",
       "      <td>N</td>\n",
       "      <td>IL</td>\n",
       "      <td>60173</td>\n",
       "      <td>CERTIFIED</td>\n",
       "    </tr>\n",
       "    <tr>\n",
       "      <td>9996</td>\n",
       "      <td>5</td>\n",
       "      <td>10</td>\n",
       "      <td>2016</td>\n",
       "      <td>12</td>\n",
       "      <td>10</td>\n",
       "      <td>2016</td>\n",
       "      <td>H1B</td>\n",
       "      <td>TATA CONSULTANCY SERVICES LIMITED</td>\n",
       "      <td>MD</td>\n",
       "      <td>UNITED STATES OF AMERICA</td>\n",
       "      <td>...</td>\n",
       "      <td>2016.0</td>\n",
       "      <td>OFLC ONLINE DATA CENTER</td>\n",
       "      <td>65645.0</td>\n",
       "      <td>86000.0</td>\n",
       "      <td>Year</td>\n",
       "      <td>Y</td>\n",
       "      <td>N</td>\n",
       "      <td>NJ</td>\n",
       "      <td>7310</td>\n",
       "      <td>CERTIFIED</td>\n",
       "    </tr>\n",
       "    <tr>\n",
       "      <td>9997</td>\n",
       "      <td>5</td>\n",
       "      <td>10</td>\n",
       "      <td>2016</td>\n",
       "      <td>12</td>\n",
       "      <td>10</td>\n",
       "      <td>2016</td>\n",
       "      <td>H1B</td>\n",
       "      <td>TATA CONSULTANCY SERVICES LIMITED</td>\n",
       "      <td>MD</td>\n",
       "      <td>UNITED STATES OF AMERICA</td>\n",
       "      <td>...</td>\n",
       "      <td>2016.0</td>\n",
       "      <td>OFLC ONLINE DATA CENTER</td>\n",
       "      <td>60700.0</td>\n",
       "      <td>87000.0</td>\n",
       "      <td>Year</td>\n",
       "      <td>Y</td>\n",
       "      <td>N</td>\n",
       "      <td>IN</td>\n",
       "      <td>46240</td>\n",
       "      <td>CERTIFIED</td>\n",
       "    </tr>\n",
       "    <tr>\n",
       "      <td>9998</td>\n",
       "      <td>5</td>\n",
       "      <td>10</td>\n",
       "      <td>2016</td>\n",
       "      <td>12</td>\n",
       "      <td>10</td>\n",
       "      <td>2016</td>\n",
       "      <td>H1B</td>\n",
       "      <td>TATA CONSULTANCY SERVICES LIMITED</td>\n",
       "      <td>MD</td>\n",
       "      <td>UNITED STATES OF AMERICA</td>\n",
       "      <td>...</td>\n",
       "      <td>2016.0</td>\n",
       "      <td>OFLC ONLINE DATA CENTER</td>\n",
       "      <td>68557.0</td>\n",
       "      <td>94500.0</td>\n",
       "      <td>Year</td>\n",
       "      <td>Y</td>\n",
       "      <td>N</td>\n",
       "      <td>MN</td>\n",
       "      <td>55423</td>\n",
       "      <td>CERTIFIED</td>\n",
       "    </tr>\n",
       "    <tr>\n",
       "      <td>9999</td>\n",
       "      <td>5</td>\n",
       "      <td>10</td>\n",
       "      <td>2016</td>\n",
       "      <td>12</td>\n",
       "      <td>10</td>\n",
       "      <td>2016</td>\n",
       "      <td>H1B</td>\n",
       "      <td>TATA CONSULTANCY SERVICES LIMITED</td>\n",
       "      <td>MD</td>\n",
       "      <td>UNITED STATES OF AMERICA</td>\n",
       "      <td>...</td>\n",
       "      <td>2016.0</td>\n",
       "      <td>OFLC ONLINE DATA CENTER</td>\n",
       "      <td>67891.0</td>\n",
       "      <td>87000.0</td>\n",
       "      <td>Year</td>\n",
       "      <td>Y</td>\n",
       "      <td>N</td>\n",
       "      <td>TX</td>\n",
       "      <td>75039</td>\n",
       "      <td>CERTIFIED</td>\n",
       "    </tr>\n",
       "  </tbody>\n",
       "</table>\n",
       "<p>10000 rows × 27 columns</p>\n",
       "</div>"
      ],
      "text/plain": [
       "      CASE_SUBMITTED_DAY  CASE_SUBMITTED_MONTH  CASE_SUBMITTED_YEAR  \\\n",
       "0                     24                     2                 2016   \n",
       "1                      4                     3                 2016   \n",
       "2                     10                     3                 2016   \n",
       "3                     28                     9                 2016   \n",
       "4                     22                     2                 2015   \n",
       "...                  ...                   ...                  ...   \n",
       "9995                   5                    10                 2016   \n",
       "9996                   5                    10                 2016   \n",
       "9997                   5                    10                 2016   \n",
       "9998                   5                    10                 2016   \n",
       "9999                   5                    10                 2016   \n",
       "\n",
       "      DECISION_DAY  DECISION_MONTH  DECISION_YEAR VISA_CLASS  \\\n",
       "0                1              10           2016        H1B   \n",
       "1                1              10           2016        H1B   \n",
       "2                1              10           2016        H1B   \n",
       "3                1              10           2016        H1B   \n",
       "4                2              10           2016        H1B   \n",
       "...            ...             ...            ...        ...   \n",
       "9995            12              10           2016        H1B   \n",
       "9996            12              10           2016        H1B   \n",
       "9997            12              10           2016        H1B   \n",
       "9998            12              10           2016        H1B   \n",
       "9999            12              10           2016        H1B   \n",
       "\n",
       "                          EMPLOYER_NAME EMPLOYER_STATE  \\\n",
       "0                 DISCOVER PRODUCTS INC             IL   \n",
       "1                      DFS SERVICES LLC             IL   \n",
       "2             EASTBANC TECHNOLOGIES LLC             DC   \n",
       "3                     INFO SERVICES LLC             MI   \n",
       "4                    BBandT CORPORATION             NC   \n",
       "...                                 ...            ...   \n",
       "9995  TATA CONSULTANCY SERVICES LIMITED             MD   \n",
       "9996  TATA CONSULTANCY SERVICES LIMITED             MD   \n",
       "9997  TATA CONSULTANCY SERVICES LIMITED             MD   \n",
       "9998  TATA CONSULTANCY SERVICES LIMITED             MD   \n",
       "9999  TATA CONSULTANCY SERVICES LIMITED             MD   \n",
       "\n",
       "              EMPLOYER_COUNTRY  ... PW_SOURCE_YEAR  \\\n",
       "0     UNITED STATES OF AMERICA  ...         2015.0   \n",
       "1     UNITED STATES OF AMERICA  ...         2015.0   \n",
       "2     UNITED STATES OF AMERICA  ...         2015.0   \n",
       "3     UNITED STATES OF AMERICA  ...         2016.0   \n",
       "4     UNITED STATES OF AMERICA  ...         2015.0   \n",
       "...                        ...  ...            ...   \n",
       "9995  UNITED STATES OF AMERICA  ...         2016.0   \n",
       "9996  UNITED STATES OF AMERICA  ...         2016.0   \n",
       "9997  UNITED STATES OF AMERICA  ...         2016.0   \n",
       "9998  UNITED STATES OF AMERICA  ...         2016.0   \n",
       "9999  UNITED STATES OF AMERICA  ...         2016.0   \n",
       "\n",
       "                  PW_SOURCE_OTHER  WAGE_RATE_OF_PAY_FROM WAGE_RATE_OF_PAY_TO  \\\n",
       "0         OFLC ONLINE DATA CENTER                65811.0             67320.0   \n",
       "1     WILLIS TOWERS WATSON SURVEY                53000.0             57200.0   \n",
       "2         OFLC ONLINE DATA CENTER                77000.0                 0.0   \n",
       "3         OFLC ONLINE DATA CENTER               102000.0                 0.0   \n",
       "4         OFLC ONLINE DATA CENTER               132500.0                 0.0   \n",
       "...                           ...                    ...                 ...   \n",
       "9995      OFLC ONLINE DATA CENTER                74173.0             94500.0   \n",
       "9996      OFLC ONLINE DATA CENTER                65645.0             86000.0   \n",
       "9997      OFLC ONLINE DATA CENTER                60700.0             87000.0   \n",
       "9998      OFLC ONLINE DATA CENTER                68557.0             94500.0   \n",
       "9999      OFLC ONLINE DATA CENTER                67891.0             87000.0   \n",
       "\n",
       "      WAGE_UNIT_OF_PAY H-1B_DEPENDENT WILLFUL_VIOLATOR  WORKSITE_STATE  \\\n",
       "0                 Year              N                N              IL   \n",
       "1                 Year              N                N              IL   \n",
       "2                 Year              Y                N              DC   \n",
       "3                 Year              Y                N              NJ   \n",
       "4                 Year              N                N              NY   \n",
       "...                ...            ...              ...             ...   \n",
       "9995              Year              Y                N              IL   \n",
       "9996              Year              Y                N              NJ   \n",
       "9997              Year              Y                N              IN   \n",
       "9998              Year              Y                N              MN   \n",
       "9999              Year              Y                N              TX   \n",
       "\n",
       "     WORKSITE_POSTAL_CODE         CASE_STATUS  \n",
       "0                   60015  CERTIFIEDWITHDRAWN  \n",
       "1                   60015  CERTIFIEDWITHDRAWN  \n",
       "2                   20007  CERTIFIEDWITHDRAWN  \n",
       "3                    7302           WITHDRAWN  \n",
       "4                   10036  CERTIFIEDWITHDRAWN  \n",
       "...                   ...                 ...  \n",
       "9995                60173           CERTIFIED  \n",
       "9996                 7310           CERTIFIED  \n",
       "9997                46240           CERTIFIED  \n",
       "9998                55423           CERTIFIED  \n",
       "9999                75039           CERTIFIED  \n",
       "\n",
       "[10000 rows x 27 columns]"
      ]
     },
     "execution_count": 3,
     "metadata": {},
     "output_type": "execute_result"
    }
   ],
   "source": [
    "import numpy as np\n",
    "import pandas as pd\n",
    "data1=pd.read_csv(r'H1B data.csv',encoding='ISO-8859-1',low_memory=False)\n",
    "data1"
   ]
  },
  {
   "cell_type": "markdown",
   "metadata": {},
   "source": [
    "# Missing value treatment"
   ]
  },
  {
   "cell_type": "code",
   "execution_count": 4,
   "metadata": {},
   "outputs": [
    {
     "data": {
      "text/plain": [
       "CASE_SUBMITTED_DAY         0\n",
       "CASE_SUBMITTED_MONTH       0\n",
       "CASE_SUBMITTED_YEAR        0\n",
       "DECISION_DAY               0\n",
       "DECISION_MONTH             0\n",
       "DECISION_YEAR              0\n",
       "VISA_CLASS                 0\n",
       "EMPLOYER_NAME              4\n",
       "EMPLOYER_STATE             0\n",
       "EMPLOYER_COUNTRY           0\n",
       "SOC_NAME                   0\n",
       "NAICS_CODE                 0\n",
       "TOTAL_WORKERS              0\n",
       "FULL_TIME_POSITION         0\n",
       "PREVAILING_WAGE            0\n",
       "PW_UNIT_OF_PAY             1\n",
       "PW_SOURCE                  1\n",
       "PW_SOURCE_YEAR             1\n",
       "PW_SOURCE_OTHER            0\n",
       "WAGE_RATE_OF_PAY_FROM      0\n",
       "WAGE_RATE_OF_PAY_TO        0\n",
       "WAGE_UNIT_OF_PAY           0\n",
       "H-1B_DEPENDENT           352\n",
       "WILLFUL_VIOLATOR         352\n",
       "WORKSITE_STATE             0\n",
       "WORKSITE_POSTAL_CODE       0\n",
       "CASE_STATUS                0\n",
       "dtype: int64"
      ]
     },
     "execution_count": 4,
     "metadata": {},
     "output_type": "execute_result"
    }
   ],
   "source": [
    "#Get a count of missing values in the dataset\n",
    "data1.apply(lambda x: sum(x.isnull()),axis=0)"
   ]
  },
  {
   "cell_type": "code",
   "execution_count": 5,
   "metadata": {},
   "outputs": [
    {
     "data": {
      "text/plain": [
       "N    5628\n",
       "Y    4020\n",
       "Name: H-1B_DEPENDENT, dtype: int64"
      ]
     },
     "execution_count": 5,
     "metadata": {},
     "output_type": "execute_result"
    }
   ],
   "source": [
    "data1['H-1B_DEPENDENT'].value_counts()"
   ]
  },
  {
   "cell_type": "code",
   "execution_count": 6,
   "metadata": {},
   "outputs": [
    {
     "data": {
      "text/plain": [
       "N    5628\n",
       "Y    4372\n",
       "Name: H-1B_DEPENDENT, dtype: int64"
      ]
     },
     "execution_count": 6,
     "metadata": {},
     "output_type": "execute_result"
    }
   ],
   "source": [
    "data1 ['H-1B_DEPENDENT'].fillna('Y', inplace=True)\n",
    "data1['H-1B_DEPENDENT'].value_counts()"
   ]
  },
  {
   "cell_type": "code",
   "execution_count": 7,
   "metadata": {},
   "outputs": [
    {
     "data": {
      "text/plain": [
       "N    9637\n",
       "Y      11\n",
       "Name: WILLFUL_VIOLATOR, dtype: int64"
      ]
     },
     "execution_count": 7,
     "metadata": {},
     "output_type": "execute_result"
    }
   ],
   "source": [
    "data1['WILLFUL_VIOLATOR'].value_counts()"
   ]
  },
  {
   "cell_type": "code",
   "execution_count": 8,
   "metadata": {},
   "outputs": [
    {
     "data": {
      "text/plain": [
       "N    9989\n",
       "Y      11\n",
       "Name: WILLFUL_VIOLATOR, dtype: int64"
      ]
     },
     "execution_count": 8,
     "metadata": {},
     "output_type": "execute_result"
    }
   ],
   "source": [
    "data1 ['WILLFUL_VIOLATOR'].fillna('N', inplace=True)\n",
    "data1['WILLFUL_VIOLATOR'].value_counts()"
   ]
  },
  {
   "cell_type": "code",
   "execution_count": 9,
   "metadata": {},
   "outputs": [
    {
     "data": {
      "text/plain": [
       "INFOSYS LIMITED                      409\n",
       "CAPGEMINI AMERICA INC                225\n",
       "TATA CONSULTANCY SERVICES LIMITED    216\n",
       "DELOITTE CONSULTING LLP              161\n",
       "ACCENTURE LLP                        150\n",
       "                                    ... \n",
       "DATA POS INC                           1\n",
       "NOVELTY INFOTECH INC                   1\n",
       "MASER CONSULTING PA                    1\n",
       "SAINT LUKES HEALTH SYSTEM              1\n",
       "IQUEST SOLUTIONS CORP                  1\n",
       "Name: EMPLOYER_NAME, Length: 3867, dtype: int64"
      ]
     },
     "execution_count": 9,
     "metadata": {},
     "output_type": "execute_result"
    }
   ],
   "source": [
    "data1 ['EMPLOYER_NAME'].fillna('INFOSYS LIMITED ', inplace=True)\n",
    "data1['EMPLOYER_NAME'].value_counts()"
   ]
  },
  {
   "cell_type": "code",
   "execution_count": 10,
   "metadata": {},
   "outputs": [
    {
     "data": {
      "text/plain": [
       "Year         9476\n",
       "Hour          509\n",
       "Week            9\n",
       "Month           5\n",
       "Bi-Weekly       1\n",
       "Name: PW_UNIT_OF_PAY, dtype: int64"
      ]
     },
     "execution_count": 10,
     "metadata": {},
     "output_type": "execute_result"
    }
   ],
   "source": [
    "data1 ['PW_UNIT_OF_PAY'].fillna('Year', inplace=True)\n",
    "data1['PW_UNIT_OF_PAY'].value_counts()"
   ]
  },
  {
   "cell_type": "code",
   "execution_count": 11,
   "metadata": {},
   "outputs": [
    {
     "data": {
      "text/plain": [
       "OES      8050\n",
       "Other    1884\n",
       "CBA        63\n",
       "DBA         2\n",
       "SCA         1\n",
       "Name: PW_SOURCE, dtype: int64"
      ]
     },
     "execution_count": 11,
     "metadata": {},
     "output_type": "execute_result"
    }
   ],
   "source": [
    "data1 ['PW_SOURCE'].fillna('OES', inplace=True)\n",
    "data1['PW_SOURCE'].value_counts()"
   ]
  },
  {
   "cell_type": "code",
   "execution_count": 12,
   "metadata": {},
   "outputs": [
    {
     "data": {
      "text/plain": [
       "2016.000000    8749\n",
       "2015.000000     786\n",
       "2014.000000     319\n",
       "2013.000000     137\n",
       "2012.000000       4\n",
       "2011.000000       2\n",
       "2015.810881       1\n",
       "2009.000000       1\n",
       "1993.000000       1\n",
       "Name: PW_SOURCE_YEAR, dtype: int64"
      ]
     },
     "execution_count": 12,
     "metadata": {},
     "output_type": "execute_result"
    }
   ],
   "source": [
    "data1 ['PW_SOURCE_YEAR'].fillna(data1['PW_SOURCE_YEAR'].mean(), inplace=True)\n",
    "data1['PW_SOURCE_YEAR'].value_counts()"
   ]
  },
  {
   "cell_type": "code",
   "execution_count": 13,
   "metadata": {},
   "outputs": [
    {
     "data": {
      "text/plain": [
       "CASE_SUBMITTED_DAY       0\n",
       "CASE_SUBMITTED_MONTH     0\n",
       "CASE_SUBMITTED_YEAR      0\n",
       "DECISION_DAY             0\n",
       "DECISION_MONTH           0\n",
       "DECISION_YEAR            0\n",
       "VISA_CLASS               0\n",
       "EMPLOYER_NAME            0\n",
       "EMPLOYER_STATE           0\n",
       "EMPLOYER_COUNTRY         0\n",
       "SOC_NAME                 0\n",
       "NAICS_CODE               0\n",
       "TOTAL_WORKERS            0\n",
       "FULL_TIME_POSITION       0\n",
       "PREVAILING_WAGE          0\n",
       "PW_UNIT_OF_PAY           0\n",
       "PW_SOURCE                0\n",
       "PW_SOURCE_YEAR           0\n",
       "PW_SOURCE_OTHER          0\n",
       "WAGE_RATE_OF_PAY_FROM    0\n",
       "WAGE_RATE_OF_PAY_TO      0\n",
       "WAGE_UNIT_OF_PAY         0\n",
       "H-1B_DEPENDENT           0\n",
       "WILLFUL_VIOLATOR         0\n",
       "WORKSITE_STATE           0\n",
       "WORKSITE_POSTAL_CODE     0\n",
       "CASE_STATUS              0\n",
       "dtype: int64"
      ]
     },
     "execution_count": 13,
     "metadata": {},
     "output_type": "execute_result"
    }
   ],
   "source": [
    "# After imputation Get a count of missing values in the dataset\n",
    "data1.apply(lambda x: sum(x.isnull()),axis=0)"
   ]
  },
  {
   "cell_type": "code",
   "execution_count": 14,
   "metadata": {},
   "outputs": [
    {
     "data": {
      "text/plain": [
       "CASE_SUBMITTED_DAY       False\n",
       "CASE_SUBMITTED_MONTH     False\n",
       "CASE_SUBMITTED_YEAR      False\n",
       "DECISION_DAY             False\n",
       "DECISION_MONTH           False\n",
       "DECISION_YEAR            False\n",
       "VISA_CLASS               False\n",
       "EMPLOYER_NAME            False\n",
       "EMPLOYER_STATE           False\n",
       "EMPLOYER_COUNTRY         False\n",
       "SOC_NAME                 False\n",
       "NAICS_CODE               False\n",
       "TOTAL_WORKERS            False\n",
       "FULL_TIME_POSITION       False\n",
       "PREVAILING_WAGE          False\n",
       "PW_UNIT_OF_PAY           False\n",
       "PW_SOURCE                False\n",
       "PW_SOURCE_YEAR           False\n",
       "PW_SOURCE_OTHER          False\n",
       "WAGE_RATE_OF_PAY_FROM    False\n",
       "WAGE_RATE_OF_PAY_TO      False\n",
       "WAGE_UNIT_OF_PAY         False\n",
       "H-1B_DEPENDENT           False\n",
       "WILLFUL_VIOLATOR         False\n",
       "WORKSITE_STATE           False\n",
       "WORKSITE_POSTAL_CODE     False\n",
       "CASE_STATUS              False\n",
       "dtype: bool"
      ]
     },
     "execution_count": 14,
     "metadata": {},
     "output_type": "execute_result"
    }
   ],
   "source": [
    "data1.isnull().any()"
   ]
  },
  {
   "cell_type": "code",
   "execution_count": 15,
   "metadata": {},
   "outputs": [],
   "source": [
    "data1['CASE_STATUS'].replace(['CERTIFIED','CERTIFIEDWITHDRAWN','WITHDRAWN','DENIED'],[1,0,2,3],inplace=True)"
   ]
  },
  {
   "cell_type": "code",
   "execution_count": 16,
   "metadata": {},
   "outputs": [
    {
     "data": {
      "text/html": [
       "<div>\n",
       "<style scoped>\n",
       "    .dataframe tbody tr th:only-of-type {\n",
       "        vertical-align: middle;\n",
       "    }\n",
       "\n",
       "    .dataframe tbody tr th {\n",
       "        vertical-align: top;\n",
       "    }\n",
       "\n",
       "    .dataframe thead th {\n",
       "        text-align: right;\n",
       "    }\n",
       "</style>\n",
       "<table border=\"1\" class=\"dataframe\">\n",
       "  <thead>\n",
       "    <tr style=\"text-align: right;\">\n",
       "      <th></th>\n",
       "      <th>CASE_SUBMITTED_DAY</th>\n",
       "      <th>CASE_SUBMITTED_MONTH</th>\n",
       "      <th>CASE_SUBMITTED_YEAR</th>\n",
       "      <th>DECISION_DAY</th>\n",
       "      <th>DECISION_MONTH</th>\n",
       "      <th>DECISION_YEAR</th>\n",
       "      <th>VISA_CLASS</th>\n",
       "      <th>EMPLOYER_NAME</th>\n",
       "      <th>EMPLOYER_STATE</th>\n",
       "      <th>EMPLOYER_COUNTRY</th>\n",
       "      <th>...</th>\n",
       "      <th>PW_SOURCE_YEAR</th>\n",
       "      <th>PW_SOURCE_OTHER</th>\n",
       "      <th>WAGE_RATE_OF_PAY_FROM</th>\n",
       "      <th>WAGE_RATE_OF_PAY_TO</th>\n",
       "      <th>WAGE_UNIT_OF_PAY</th>\n",
       "      <th>H-1B_DEPENDENT</th>\n",
       "      <th>WILLFUL_VIOLATOR</th>\n",
       "      <th>WORKSITE_STATE</th>\n",
       "      <th>WORKSITE_POSTAL_CODE</th>\n",
       "      <th>CASE_STATUS</th>\n",
       "    </tr>\n",
       "  </thead>\n",
       "  <tbody>\n",
       "    <tr>\n",
       "      <td>0</td>\n",
       "      <td>24</td>\n",
       "      <td>2</td>\n",
       "      <td>2016</td>\n",
       "      <td>1</td>\n",
       "      <td>10</td>\n",
       "      <td>2016</td>\n",
       "      <td>H1B</td>\n",
       "      <td>DISCOVER PRODUCTS INC</td>\n",
       "      <td>IL</td>\n",
       "      <td>UNITED STATES OF AMERICA</td>\n",
       "      <td>...</td>\n",
       "      <td>2015.0</td>\n",
       "      <td>OFLC ONLINE DATA CENTER</td>\n",
       "      <td>65811.0</td>\n",
       "      <td>67320.0</td>\n",
       "      <td>Year</td>\n",
       "      <td>N</td>\n",
       "      <td>N</td>\n",
       "      <td>IL</td>\n",
       "      <td>60015</td>\n",
       "      <td>0</td>\n",
       "    </tr>\n",
       "    <tr>\n",
       "      <td>1</td>\n",
       "      <td>4</td>\n",
       "      <td>3</td>\n",
       "      <td>2016</td>\n",
       "      <td>1</td>\n",
       "      <td>10</td>\n",
       "      <td>2016</td>\n",
       "      <td>H1B</td>\n",
       "      <td>DFS SERVICES LLC</td>\n",
       "      <td>IL</td>\n",
       "      <td>UNITED STATES OF AMERICA</td>\n",
       "      <td>...</td>\n",
       "      <td>2015.0</td>\n",
       "      <td>WILLIS TOWERS WATSON SURVEY</td>\n",
       "      <td>53000.0</td>\n",
       "      <td>57200.0</td>\n",
       "      <td>Year</td>\n",
       "      <td>N</td>\n",
       "      <td>N</td>\n",
       "      <td>IL</td>\n",
       "      <td>60015</td>\n",
       "      <td>0</td>\n",
       "    </tr>\n",
       "    <tr>\n",
       "      <td>2</td>\n",
       "      <td>10</td>\n",
       "      <td>3</td>\n",
       "      <td>2016</td>\n",
       "      <td>1</td>\n",
       "      <td>10</td>\n",
       "      <td>2016</td>\n",
       "      <td>H1B</td>\n",
       "      <td>EASTBANC TECHNOLOGIES LLC</td>\n",
       "      <td>DC</td>\n",
       "      <td>UNITED STATES OF AMERICA</td>\n",
       "      <td>...</td>\n",
       "      <td>2015.0</td>\n",
       "      <td>OFLC ONLINE DATA CENTER</td>\n",
       "      <td>77000.0</td>\n",
       "      <td>0.0</td>\n",
       "      <td>Year</td>\n",
       "      <td>Y</td>\n",
       "      <td>N</td>\n",
       "      <td>DC</td>\n",
       "      <td>20007</td>\n",
       "      <td>0</td>\n",
       "    </tr>\n",
       "    <tr>\n",
       "      <td>3</td>\n",
       "      <td>28</td>\n",
       "      <td>9</td>\n",
       "      <td>2016</td>\n",
       "      <td>1</td>\n",
       "      <td>10</td>\n",
       "      <td>2016</td>\n",
       "      <td>H1B</td>\n",
       "      <td>INFO SERVICES LLC</td>\n",
       "      <td>MI</td>\n",
       "      <td>UNITED STATES OF AMERICA</td>\n",
       "      <td>...</td>\n",
       "      <td>2016.0</td>\n",
       "      <td>OFLC ONLINE DATA CENTER</td>\n",
       "      <td>102000.0</td>\n",
       "      <td>0.0</td>\n",
       "      <td>Year</td>\n",
       "      <td>Y</td>\n",
       "      <td>N</td>\n",
       "      <td>NJ</td>\n",
       "      <td>7302</td>\n",
       "      <td>2</td>\n",
       "    </tr>\n",
       "    <tr>\n",
       "      <td>4</td>\n",
       "      <td>22</td>\n",
       "      <td>2</td>\n",
       "      <td>2015</td>\n",
       "      <td>2</td>\n",
       "      <td>10</td>\n",
       "      <td>2016</td>\n",
       "      <td>H1B</td>\n",
       "      <td>BBandT CORPORATION</td>\n",
       "      <td>NC</td>\n",
       "      <td>UNITED STATES OF AMERICA</td>\n",
       "      <td>...</td>\n",
       "      <td>2015.0</td>\n",
       "      <td>OFLC ONLINE DATA CENTER</td>\n",
       "      <td>132500.0</td>\n",
       "      <td>0.0</td>\n",
       "      <td>Year</td>\n",
       "      <td>N</td>\n",
       "      <td>N</td>\n",
       "      <td>NY</td>\n",
       "      <td>10036</td>\n",
       "      <td>0</td>\n",
       "    </tr>\n",
       "    <tr>\n",
       "      <td>...</td>\n",
       "      <td>...</td>\n",
       "      <td>...</td>\n",
       "      <td>...</td>\n",
       "      <td>...</td>\n",
       "      <td>...</td>\n",
       "      <td>...</td>\n",
       "      <td>...</td>\n",
       "      <td>...</td>\n",
       "      <td>...</td>\n",
       "      <td>...</td>\n",
       "      <td>...</td>\n",
       "      <td>...</td>\n",
       "      <td>...</td>\n",
       "      <td>...</td>\n",
       "      <td>...</td>\n",
       "      <td>...</td>\n",
       "      <td>...</td>\n",
       "      <td>...</td>\n",
       "      <td>...</td>\n",
       "      <td>...</td>\n",
       "      <td>...</td>\n",
       "    </tr>\n",
       "    <tr>\n",
       "      <td>9995</td>\n",
       "      <td>5</td>\n",
       "      <td>10</td>\n",
       "      <td>2016</td>\n",
       "      <td>12</td>\n",
       "      <td>10</td>\n",
       "      <td>2016</td>\n",
       "      <td>H1B</td>\n",
       "      <td>TATA CONSULTANCY SERVICES LIMITED</td>\n",
       "      <td>MD</td>\n",
       "      <td>UNITED STATES OF AMERICA</td>\n",
       "      <td>...</td>\n",
       "      <td>2016.0</td>\n",
       "      <td>OFLC ONLINE DATA CENTER</td>\n",
       "      <td>74173.0</td>\n",
       "      <td>94500.0</td>\n",
       "      <td>Year</td>\n",
       "      <td>Y</td>\n",
       "      <td>N</td>\n",
       "      <td>IL</td>\n",
       "      <td>60173</td>\n",
       "      <td>1</td>\n",
       "    </tr>\n",
       "    <tr>\n",
       "      <td>9996</td>\n",
       "      <td>5</td>\n",
       "      <td>10</td>\n",
       "      <td>2016</td>\n",
       "      <td>12</td>\n",
       "      <td>10</td>\n",
       "      <td>2016</td>\n",
       "      <td>H1B</td>\n",
       "      <td>TATA CONSULTANCY SERVICES LIMITED</td>\n",
       "      <td>MD</td>\n",
       "      <td>UNITED STATES OF AMERICA</td>\n",
       "      <td>...</td>\n",
       "      <td>2016.0</td>\n",
       "      <td>OFLC ONLINE DATA CENTER</td>\n",
       "      <td>65645.0</td>\n",
       "      <td>86000.0</td>\n",
       "      <td>Year</td>\n",
       "      <td>Y</td>\n",
       "      <td>N</td>\n",
       "      <td>NJ</td>\n",
       "      <td>7310</td>\n",
       "      <td>1</td>\n",
       "    </tr>\n",
       "    <tr>\n",
       "      <td>9997</td>\n",
       "      <td>5</td>\n",
       "      <td>10</td>\n",
       "      <td>2016</td>\n",
       "      <td>12</td>\n",
       "      <td>10</td>\n",
       "      <td>2016</td>\n",
       "      <td>H1B</td>\n",
       "      <td>TATA CONSULTANCY SERVICES LIMITED</td>\n",
       "      <td>MD</td>\n",
       "      <td>UNITED STATES OF AMERICA</td>\n",
       "      <td>...</td>\n",
       "      <td>2016.0</td>\n",
       "      <td>OFLC ONLINE DATA CENTER</td>\n",
       "      <td>60700.0</td>\n",
       "      <td>87000.0</td>\n",
       "      <td>Year</td>\n",
       "      <td>Y</td>\n",
       "      <td>N</td>\n",
       "      <td>IN</td>\n",
       "      <td>46240</td>\n",
       "      <td>1</td>\n",
       "    </tr>\n",
       "    <tr>\n",
       "      <td>9998</td>\n",
       "      <td>5</td>\n",
       "      <td>10</td>\n",
       "      <td>2016</td>\n",
       "      <td>12</td>\n",
       "      <td>10</td>\n",
       "      <td>2016</td>\n",
       "      <td>H1B</td>\n",
       "      <td>TATA CONSULTANCY SERVICES LIMITED</td>\n",
       "      <td>MD</td>\n",
       "      <td>UNITED STATES OF AMERICA</td>\n",
       "      <td>...</td>\n",
       "      <td>2016.0</td>\n",
       "      <td>OFLC ONLINE DATA CENTER</td>\n",
       "      <td>68557.0</td>\n",
       "      <td>94500.0</td>\n",
       "      <td>Year</td>\n",
       "      <td>Y</td>\n",
       "      <td>N</td>\n",
       "      <td>MN</td>\n",
       "      <td>55423</td>\n",
       "      <td>1</td>\n",
       "    </tr>\n",
       "    <tr>\n",
       "      <td>9999</td>\n",
       "      <td>5</td>\n",
       "      <td>10</td>\n",
       "      <td>2016</td>\n",
       "      <td>12</td>\n",
       "      <td>10</td>\n",
       "      <td>2016</td>\n",
       "      <td>H1B</td>\n",
       "      <td>TATA CONSULTANCY SERVICES LIMITED</td>\n",
       "      <td>MD</td>\n",
       "      <td>UNITED STATES OF AMERICA</td>\n",
       "      <td>...</td>\n",
       "      <td>2016.0</td>\n",
       "      <td>OFLC ONLINE DATA CENTER</td>\n",
       "      <td>67891.0</td>\n",
       "      <td>87000.0</td>\n",
       "      <td>Year</td>\n",
       "      <td>Y</td>\n",
       "      <td>N</td>\n",
       "      <td>TX</td>\n",
       "      <td>75039</td>\n",
       "      <td>1</td>\n",
       "    </tr>\n",
       "  </tbody>\n",
       "</table>\n",
       "<p>10000 rows × 27 columns</p>\n",
       "</div>"
      ],
      "text/plain": [
       "      CASE_SUBMITTED_DAY  CASE_SUBMITTED_MONTH  CASE_SUBMITTED_YEAR  \\\n",
       "0                     24                     2                 2016   \n",
       "1                      4                     3                 2016   \n",
       "2                     10                     3                 2016   \n",
       "3                     28                     9                 2016   \n",
       "4                     22                     2                 2015   \n",
       "...                  ...                   ...                  ...   \n",
       "9995                   5                    10                 2016   \n",
       "9996                   5                    10                 2016   \n",
       "9997                   5                    10                 2016   \n",
       "9998                   5                    10                 2016   \n",
       "9999                   5                    10                 2016   \n",
       "\n",
       "      DECISION_DAY  DECISION_MONTH  DECISION_YEAR VISA_CLASS  \\\n",
       "0                1              10           2016        H1B   \n",
       "1                1              10           2016        H1B   \n",
       "2                1              10           2016        H1B   \n",
       "3                1              10           2016        H1B   \n",
       "4                2              10           2016        H1B   \n",
       "...            ...             ...            ...        ...   \n",
       "9995            12              10           2016        H1B   \n",
       "9996            12              10           2016        H1B   \n",
       "9997            12              10           2016        H1B   \n",
       "9998            12              10           2016        H1B   \n",
       "9999            12              10           2016        H1B   \n",
       "\n",
       "                          EMPLOYER_NAME EMPLOYER_STATE  \\\n",
       "0                 DISCOVER PRODUCTS INC             IL   \n",
       "1                      DFS SERVICES LLC             IL   \n",
       "2             EASTBANC TECHNOLOGIES LLC             DC   \n",
       "3                     INFO SERVICES LLC             MI   \n",
       "4                    BBandT CORPORATION             NC   \n",
       "...                                 ...            ...   \n",
       "9995  TATA CONSULTANCY SERVICES LIMITED             MD   \n",
       "9996  TATA CONSULTANCY SERVICES LIMITED             MD   \n",
       "9997  TATA CONSULTANCY SERVICES LIMITED             MD   \n",
       "9998  TATA CONSULTANCY SERVICES LIMITED             MD   \n",
       "9999  TATA CONSULTANCY SERVICES LIMITED             MD   \n",
       "\n",
       "              EMPLOYER_COUNTRY  ... PW_SOURCE_YEAR  \\\n",
       "0     UNITED STATES OF AMERICA  ...         2015.0   \n",
       "1     UNITED STATES OF AMERICA  ...         2015.0   \n",
       "2     UNITED STATES OF AMERICA  ...         2015.0   \n",
       "3     UNITED STATES OF AMERICA  ...         2016.0   \n",
       "4     UNITED STATES OF AMERICA  ...         2015.0   \n",
       "...                        ...  ...            ...   \n",
       "9995  UNITED STATES OF AMERICA  ...         2016.0   \n",
       "9996  UNITED STATES OF AMERICA  ...         2016.0   \n",
       "9997  UNITED STATES OF AMERICA  ...         2016.0   \n",
       "9998  UNITED STATES OF AMERICA  ...         2016.0   \n",
       "9999  UNITED STATES OF AMERICA  ...         2016.0   \n",
       "\n",
       "                  PW_SOURCE_OTHER  WAGE_RATE_OF_PAY_FROM WAGE_RATE_OF_PAY_TO  \\\n",
       "0         OFLC ONLINE DATA CENTER                65811.0             67320.0   \n",
       "1     WILLIS TOWERS WATSON SURVEY                53000.0             57200.0   \n",
       "2         OFLC ONLINE DATA CENTER                77000.0                 0.0   \n",
       "3         OFLC ONLINE DATA CENTER               102000.0                 0.0   \n",
       "4         OFLC ONLINE DATA CENTER               132500.0                 0.0   \n",
       "...                           ...                    ...                 ...   \n",
       "9995      OFLC ONLINE DATA CENTER                74173.0             94500.0   \n",
       "9996      OFLC ONLINE DATA CENTER                65645.0             86000.0   \n",
       "9997      OFLC ONLINE DATA CENTER                60700.0             87000.0   \n",
       "9998      OFLC ONLINE DATA CENTER                68557.0             94500.0   \n",
       "9999      OFLC ONLINE DATA CENTER                67891.0             87000.0   \n",
       "\n",
       "      WAGE_UNIT_OF_PAY H-1B_DEPENDENT WILLFUL_VIOLATOR  WORKSITE_STATE  \\\n",
       "0                 Year              N                N              IL   \n",
       "1                 Year              N                N              IL   \n",
       "2                 Year              Y                N              DC   \n",
       "3                 Year              Y                N              NJ   \n",
       "4                 Year              N                N              NY   \n",
       "...                ...            ...              ...             ...   \n",
       "9995              Year              Y                N              IL   \n",
       "9996              Year              Y                N              NJ   \n",
       "9997              Year              Y                N              IN   \n",
       "9998              Year              Y                N              MN   \n",
       "9999              Year              Y                N              TX   \n",
       "\n",
       "     WORKSITE_POSTAL_CODE  CASE_STATUS  \n",
       "0                   60015            0  \n",
       "1                   60015            0  \n",
       "2                   20007            0  \n",
       "3                    7302            2  \n",
       "4                   10036            0  \n",
       "...                   ...          ...  \n",
       "9995                60173            1  \n",
       "9996                 7310            1  \n",
       "9997                46240            1  \n",
       "9998                55423            1  \n",
       "9999                75039            1  \n",
       "\n",
       "[10000 rows x 27 columns]"
      ]
     },
     "execution_count": 16,
     "metadata": {},
     "output_type": "execute_result"
    }
   ],
   "source": [
    "data1"
   ]
  },
  {
   "cell_type": "code",
   "execution_count": 17,
   "metadata": {},
   "outputs": [],
   "source": [
    "x=data1.iloc[:,6:27]"
   ]
  },
  {
   "cell_type": "code",
   "execution_count": 44,
   "metadata": {},
   "outputs": [
    {
     "data": {
      "text/html": [
       "<div>\n",
       "<style scoped>\n",
       "    .dataframe tbody tr th:only-of-type {\n",
       "        vertical-align: middle;\n",
       "    }\n",
       "\n",
       "    .dataframe tbody tr th {\n",
       "        vertical-align: top;\n",
       "    }\n",
       "\n",
       "    .dataframe thead th {\n",
       "        text-align: right;\n",
       "    }\n",
       "</style>\n",
       "<table border=\"1\" class=\"dataframe\">\n",
       "  <thead>\n",
       "    <tr style=\"text-align: right;\">\n",
       "      <th></th>\n",
       "      <th>VISA_CLASS</th>\n",
       "      <th>EMPLOYER_NAME</th>\n",
       "      <th>EMPLOYER_STATE</th>\n",
       "      <th>EMPLOYER_COUNTRY</th>\n",
       "      <th>SOC_NAME</th>\n",
       "      <th>NAICS_CODE</th>\n",
       "      <th>TOTAL_WORKERS</th>\n",
       "      <th>FULL_TIME_POSITION</th>\n",
       "      <th>PREVAILING_WAGE</th>\n",
       "      <th>PW_UNIT_OF_PAY</th>\n",
       "      <th>...</th>\n",
       "      <th>PW_SOURCE_YEAR</th>\n",
       "      <th>PW_SOURCE_OTHER</th>\n",
       "      <th>WAGE_RATE_OF_PAY_FROM</th>\n",
       "      <th>WAGE_RATE_OF_PAY_TO</th>\n",
       "      <th>WAGE_UNIT_OF_PAY</th>\n",
       "      <th>H-1B_DEPENDENT</th>\n",
       "      <th>WILLFUL_VIOLATOR</th>\n",
       "      <th>WORKSITE_STATE</th>\n",
       "      <th>WORKSITE_POSTAL_CODE</th>\n",
       "      <th>CASE_STATUS</th>\n",
       "    </tr>\n",
       "  </thead>\n",
       "  <tbody>\n",
       "    <tr>\n",
       "      <td>0</td>\n",
       "      <td>H1B</td>\n",
       "      <td>DISCOVER PRODUCTS INC</td>\n",
       "      <td>IL</td>\n",
       "      <td>UNITED STATES OF AMERICA</td>\n",
       "      <td>ANALYSTS</td>\n",
       "      <td>522210</td>\n",
       "      <td>1</td>\n",
       "      <td>Y</td>\n",
       "      <td>59197.0</td>\n",
       "      <td>Year</td>\n",
       "      <td>...</td>\n",
       "      <td>2015.0</td>\n",
       "      <td>OFLC ONLINE DATA CENTER</td>\n",
       "      <td>65811.0</td>\n",
       "      <td>67320.0</td>\n",
       "      <td>Year</td>\n",
       "      <td>N</td>\n",
       "      <td>N</td>\n",
       "      <td>IL</td>\n",
       "      <td>60015</td>\n",
       "      <td>0</td>\n",
       "    </tr>\n",
       "    <tr>\n",
       "      <td>1</td>\n",
       "      <td>H1B</td>\n",
       "      <td>DFS SERVICES LLC</td>\n",
       "      <td>IL</td>\n",
       "      <td>UNITED STATES OF AMERICA</td>\n",
       "      <td>ANALYSTS</td>\n",
       "      <td>522210</td>\n",
       "      <td>1</td>\n",
       "      <td>Y</td>\n",
       "      <td>49800.0</td>\n",
       "      <td>Year</td>\n",
       "      <td>...</td>\n",
       "      <td>2015.0</td>\n",
       "      <td>WILLIS TOWERS WATSON SURVEY</td>\n",
       "      <td>53000.0</td>\n",
       "      <td>57200.0</td>\n",
       "      <td>Year</td>\n",
       "      <td>N</td>\n",
       "      <td>N</td>\n",
       "      <td>IL</td>\n",
       "      <td>60015</td>\n",
       "      <td>0</td>\n",
       "    </tr>\n",
       "    <tr>\n",
       "      <td>2</td>\n",
       "      <td>H1B</td>\n",
       "      <td>EASTBANC TECHNOLOGIES LLC</td>\n",
       "      <td>DC</td>\n",
       "      <td>UNITED STATES OF AMERICA</td>\n",
       "      <td>ANALYSTS</td>\n",
       "      <td>541511</td>\n",
       "      <td>2</td>\n",
       "      <td>Y</td>\n",
       "      <td>76502.0</td>\n",
       "      <td>Year</td>\n",
       "      <td>...</td>\n",
       "      <td>2015.0</td>\n",
       "      <td>OFLC ONLINE DATA CENTER</td>\n",
       "      <td>77000.0</td>\n",
       "      <td>0.0</td>\n",
       "      <td>Year</td>\n",
       "      <td>Y</td>\n",
       "      <td>N</td>\n",
       "      <td>DC</td>\n",
       "      <td>20007</td>\n",
       "      <td>0</td>\n",
       "    </tr>\n",
       "    <tr>\n",
       "      <td>3</td>\n",
       "      <td>H1B</td>\n",
       "      <td>INFO SERVICES LLC</td>\n",
       "      <td>MI</td>\n",
       "      <td>UNITED STATES OF AMERICA</td>\n",
       "      <td>COMPUTER OCCUPATION</td>\n",
       "      <td>541511</td>\n",
       "      <td>1</td>\n",
       "      <td>Y</td>\n",
       "      <td>90376.0</td>\n",
       "      <td>Year</td>\n",
       "      <td>...</td>\n",
       "      <td>2016.0</td>\n",
       "      <td>OFLC ONLINE DATA CENTER</td>\n",
       "      <td>102000.0</td>\n",
       "      <td>0.0</td>\n",
       "      <td>Year</td>\n",
       "      <td>Y</td>\n",
       "      <td>N</td>\n",
       "      <td>NJ</td>\n",
       "      <td>7302</td>\n",
       "      <td>2</td>\n",
       "    </tr>\n",
       "    <tr>\n",
       "      <td>4</td>\n",
       "      <td>H1B</td>\n",
       "      <td>BBandT CORPORATION</td>\n",
       "      <td>NC</td>\n",
       "      <td>UNITED STATES OF AMERICA</td>\n",
       "      <td>ANALYSTS</td>\n",
       "      <td>522110</td>\n",
       "      <td>1</td>\n",
       "      <td>Y</td>\n",
       "      <td>116605.0</td>\n",
       "      <td>Year</td>\n",
       "      <td>...</td>\n",
       "      <td>2015.0</td>\n",
       "      <td>OFLC ONLINE DATA CENTER</td>\n",
       "      <td>132500.0</td>\n",
       "      <td>0.0</td>\n",
       "      <td>Year</td>\n",
       "      <td>N</td>\n",
       "      <td>N</td>\n",
       "      <td>NY</td>\n",
       "      <td>10036</td>\n",
       "      <td>0</td>\n",
       "    </tr>\n",
       "    <tr>\n",
       "      <td>...</td>\n",
       "      <td>...</td>\n",
       "      <td>...</td>\n",
       "      <td>...</td>\n",
       "      <td>...</td>\n",
       "      <td>...</td>\n",
       "      <td>...</td>\n",
       "      <td>...</td>\n",
       "      <td>...</td>\n",
       "      <td>...</td>\n",
       "      <td>...</td>\n",
       "      <td>...</td>\n",
       "      <td>...</td>\n",
       "      <td>...</td>\n",
       "      <td>...</td>\n",
       "      <td>...</td>\n",
       "      <td>...</td>\n",
       "      <td>...</td>\n",
       "      <td>...</td>\n",
       "      <td>...</td>\n",
       "      <td>...</td>\n",
       "      <td>...</td>\n",
       "    </tr>\n",
       "    <tr>\n",
       "      <td>9995</td>\n",
       "      <td>H1B</td>\n",
       "      <td>TATA CONSULTANCY SERVICES LIMITED</td>\n",
       "      <td>MD</td>\n",
       "      <td>UNITED STATES OF AMERICA</td>\n",
       "      <td>ENGINEERS</td>\n",
       "      <td>541511</td>\n",
       "      <td>1</td>\n",
       "      <td>Y</td>\n",
       "      <td>74173.0</td>\n",
       "      <td>Year</td>\n",
       "      <td>...</td>\n",
       "      <td>2016.0</td>\n",
       "      <td>OFLC ONLINE DATA CENTER</td>\n",
       "      <td>74173.0</td>\n",
       "      <td>94500.0</td>\n",
       "      <td>Year</td>\n",
       "      <td>Y</td>\n",
       "      <td>N</td>\n",
       "      <td>IL</td>\n",
       "      <td>60173</td>\n",
       "      <td>1</td>\n",
       "    </tr>\n",
       "    <tr>\n",
       "      <td>9996</td>\n",
       "      <td>H1B</td>\n",
       "      <td>TATA CONSULTANCY SERVICES LIMITED</td>\n",
       "      <td>MD</td>\n",
       "      <td>UNITED STATES OF AMERICA</td>\n",
       "      <td>ENGINEERS</td>\n",
       "      <td>541511</td>\n",
       "      <td>1</td>\n",
       "      <td>Y</td>\n",
       "      <td>65645.0</td>\n",
       "      <td>Year</td>\n",
       "      <td>...</td>\n",
       "      <td>2016.0</td>\n",
       "      <td>OFLC ONLINE DATA CENTER</td>\n",
       "      <td>65645.0</td>\n",
       "      <td>86000.0</td>\n",
       "      <td>Year</td>\n",
       "      <td>Y</td>\n",
       "      <td>N</td>\n",
       "      <td>NJ</td>\n",
       "      <td>7310</td>\n",
       "      <td>1</td>\n",
       "    </tr>\n",
       "    <tr>\n",
       "      <td>9997</td>\n",
       "      <td>H1B</td>\n",
       "      <td>TATA CONSULTANCY SERVICES LIMITED</td>\n",
       "      <td>MD</td>\n",
       "      <td>UNITED STATES OF AMERICA</td>\n",
       "      <td>ENGINEERS</td>\n",
       "      <td>541511</td>\n",
       "      <td>1</td>\n",
       "      <td>Y</td>\n",
       "      <td>59322.0</td>\n",
       "      <td>Year</td>\n",
       "      <td>...</td>\n",
       "      <td>2016.0</td>\n",
       "      <td>OFLC ONLINE DATA CENTER</td>\n",
       "      <td>60700.0</td>\n",
       "      <td>87000.0</td>\n",
       "      <td>Year</td>\n",
       "      <td>Y</td>\n",
       "      <td>N</td>\n",
       "      <td>IN</td>\n",
       "      <td>46240</td>\n",
       "      <td>1</td>\n",
       "    </tr>\n",
       "    <tr>\n",
       "      <td>9998</td>\n",
       "      <td>H1B</td>\n",
       "      <td>TATA CONSULTANCY SERVICES LIMITED</td>\n",
       "      <td>MD</td>\n",
       "      <td>UNITED STATES OF AMERICA</td>\n",
       "      <td>ENGINEERS</td>\n",
       "      <td>541511</td>\n",
       "      <td>1</td>\n",
       "      <td>Y</td>\n",
       "      <td>68557.0</td>\n",
       "      <td>Year</td>\n",
       "      <td>...</td>\n",
       "      <td>2016.0</td>\n",
       "      <td>OFLC ONLINE DATA CENTER</td>\n",
       "      <td>68557.0</td>\n",
       "      <td>94500.0</td>\n",
       "      <td>Year</td>\n",
       "      <td>Y</td>\n",
       "      <td>N</td>\n",
       "      <td>MN</td>\n",
       "      <td>55423</td>\n",
       "      <td>1</td>\n",
       "    </tr>\n",
       "    <tr>\n",
       "      <td>9999</td>\n",
       "      <td>H1B</td>\n",
       "      <td>TATA CONSULTANCY SERVICES LIMITED</td>\n",
       "      <td>MD</td>\n",
       "      <td>UNITED STATES OF AMERICA</td>\n",
       "      <td>ENGINEERS</td>\n",
       "      <td>541511</td>\n",
       "      <td>1</td>\n",
       "      <td>Y</td>\n",
       "      <td>67891.0</td>\n",
       "      <td>Year</td>\n",
       "      <td>...</td>\n",
       "      <td>2016.0</td>\n",
       "      <td>OFLC ONLINE DATA CENTER</td>\n",
       "      <td>67891.0</td>\n",
       "      <td>87000.0</td>\n",
       "      <td>Year</td>\n",
       "      <td>Y</td>\n",
       "      <td>N</td>\n",
       "      <td>TX</td>\n",
       "      <td>75039</td>\n",
       "      <td>1</td>\n",
       "    </tr>\n",
       "  </tbody>\n",
       "</table>\n",
       "<p>10000 rows × 21 columns</p>\n",
       "</div>"
      ],
      "text/plain": [
       "     VISA_CLASS                      EMPLOYER_NAME EMPLOYER_STATE  \\\n",
       "0           H1B              DISCOVER PRODUCTS INC             IL   \n",
       "1           H1B                   DFS SERVICES LLC             IL   \n",
       "2           H1B          EASTBANC TECHNOLOGIES LLC             DC   \n",
       "3           H1B                  INFO SERVICES LLC             MI   \n",
       "4           H1B                 BBandT CORPORATION             NC   \n",
       "...         ...                                ...            ...   \n",
       "9995        H1B  TATA CONSULTANCY SERVICES LIMITED             MD   \n",
       "9996        H1B  TATA CONSULTANCY SERVICES LIMITED             MD   \n",
       "9997        H1B  TATA CONSULTANCY SERVICES LIMITED             MD   \n",
       "9998        H1B  TATA CONSULTANCY SERVICES LIMITED             MD   \n",
       "9999        H1B  TATA CONSULTANCY SERVICES LIMITED             MD   \n",
       "\n",
       "              EMPLOYER_COUNTRY             SOC_NAME  NAICS_CODE  \\\n",
       "0     UNITED STATES OF AMERICA             ANALYSTS      522210   \n",
       "1     UNITED STATES OF AMERICA             ANALYSTS      522210   \n",
       "2     UNITED STATES OF AMERICA             ANALYSTS      541511   \n",
       "3     UNITED STATES OF AMERICA  COMPUTER OCCUPATION      541511   \n",
       "4     UNITED STATES OF AMERICA             ANALYSTS      522110   \n",
       "...                        ...                  ...         ...   \n",
       "9995  UNITED STATES OF AMERICA            ENGINEERS      541511   \n",
       "9996  UNITED STATES OF AMERICA            ENGINEERS      541511   \n",
       "9997  UNITED STATES OF AMERICA            ENGINEERS      541511   \n",
       "9998  UNITED STATES OF AMERICA            ENGINEERS      541511   \n",
       "9999  UNITED STATES OF AMERICA            ENGINEERS      541511   \n",
       "\n",
       "      TOTAL_WORKERS FULL_TIME_POSITION  PREVAILING_WAGE PW_UNIT_OF_PAY  ...  \\\n",
       "0                 1                  Y          59197.0           Year  ...   \n",
       "1                 1                  Y          49800.0           Year  ...   \n",
       "2                 2                  Y          76502.0           Year  ...   \n",
       "3                 1                  Y          90376.0           Year  ...   \n",
       "4                 1                  Y         116605.0           Year  ...   \n",
       "...             ...                ...              ...            ...  ...   \n",
       "9995              1                  Y          74173.0           Year  ...   \n",
       "9996              1                  Y          65645.0           Year  ...   \n",
       "9997              1                  Y          59322.0           Year  ...   \n",
       "9998              1                  Y          68557.0           Year  ...   \n",
       "9999              1                  Y          67891.0           Year  ...   \n",
       "\n",
       "     PW_SOURCE_YEAR              PW_SOURCE_OTHER WAGE_RATE_OF_PAY_FROM  \\\n",
       "0            2015.0      OFLC ONLINE DATA CENTER               65811.0   \n",
       "1            2015.0  WILLIS TOWERS WATSON SURVEY               53000.0   \n",
       "2            2015.0      OFLC ONLINE DATA CENTER               77000.0   \n",
       "3            2016.0      OFLC ONLINE DATA CENTER              102000.0   \n",
       "4            2015.0      OFLC ONLINE DATA CENTER              132500.0   \n",
       "...             ...                          ...                   ...   \n",
       "9995         2016.0      OFLC ONLINE DATA CENTER               74173.0   \n",
       "9996         2016.0      OFLC ONLINE DATA CENTER               65645.0   \n",
       "9997         2016.0      OFLC ONLINE DATA CENTER               60700.0   \n",
       "9998         2016.0      OFLC ONLINE DATA CENTER               68557.0   \n",
       "9999         2016.0      OFLC ONLINE DATA CENTER               67891.0   \n",
       "\n",
       "      WAGE_RATE_OF_PAY_TO  WAGE_UNIT_OF_PAY H-1B_DEPENDENT WILLFUL_VIOLATOR  \\\n",
       "0                 67320.0              Year              N                N   \n",
       "1                 57200.0              Year              N                N   \n",
       "2                     0.0              Year              Y                N   \n",
       "3                     0.0              Year              Y                N   \n",
       "4                     0.0              Year              N                N   \n",
       "...                   ...               ...            ...              ...   \n",
       "9995              94500.0              Year              Y                N   \n",
       "9996              86000.0              Year              Y                N   \n",
       "9997              87000.0              Year              Y                N   \n",
       "9998              94500.0              Year              Y                N   \n",
       "9999              87000.0              Year              Y                N   \n",
       "\n",
       "     WORKSITE_STATE WORKSITE_POSTAL_CODE  CASE_STATUS  \n",
       "0                IL                60015            0  \n",
       "1                IL                60015            0  \n",
       "2                DC                20007            0  \n",
       "3                NJ                 7302            2  \n",
       "4                NY                10036            0  \n",
       "...             ...                  ...          ...  \n",
       "9995             IL                60173            1  \n",
       "9996             NJ                 7310            1  \n",
       "9997             IN                46240            1  \n",
       "9998             MN                55423            1  \n",
       "9999             TX                75039            1  \n",
       "\n",
       "[10000 rows x 21 columns]"
      ]
     },
     "execution_count": 44,
     "metadata": {},
     "output_type": "execute_result"
    }
   ],
   "source": [
    "x"
   ]
  },
  {
   "cell_type": "code",
   "execution_count": 18,
   "metadata": {},
   "outputs": [],
   "source": [
    "x=data1.iloc[:,6:27].values\n",
    "y=data1.iloc[:, 26].values"
   ]
  },
  {
   "cell_type": "code",
   "execution_count": 19,
   "metadata": {},
   "outputs": [
    {
     "data": {
      "text/plain": [
       "array([['H1B', 'DISCOVER PRODUCTS INC', 'IL', ..., 'IL', 60015, 0],\n",
       "       ['H1B', 'DFS SERVICES LLC', 'IL', ..., 'IL', 60015, 0],\n",
       "       ['H1B', 'EASTBANC TECHNOLOGIES LLC', 'DC', ..., 'DC', 20007, 0],\n",
       "       ...,\n",
       "       ['H1B', 'TATA CONSULTANCY SERVICES LIMITED', 'MD', ..., 'IN',\n",
       "        46240, 1],\n",
       "       ['H1B', 'TATA CONSULTANCY SERVICES LIMITED', 'MD', ..., 'MN',\n",
       "        55423, 1],\n",
       "       ['H1B', 'TATA CONSULTANCY SERVICES LIMITED', 'MD', ..., 'TX',\n",
       "        75039, 1]], dtype=object)"
      ]
     },
     "execution_count": 19,
     "metadata": {},
     "output_type": "execute_result"
    }
   ],
   "source": [
    "x"
   ]
  },
  {
   "cell_type": "code",
   "execution_count": 20,
   "metadata": {},
   "outputs": [
    {
     "data": {
      "text/plain": [
       "array([0, 0, 0, ..., 1, 1, 1], dtype=int64)"
      ]
     },
     "execution_count": 20,
     "metadata": {},
     "output_type": "execute_result"
    }
   ],
   "source": [
    "y"
   ]
  },
  {
   "cell_type": "markdown",
   "metadata": {},
   "source": [
    "# Label Encoding"
   ]
  },
  {
   "cell_type": "code",
   "execution_count": 21,
   "metadata": {},
   "outputs": [],
   "source": [
    "from sklearn.preprocessing import LabelEncoder\n",
    "lb=LabelEncoder()"
   ]
  },
  {
   "cell_type": "code",
   "execution_count": 22,
   "metadata": {},
   "outputs": [],
   "source": [
    "x[:,0]=lb.fit_transform(x[:,0]) #visa class\n",
    "x[:,1]=lb.fit_transform(x[:,1]) #employer name\n",
    "x[:,2]=lb.fit_transform(x[:,2]) #employer state\n",
    "x[:,3]=lb.fit_transform(x[:,3]) #employer country\n",
    "x[:,4]=lb.fit_transform(x[:,4]) #soc_name\n",
    "\n",
    "x[:,-3]=lb.fit_transform(x[:,-3]) #worksite state\n",
    "x[:,-4]=lb.fit_transform(x[:,-4])#willfull violator\n",
    "x[:,-5]=lb.fit_transform(x[:,-5])#h1b dependent\n",
    "x[:,7]=lb.fit_transform(x[:,7]) #full time position\n",
    "x[:,9]=lb.fit_transform(x[:,9]) #pw unit of pay\n",
    "x[:,10]=lb.fit_transform(x[:,10]) #pw source\n",
    "x[:,12]=lb.fit_transform(x[:,12]) #pw source other\n",
    "x[:,15]=lb.fit_transform(x[:,15]) #wage unit of pay"
   ]
  },
  {
   "cell_type": "code",
   "execution_count": 23,
   "metadata": {},
   "outputs": [
    {
     "data": {
      "text/plain": [
       "array([[1, 948, 15, ..., 15, 60015, 0],\n",
       "       [1, 924, 15, ..., 15, 60015, 0],\n",
       "       [1, 1002, 7, ..., 7, 20007, 0],\n",
       "       ...,\n",
       "       [1, 3242, 21, ..., 16, 46240, 1],\n",
       "       [1, 3242, 21, ..., 24, 55423, 1],\n",
       "       [1, 3242, 21, ..., 46, 75039, 1]], dtype=object)"
      ]
     },
     "execution_count": 23,
     "metadata": {},
     "output_type": "execute_result"
    }
   ],
   "source": [
    "x"
   ]
  },
  {
   "cell_type": "code",
   "execution_count": 51,
   "metadata": {},
   "outputs": [
    {
     "data": {
      "text/plain": [
       "array([0, 2, 1, 3], dtype=int64)"
      ]
     },
     "execution_count": 51,
     "metadata": {},
     "output_type": "execute_result"
    }
   ],
   "source": [
    "data1['CASE_STATUS'].unique()"
   ]
  },
  {
   "cell_type": "markdown",
   "metadata": {},
   "source": [
    "# One-Hot Encoding"
   ]
  },
  {
   "cell_type": "code",
   "execution_count": 24,
   "metadata": {},
   "outputs": [
    {
     "name": "stderr",
     "output_type": "stream",
     "text": [
      "C:\\ProgramData\\Anaconda3\\lib\\site-packages\\sklearn\\preprocessing\\_encoders.py:415: FutureWarning: The handling of integer data will change in version 0.22. Currently, the categories are determined based on the range [0, max(values)], while in the future they will be determined based on the unique values.\n",
      "If you want the future behaviour and silence this warning, you can specify \"categories='auto'\".\n",
      "In case you used a LabelEncoder before this OneHotEncoder to convert the categories to integers, then you can now use the OneHotEncoder directly.\n",
      "  warnings.warn(msg, FutureWarning)\n",
      "C:\\ProgramData\\Anaconda3\\lib\\site-packages\\sklearn\\preprocessing\\_encoders.py:451: DeprecationWarning: The 'categorical_features' keyword is deprecated in version 0.20 and will be removed in 0.22. You can use the ColumnTransformer instead.\n",
      "  \"use the ColumnTransformer instead.\", DeprecationWarning)\n"
     ]
    }
   ],
   "source": [
    "from sklearn.preprocessing import OneHotEncoder\n",
    "oh=OneHotEncoder(categorical_features=[0])\n",
    "x=oh.fit_transform(x).toarray()  "
   ]
  },
  {
   "cell_type": "code",
   "execution_count": 25,
   "metadata": {},
   "outputs": [
    {
     "data": {
      "text/plain": [
       "array([[0.0000e+00, 1.0000e+00, 0.0000e+00, ..., 1.5000e+01, 6.0015e+04,\n",
       "        0.0000e+00],\n",
       "       [0.0000e+00, 1.0000e+00, 0.0000e+00, ..., 1.5000e+01, 6.0015e+04,\n",
       "        0.0000e+00],\n",
       "       [0.0000e+00, 1.0000e+00, 0.0000e+00, ..., 7.0000e+00, 2.0007e+04,\n",
       "        0.0000e+00],\n",
       "       ...,\n",
       "       [0.0000e+00, 1.0000e+00, 0.0000e+00, ..., 1.6000e+01, 4.6240e+04,\n",
       "        1.0000e+00],\n",
       "       [0.0000e+00, 1.0000e+00, 0.0000e+00, ..., 2.4000e+01, 5.5423e+04,\n",
       "        1.0000e+00],\n",
       "       [0.0000e+00, 1.0000e+00, 0.0000e+00, ..., 4.6000e+01, 7.5039e+04,\n",
       "        1.0000e+00]])"
      ]
     },
     "execution_count": 25,
     "metadata": {},
     "output_type": "execute_result"
    }
   ],
   "source": [
    "x"
   ]
  },
  {
   "cell_type": "code",
   "execution_count": 26,
   "metadata": {},
   "outputs": [],
   "source": [
    "x=x[:,1:]"
   ]
  },
  {
   "cell_type": "code",
   "execution_count": 27,
   "metadata": {},
   "outputs": [
    {
     "data": {
      "text/plain": [
       "array([1.0000e+00, 0.0000e+00, 0.0000e+00, 9.2400e+02, 1.5000e+01,\n",
       "       0.0000e+00, 3.0000e+00, 5.2221e+05, 1.0000e+00, 1.0000e+00,\n",
       "       4.9800e+04, 4.0000e+00, 3.0000e+00, 2.0150e+03, 3.1000e+01,\n",
       "       5.3000e+04, 5.7200e+04, 4.0000e+00, 0.0000e+00, 0.0000e+00,\n",
       "       1.5000e+01, 6.0015e+04, 0.0000e+00])"
      ]
     },
     "execution_count": 27,
     "metadata": {},
     "output_type": "execute_result"
    }
   ],
   "source": [
    "x[1,:]"
   ]
  },
  {
   "cell_type": "markdown",
   "metadata": {},
   "source": [
    "# Splitting the data"
   ]
  },
  {
   "cell_type": "code",
   "execution_count": 28,
   "metadata": {},
   "outputs": [],
   "source": [
    "from sklearn.model_selection import train_test_split\n",
    "x_train,x_test,y_train,y_test=train_test_split(x,y,test_size=0.2)"
   ]
  },
  {
   "cell_type": "code",
   "execution_count": 29,
   "metadata": {},
   "outputs": [
    {
     "data": {
      "text/plain": [
       "array([[1.0000e+00, 0.0000e+00, 0.0000e+00, ..., 1.5000e+01, 6.1704e+04,\n",
       "        1.0000e+00],\n",
       "       [1.0000e+00, 0.0000e+00, 0.0000e+00, ..., 4.0000e+00, 9.5134e+04,\n",
       "        1.0000e+00],\n",
       "       [1.0000e+00, 0.0000e+00, 0.0000e+00, ..., 1.6000e+01, 4.6216e+04,\n",
       "        1.0000e+00],\n",
       "       ...,\n",
       "       [0.0000e+00, 0.0000e+00, 0.0000e+00, ..., 3.6000e+01, 1.0016e+04,\n",
       "        3.0000e+00],\n",
       "       [1.0000e+00, 0.0000e+00, 0.0000e+00, ..., 3.3000e+01, 8.5400e+03,\n",
       "        1.0000e+00],\n",
       "       [1.0000e+00, 0.0000e+00, 0.0000e+00, ..., 3.3000e+01, 7.0800e+03,\n",
       "        1.0000e+00]])"
      ]
     },
     "execution_count": 29,
     "metadata": {},
     "output_type": "execute_result"
    }
   ],
   "source": [
    "x_test"
   ]
  },
  {
   "cell_type": "code",
   "execution_count": 30,
   "metadata": {},
   "outputs": [
    {
     "data": {
      "text/plain": [
       "array([1, 1, 1, ..., 3, 1, 1])"
      ]
     },
     "execution_count": 30,
     "metadata": {},
     "output_type": "execute_result"
    }
   ],
   "source": [
    "y_test = y_test.astype('int')\n",
    "y_test"
   ]
  },
  {
   "cell_type": "markdown",
   "metadata": {},
   "source": [
    "# Feature Scaling"
   ]
  },
  {
   "cell_type": "code",
   "execution_count": 82,
   "metadata": {},
   "outputs": [],
   "source": [
    "from sklearn.preprocessing import StandardScaler\n",
    "scaler= StandardScaler()\n",
    "\n",
    "x_train =scaler.fit_transform(x_train)\n",
    "x_test = scaler.transform(x_test)"
   ]
  },
  {
   "cell_type": "markdown",
   "metadata": {},
   "source": [
    "# KNN"
   ]
  },
  {
   "cell_type": "code",
   "execution_count": 32,
   "metadata": {},
   "outputs": [
    {
     "data": {
      "text/plain": [
       "KNeighborsClassifier(algorithm='auto', leaf_size=30, metric='minkowski',\n",
       "                     metric_params=None, n_jobs=None, n_neighbors=5, p=2,\n",
       "                     weights='uniform')"
      ]
     },
     "execution_count": 32,
     "metadata": {},
     "output_type": "execute_result"
    }
   ],
   "source": [
    "#Fitting Classifier to the Training set\n",
    "from sklearn import model_selection, neighbors\n",
    "clf = neighbors.KNeighborsClassifier()\n",
    "clf.fit(x_train,y_train)"
   ]
  },
  {
   "cell_type": "code",
   "execution_count": 33,
   "metadata": {},
   "outputs": [],
   "source": [
    "#Predict on test data\n",
    "y_pred=clf.predict(x_test)"
   ]
  },
  {
   "cell_type": "code",
   "execution_count": 34,
   "metadata": {},
   "outputs": [
    {
     "name": "stdout",
     "output_type": "stream",
     "text": [
      "Actual case_status : \n",
      "[1 1 1 ... 3 1 1]\n"
     ]
    }
   ],
   "source": [
    "print(\"Actual case_status : \")\n",
    "print(y_test)"
   ]
  },
  {
   "cell_type": "code",
   "execution_count": 35,
   "metadata": {},
   "outputs": [
    {
     "name": "stdout",
     "output_type": "stream",
     "text": [
      "\n",
      "Predicted case_status : \n",
      "[1 1 1 ... 2 1 1]\n"
     ]
    }
   ],
   "source": [
    "print(\"\\nPredicted case_status : \")\n",
    "print(y_pred)"
   ]
  },
  {
   "cell_type": "code",
   "execution_count": 36,
   "metadata": {},
   "outputs": [
    {
     "data": {
      "text/plain": [
       "array([[ 238,   19,    0,    0],\n",
       "       [   0, 1642,    0,    0],\n",
       "       [   0,   12,   59,    0],\n",
       "       [   0,    3,    2,   25]], dtype=int64)"
      ]
     },
     "execution_count": 36,
     "metadata": {},
     "output_type": "execute_result"
    }
   ],
   "source": [
    "#Build confusion matrix on Test and Train\n",
    "from sklearn.metrics import confusion_matrix\n",
    "clf_cm_test = confusion_matrix(y_test,y_pred)\n",
    "clf_cm_test"
   ]
  },
  {
   "cell_type": "code",
   "execution_count": 37,
   "metadata": {},
   "outputs": [],
   "source": [
    "#Obtain accuracy\n",
    "accuracy = clf.score(x_test,y_test)"
   ]
  },
  {
   "cell_type": "code",
   "execution_count": 38,
   "metadata": {},
   "outputs": [
    {
     "name": "stdout",
     "output_type": "stream",
     "text": [
      "0.982\n"
     ]
    }
   ],
   "source": [
    "print(accuracy)"
   ]
  },
  {
   "cell_type": "code",
   "execution_count": 39,
   "metadata": {},
   "outputs": [],
   "source": [
    "#Predict the probability of each test data point\n",
    "#Get the probability distribution\n",
    "probas = clf.predict_proba(x_test)"
   ]
  },
  {
   "cell_type": "code",
   "execution_count": 41,
   "metadata": {},
   "outputs": [
    {
     "data": {
      "image/png": "[encoded data removed]",
      "text/plain": [
       "<Figure size 900x600 with 1 Axes>"
      ]
     },
     "metadata": {
      "needs_background": "light"
     },
     "output_type": "display_data"
    }
   ],
   "source": [
    "#Visualize the probabilities\n",
    "# plot\n",
    "import matplotlib.pyplot as plt\n",
    "plt.figure(dpi=150)\n",
    "plt.hist(probas, bins=20)\n",
    "plt.title('Classification Probabilities')\n",
    "plt.xlabel('Probability')\n",
    "plt.ylabel('# of Instances')\n",
    "plt.xlim([0.5, 1.0])\n",
    "plt.legend(y_test)\n",
    "plt.show()"
   ]
  },
  {
   "cell_type": "code",
   "execution_count": 42,
   "metadata": {},
   "outputs": [
    {
     "name": "stdout",
     "output_type": "stream",
     "text": [
      "\n",
      "Accuracy score: 98.200000\n",
      "Recall score : 98.200000\n",
      "[[ 238   19    0    0]\n",
      " [   0 1642    0    0]\n",
      " [   0   12   59    0]\n",
      " [   0    3    2   25]]\n"
     ]
    }
   ],
   "source": [
    "#Accuracy score on Test and Train\n",
    "from sklearn.metrics import accuracy_score, recall_score, confusion_matrix\n",
    "\n",
    "print(\"\\nAccuracy score: %f\" %(accuracy_score(y_test,y_pred) * 100))\n",
    "print(\"Recall score : %f\" %(recall_score(y_test, y_pred,average='micro') * 100))\n",
    "print(confusion_matrix(y_test, y_pred)) "
   ]
  },
  {
   "cell_type": "markdown",
   "metadata": {},
   "source": [
    "# Support Vector Classification"
   ]
  },
  {
   "cell_type": "code",
   "execution_count": 43,
   "metadata": {},
   "outputs": [
    {
     "name": "stderr",
     "output_type": "stream",
     "text": [
      "C:\\ProgramData\\Anaconda3\\lib\\site-packages\\sklearn\\svm\\base.py:193: FutureWarning: The default value of gamma will change from 'auto' to 'scale' in version 0.22 to account better for unscaled features. Set gamma explicitly to 'auto' or 'scale' to avoid this warning.\n",
      "  \"avoid this warning.\", FutureWarning)\n"
     ]
    }
   ],
   "source": [
    "#Support Vector Classification\n",
    "from sklearn.svm import SVC\n",
    "sc = SVC(kernel='rbf')\n",
    "sc_classifier = sc.fit(x_train,y_train)  #model building "
   ]
  },
  {
   "cell_type": "code",
   "execution_count": 44,
   "metadata": {},
   "outputs": [
    {
     "name": "stdout",
     "output_type": "stream",
     "text": [
      "[1 1 1 ... 3 1 1]\n"
     ]
    }
   ],
   "source": [
    "#Predicting on Test and Train data\n",
    "svc_y_test = sc_classifier.predict(x_test)\n",
    "print(svc_y_test)"
   ]
  },
  {
   "cell_type": "code",
   "execution_count": 45,
   "metadata": {},
   "outputs": [
    {
     "data": {
      "text/plain": [
       "array([[ 256,    1,    0,    0],\n",
       "       [   0, 1642,    0,    0],\n",
       "       [   0,    5,   66,    0],\n",
       "       [   0,    2,    0,   28]], dtype=int64)"
      ]
     },
     "execution_count": 45,
     "metadata": {},
     "output_type": "execute_result"
    }
   ],
   "source": [
    "#Build confusion matrix on test and train\n",
    "from sklearn.metrics import confusion_matrix\n",
    "svc_cm_test = confusion_matrix(y_test,svc_y_test)   \n",
    "svc_cm_test"
   ]
  },
  {
   "cell_type": "code",
   "execution_count": 46,
   "metadata": {},
   "outputs": [
    {
     "data": {
      "text/plain": [
       "0.996"
      ]
     },
     "execution_count": 46,
     "metadata": {},
     "output_type": "execute_result"
    }
   ],
   "source": [
    "#Accuracy classsification score\n",
    "from sklearn.metrics import accuracy_score\n",
    "svc_acc_test=accuracy_score(y_test, svc_y_test)  #for test  \n",
    "svc_acc_test"
   ]
  },
  {
   "cell_type": "code",
   "execution_count": 48,
   "metadata": {},
   "outputs": [
    {
     "name": "stdout",
     "output_type": "stream",
     "text": [
      "0.9960193939393939\n"
     ]
    }
   ],
   "source": [
    "#Precision score on Test and Train\n",
    "from sklearn.metrics import precision_score\n",
    "sv_precision_test= precision_score(y_test, svc_y_test, average='weighted')  \n",
    "print(sv_precision_test)\n"
   ]
  },
  {
   "cell_type": "markdown",
   "metadata": {},
   "source": [
    "# Naibe Bayes Classification"
   ]
  },
  {
   "cell_type": "code",
   "execution_count": 49,
   "metadata": {},
   "outputs": [
    {
     "data": {
      "text/plain": [
       "GaussianNB(priors=None, var_smoothing=1e-09)"
      ]
     },
     "execution_count": 49,
     "metadata": {},
     "output_type": "execute_result"
    }
   ],
   "source": [
    "#Perform Naibe Bayes Classification\n",
    "from sklearn.naive_bayes import GaussianNB\n",
    "nb_classfier =GaussianNB()\n",
    "nb_classfier.fit(x_train, y_train)"
   ]
  },
  {
   "cell_type": "code",
   "execution_count": 50,
   "metadata": {},
   "outputs": [
    {
     "data": {
      "text/plain": [
       "array([1, 1, 1, ..., 3, 1, 1], dtype=int64)"
      ]
     },
     "execution_count": 50,
     "metadata": {},
     "output_type": "execute_result"
    }
   ],
   "source": [
    "#Predicting on Test and Train\n",
    "nb_y_test = nb_classfier.predict(x_test)  #for test\n",
    "nb_y_test"
   ]
  },
  {
   "cell_type": "code",
   "execution_count": 51,
   "metadata": {},
   "outputs": [
    {
     "data": {
      "text/plain": [
       "array([[ 257,    0,    0,    0],\n",
       "       [   0, 1642,    0,    0],\n",
       "       [   0,    0,   71,    0],\n",
       "       [   0,    1,    0,   29]], dtype=int64)"
      ]
     },
     "execution_count": 51,
     "metadata": {},
     "output_type": "execute_result"
    }
   ],
   "source": [
    "#Build confusion matrix on Test and Train\n",
    "from sklearn.metrics import confusion_matrix\n",
    "nb_cm_test = confusion_matrix(y_test,nb_y_test)\n",
    "nb_cm_test"
   ]
  },
  {
   "cell_type": "code",
   "execution_count": 52,
   "metadata": {},
   "outputs": [
    {
     "data": {
      "text/plain": [
       "0.9995"
      ]
     },
     "execution_count": 52,
     "metadata": {},
     "output_type": "execute_result"
    }
   ],
   "source": [
    "#Accuracy score on Test and Train\n",
    "from sklearn.metrics import accuracy_score\n",
    "nb_acc_test=accuracy_score(y_test, nb_y_test)\n",
    "nb_acc_test"
   ]
  },
  {
   "cell_type": "code",
   "execution_count": 54,
   "metadata": {},
   "outputs": [
    {
     "name": "stdout",
     "output_type": "stream",
     "text": [
      "0.9995003043213633\n"
     ]
    }
   ],
   "source": [
    "#Precision score on Test and Train\n",
    "from sklearn.metrics import precision_score\n",
    "\n",
    "nb_precision_test =precision_score(y_test, nb_y_test, average='weighted')  \n",
    "print(nb_precision_test)\n"
   ]
  },
  {
   "cell_type": "markdown",
   "metadata": {},
   "source": [
    "# Logistic Regression"
   ]
  },
  {
   "cell_type": "code",
   "execution_count": 55,
   "metadata": {},
   "outputs": [
    {
     "name": "stderr",
     "output_type": "stream",
     "text": [
      "C:\\ProgramData\\Anaconda3\\lib\\site-packages\\sklearn\\linear_model\\logistic.py:432: FutureWarning: Default solver will be changed to 'lbfgs' in 0.22. Specify a solver to silence this warning.\n",
      "  FutureWarning)\n",
      "C:\\ProgramData\\Anaconda3\\lib\\site-packages\\sklearn\\linear_model\\logistic.py:469: FutureWarning: Default multi_class will be changed to 'auto' in 0.22. Specify the multi_class option to silence this warning.\n",
      "  \"this warning.\", FutureWarning)\n"
     ]
    }
   ],
   "source": [
    "#Perform Logistic Regression\n",
    "from sklearn.linear_model.logistic import LogisticRegression\n",
    "\n",
    "cls =LogisticRegression(random_state =0)\n",
    "\n",
    "lr_cls=cls.fit(x_train, y_train)"
   ]
  },
  {
   "cell_type": "code",
   "execution_count": 56,
   "metadata": {},
   "outputs": [
    {
     "data": {
      "text/plain": [
       "array([1, 1, 1, ..., 3, 1, 1], dtype=int64)"
      ]
     },
     "execution_count": 56,
     "metadata": {},
     "output_type": "execute_result"
    }
   ],
   "source": [
    "#Predicting on test and train data\n",
    "lr_y_test =lr_cls.predict(x_test)\n",
    "lr_y_test"
   ]
  },
  {
   "cell_type": "code",
   "execution_count": 57,
   "metadata": {},
   "outputs": [
    {
     "name": "stdout",
     "output_type": "stream",
     "text": [
      "Actual case_status : \n",
      "[1 1 1 ... 3 1 1]\n"
     ]
    }
   ],
   "source": [
    "print(\"Actual case_status : \")\n",
    "print(y_test)"
   ]
  },
  {
   "cell_type": "code",
   "execution_count": 58,
   "metadata": {},
   "outputs": [
    {
     "name": "stdout",
     "output_type": "stream",
     "text": [
      "\n",
      "Predicted case_status : \n",
      "[1 1 1 ... 3 1 1]\n"
     ]
    }
   ],
   "source": [
    "print(\"\\nPredicted case_status : \")\n",
    "print(lr_y_test)"
   ]
  },
  {
   "cell_type": "code",
   "execution_count": 59,
   "metadata": {},
   "outputs": [
    {
     "name": "stdout",
     "output_type": "stream",
     "text": [
      "\n",
      "Accuracy score: 96.300000\n",
      "Recall score : 96.300000\n",
      "[[ 256    1    0    0]\n",
      " [   0 1635    7    0]\n",
      " [   0   55   16    0]\n",
      " [   0    3    8   19]]\n"
     ]
    }
   ],
   "source": [
    "#Accuracy score on Test and Train\n",
    "from sklearn.metrics import accuracy_score, recall_score, confusion_matrix\n",
    "\n",
    "print(\"\\nAccuracy score: %f\" %(accuracy_score(y_test,lr_y_test) * 100))\n",
    "print(\"Recall score : %f\" %(recall_score(y_test, lr_y_test,average='micro') * 100))\n",
    "print(confusion_matrix(y_test, lr_y_test)) "
   ]
  },
  {
   "cell_type": "code",
   "execution_count": 61,
   "metadata": {},
   "outputs": [
    {
     "name": "stdout",
     "output_type": "stream",
     "text": [
      "0.9542281296416194\n"
     ]
    }
   ],
   "source": [
    "#Precision score on Test and Train\n",
    "from sklearn.metrics import precision_score\n",
    "\n",
    "lr_precision_test =precision_score(y_test, lr_y_test, average='weighted')  \n",
    "print(lr_precision_test)\n"
   ]
  },
  {
   "cell_type": "markdown",
   "metadata": {},
   "source": [
    "# Decision Tree Classifier"
   ]
  },
  {
   "cell_type": "code",
   "execution_count": 62,
   "metadata": {},
   "outputs": [
    {
     "data": {
      "text/plain": [
       "DecisionTreeClassifier(class_weight=None, criterion='gini', max_depth=None,\n",
       "                       max_features=None, max_leaf_nodes=None,\n",
       "                       min_impurity_decrease=0.0, min_impurity_split=None,\n",
       "                       min_samples_leaf=1, min_samples_split=2,\n",
       "                       min_weight_fraction_leaf=0.0, presort=False,\n",
       "                       random_state=None, splitter='best')"
      ]
     },
     "execution_count": 62,
     "metadata": {},
     "output_type": "execute_result"
    }
   ],
   "source": [
    "#Decision Tree Classifier\n",
    "from sklearn.tree import DecisionTreeClassifier\n",
    "\n",
    "dtc_clf = DecisionTreeClassifier()\n",
    "dtc_clf.fit(x_train,y_train)\n"
   ]
  },
  {
   "cell_type": "code",
   "execution_count": 64,
   "metadata": {},
   "outputs": [],
   "source": [
    "import pickle\n",
    "dtc_clf=pickle.load(open('dtcmodel.pkl','rb'))"
   ]
  },
  {
   "cell_type": "code",
   "execution_count": 65,
   "metadata": {},
   "outputs": [
    {
     "data": {
      "text/plain": [
       "array([1, 1, 1, ..., 2, 1, 1])"
      ]
     },
     "execution_count": 65,
     "metadata": {},
     "output_type": "execute_result"
    }
   ],
   "source": [
    "#Predicting on test and train data\n",
    "dtc_y_test =dtc_clf.predict(x_test)\n",
    "dtc_y_test"
   ]
  },
  {
   "cell_type": "code",
   "execution_count": 66,
   "metadata": {},
   "outputs": [
    {
     "data": {
      "text/plain": [
       "array([[ 257,    0,    0,    0],\n",
       "       [   0, 1642,    0,    0],\n",
       "       [   0,    0,   71,    0],\n",
       "       [   0,    0,   30,    0]], dtype=int64)"
      ]
     },
     "execution_count": 66,
     "metadata": {},
     "output_type": "execute_result"
    }
   ],
   "source": [
    "#Build confusion matrix on Test and Train\n",
    "from sklearn.metrics import confusion_matrix\n",
    "dtc_cm_test = confusion_matrix(y_test, dtc_y_test)\n",
    "dtc_cm_test"
   ]
  },
  {
   "cell_type": "code",
   "execution_count": 67,
   "metadata": {},
   "outputs": [
    {
     "data": {
      "text/plain": [
       "0.985"
      ]
     },
     "execution_count": 67,
     "metadata": {},
     "output_type": "execute_result"
    }
   ],
   "source": [
    "#Accuracy score on Test and Train\n",
    "from sklearn.metrics import accuracy_score\n",
    "dtc_accu_test= accuracy_score(y_test,dtc_y_test)\n",
    "dtc_accu_test"
   ]
  },
  {
   "cell_type": "code",
   "execution_count": 69,
   "metadata": {},
   "outputs": [
    {
     "name": "stdout",
     "output_type": "stream",
     "text": [
      "0.9744554455445544\n"
     ]
    }
   ],
   "source": [
    "#Precision score on Test and Train\n",
    "from sklearn.metrics import precision_score\n",
    "\n",
    "dtc_precision_test =precision_score(y_test, dtc_y_test, average='weighted')  \n",
    "print(dtc_precision_test)\n"
   ]
  },
  {
   "cell_type": "code",
   "execution_count": 71,
   "metadata": {},
   "outputs": [
    {
     "name": "stdout",
     "output_type": "stream",
     "text": [
      "0.985\n"
     ]
    }
   ],
   "source": [
    "#Recall score on Test and Train\n",
    "from sklearn.metrics import recall_score\n",
    "dtc_recall_test=recall_score(y_test,dtc_y_test, average='weighted' )\n",
    "print(dtc_recall_test)\n"
   ]
  },
  {
   "cell_type": "markdown",
   "metadata": {},
   "source": [
    "# Adaboost"
   ]
  },
  {
   "cell_type": "code",
   "execution_count": 103,
   "metadata": {},
   "outputs": [],
   "source": [
    "#Perform AdaBoost\n",
    "from sklearn import model_selection\n",
    "from sklearn.ensemble import AdaBoostClassifier\n",
    "seed = 7\n",
    "num_trees = 30\n",
    "kfold = model_selection.KFold(n_splits=10, random_state=seed)\n",
    "model = AdaBoostClassifier(n_estimators=num_trees, random_state=seed)\n",
    "results = model_selection.cross_val_score(model, x_train, y_train, cv=kfold)"
   ]
  },
  {
   "cell_type": "code",
   "execution_count": 104,
   "metadata": {},
   "outputs": [
    {
     "name": "stdout",
     "output_type": "stream",
     "text": [
      "[0.975   0.95875 0.97375 0.95875 0.9575  0.97125 0.9725  0.97125 0.9675\n",
      " 0.9825 ]\n"
     ]
    }
   ],
   "source": [
    "print(results)"
   ]
  },
  {
   "cell_type": "code",
   "execution_count": 105,
   "metadata": {},
   "outputs": [
    {
     "name": "stdout",
     "output_type": "stream",
     "text": [
      "0.9688749999999999\n"
     ]
    }
   ],
   "source": [
    "print(results.mean())"
   ]
  },
  {
   "cell_type": "markdown",
   "metadata": {},
   "source": [
    "# Random forest"
   ]
  },
  {
   "cell_type": "code",
   "execution_count": 72,
   "metadata": {},
   "outputs": [
    {
     "name": "stderr",
     "output_type": "stream",
     "text": [
      "C:\\ProgramData\\Anaconda3\\lib\\site-packages\\sklearn\\ensemble\\forest.py:245: FutureWarning: The default value of n_estimators will change from 10 in version 0.20 to 100 in 0.22.\n",
      "  \"10 in version 0.20 to 100 in 0.22.\", FutureWarning)\n"
     ]
    }
   ],
   "source": [
    "#Build Random Forest Calssifier\n",
    "from sklearn.ensemble import RandomForestClassifier\n",
    "rmf = RandomForestClassifier(max_depth=3, random_state=0)\n",
    "rf_classi = rmf.fit(x_train, y_train)"
   ]
  },
  {
   "cell_type": "code",
   "execution_count": 73,
   "metadata": {},
   "outputs": [
    {
     "data": {
      "text/plain": [
       "array([1, 1, 1, ..., 1, 1, 1], dtype=int64)"
      ]
     },
     "execution_count": 73,
     "metadata": {},
     "output_type": "execute_result"
    }
   ],
   "source": [
    "#Predicting on test and train data\n",
    "rf_y_test = rf_classi.predict(x_test)\n",
    "rf_y_test"
   ]
  },
  {
   "cell_type": "code",
   "execution_count": 74,
   "metadata": {},
   "outputs": [
    {
     "data": {
      "text/plain": [
       "array([[ 207,   50,    0,    0],\n",
       "       [   0, 1642,    0,    0],\n",
       "       [   4,   67,    0,    0],\n",
       "       [   0,   30,    0,    0]], dtype=int64)"
      ]
     },
     "execution_count": 74,
     "metadata": {},
     "output_type": "execute_result"
    }
   ],
   "source": [
    "#Build Confusion Matrix on Test and Train\n",
    "from sklearn.metrics import confusion_matrix\n",
    "rf_cm_test = confusion_matrix(y_test, rf_y_test)\n",
    "rf_cm_test"
   ]
  },
  {
   "cell_type": "code",
   "execution_count": 75,
   "metadata": {},
   "outputs": [
    {
     "data": {
      "text/plain": [
       "0.9245"
      ]
     },
     "execution_count": 75,
     "metadata": {},
     "output_type": "execute_result"
    }
   ],
   "source": [
    "#Accuracy Score on Test and Train\n",
    "from sklearn.metrics import accuracy_score\n",
    "rf_accu_test= accuracy_score(y_test,rf_y_test)  #test\n",
    "rf_accu_test"
   ]
  },
  {
   "cell_type": "code",
   "execution_count": 77,
   "metadata": {},
   "outputs": [
    {
     "name": "stdout",
     "output_type": "stream",
     "text": [
      "0.8796033885328721\n"
     ]
    }
   ],
   "source": [
    "#Precision Score on Test and Train\n",
    "from sklearn.metrics import precision_score\n",
    "rf_precision_test =precision_score(y_test, rf_y_test, average='weighted')  \n",
    "print(rf_precision_test)  #test data\n"
   ]
  },
  {
   "cell_type": "code",
   "execution_count": 79,
   "metadata": {},
   "outputs": [
    {
     "name": "stdout",
     "output_type": "stream",
     "text": [
      "0.9245\n"
     ]
    }
   ],
   "source": [
    "from sklearn.metrics import recall_score\n",
    "rf_recall_test=recall_score(y_test,rf_y_test, average='weighted' )\n",
    "print(rf_recall_test)\n"
   ]
  },
  {
   "cell_type": "markdown",
   "metadata": {},
   "source": [
    "# Observation "
   ]
  },
  {
   "cell_type": "raw",
   "metadata": {},
   "source": [
    " Top performance Algorithms on test data : \n",
    "Decision tree classifier\n",
    "KNN classifier\n",
    "Naive bayes classifier\n",
    "Random Forest Classifier\n",
    "Logistic Regression Classifier\n",
    "On this test data, Decision tree Classifer gives more accuracy"
   ]
  },
  {
   "cell_type": "code",
   "execution_count": 90,
   "metadata": {},
   "outputs": [],
   "source": [
    "dtc_y_new1 = dtc_clf.predict(scaler.fit_transform(np.array([[0, 1, 0,0,1,541700,1,52915,2015,2,53000,57200,3,60015,2,876,6354,765,764554,63445,755,6443,7535]])))"
   ]
  },
  {
   "cell_type": "code",
   "execution_count": 91,
   "metadata": {},
   "outputs": [
    {
     "data": {
      "text/plain": [
       "array([1])"
      ]
     },
     "execution_count": 91,
     "metadata": {},
     "output_type": "execute_result"
    }
   ],
   "source": [
    "dtc_y_new1"
   ]
  },
  {
   "cell_type": "code",
   "execution_count": null,
   "metadata": {},
   "outputs": [],
   "source": []
  }
 ],
 "metadata": {
  "kernelspec": {
   "display_name": "Python 3",
   "language": "python",
   "name": "python3"
  },
  "language_info": {
   "codemirror_mode": {
    "name": "ipython",
    "version": 3
   },
   "file_extension": ".py",
   "mimetype": "text/x-python",
   "name": "python",
   "nbconvert_exporter": "python",
   "pygments_lexer": "ipython3",
   "version": "3.7.4"
  }
 },
 "nbformat": 4,
 "nbformat_minor": 2
}
