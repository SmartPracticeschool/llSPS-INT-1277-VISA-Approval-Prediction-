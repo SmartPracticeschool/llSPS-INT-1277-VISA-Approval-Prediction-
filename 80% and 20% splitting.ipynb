{
 "cells": [
  {
   "cell_type": "code",
   "execution_count": 55,
   "metadata": {},
   "outputs": [
    {
     "data": {
      "text/plain": [
       "'C:\\\\Users\\\\TARA\\\\Desktop\\\\remote internship 2020\\\\datasets'"
      ]
     },
     "execution_count": 55,
     "metadata": {},
     "output_type": "execute_result"
    }
   ],
   "source": [
    "import os\n",
    "os.getcwd()"
   ]
  },
  {
   "cell_type": "code",
   "execution_count": 56,
   "metadata": {},
   "outputs": [
    {
     "data": {
      "text/plain": [
       "'C:\\\\Users\\\\TARA\\\\Desktop\\\\remote internship 2020\\\\datasets'"
      ]
     },
     "execution_count": 56,
     "metadata": {},
     "output_type": "execute_result"
    }
   ],
   "source": [
    "os.chdir(\"C:/Users/TARA/Desktop/remote internship 2020/datasets\")\n",
    "os.getcwd()"
   ]
  },
  {
   "cell_type": "code",
   "execution_count": 57,
   "metadata": {},
   "outputs": [],
   "source": [
    "import numpy as np\n",
    "import pandas as pd"
   ]
  },
  {
   "cell_type": "code",
   "execution_count": 58,
   "metadata": {
    "scrolled": true
   },
   "outputs": [
    {
     "data": {
      "text/html": [
       "<div>\n",
       "<style scoped>\n",
       "    .dataframe tbody tr th:only-of-type {\n",
       "        vertical-align: middle;\n",
       "    }\n",
       "\n",
       "    .dataframe tbody tr th {\n",
       "        vertical-align: top;\n",
       "    }\n",
       "\n",
       "    .dataframe thead th {\n",
       "        text-align: right;\n",
       "    }\n",
       "</style>\n",
       "<table border=\"1\" class=\"dataframe\">\n",
       "  <thead>\n",
       "    <tr style=\"text-align: right;\">\n",
       "      <th></th>\n",
       "      <th>CASE_SUBMITTED_DAY</th>\n",
       "      <th>CASE_SUBMITTED_MONTH</th>\n",
       "      <th>CASE_SUBMITTED_YEAR</th>\n",
       "      <th>DECISION_DAY</th>\n",
       "      <th>DECISION_MONTH</th>\n",
       "      <th>DECISION_YEAR</th>\n",
       "      <th>VISA_CLASS</th>\n",
       "      <th>EMPLOYER_NAME</th>\n",
       "      <th>EMPLOYER_STATE</th>\n",
       "      <th>EMPLOYER_COUNTRY</th>\n",
       "      <th>...</th>\n",
       "      <th>PW_SOURCE_YEAR</th>\n",
       "      <th>PW_SOURCE_OTHER</th>\n",
       "      <th>WAGE_RATE_OF_PAY_FROM</th>\n",
       "      <th>WAGE_RATE_OF_PAY_TO</th>\n",
       "      <th>WAGE_UNIT_OF_PAY</th>\n",
       "      <th>H-1B_DEPENDENT</th>\n",
       "      <th>WILLFUL_VIOLATOR</th>\n",
       "      <th>WORKSITE_STATE</th>\n",
       "      <th>WORKSITE_POSTAL_CODE</th>\n",
       "      <th>CASE_STATUS</th>\n",
       "    </tr>\n",
       "  </thead>\n",
       "  <tbody>\n",
       "    <tr>\n",
       "      <td>0</td>\n",
       "      <td>24</td>\n",
       "      <td>2</td>\n",
       "      <td>2016</td>\n",
       "      <td>1</td>\n",
       "      <td>10</td>\n",
       "      <td>2016</td>\n",
       "      <td>H1B</td>\n",
       "      <td>DISCOVER PRODUCTS INC</td>\n",
       "      <td>IL</td>\n",
       "      <td>UNITED STATES OF AMERICA</td>\n",
       "      <td>...</td>\n",
       "      <td>2015</td>\n",
       "      <td>OFLC ONLINE DATA CENTER</td>\n",
       "      <td>65811.0</td>\n",
       "      <td>67320.0</td>\n",
       "      <td>Year</td>\n",
       "      <td>N</td>\n",
       "      <td>N</td>\n",
       "      <td>IL</td>\n",
       "      <td>60015</td>\n",
       "      <td>CERTIFIEDWITHDRAWN</td>\n",
       "    </tr>\n",
       "    <tr>\n",
       "      <td>1</td>\n",
       "      <td>4</td>\n",
       "      <td>3</td>\n",
       "      <td>2016</td>\n",
       "      <td>1</td>\n",
       "      <td>10</td>\n",
       "      <td>2016</td>\n",
       "      <td>H1B</td>\n",
       "      <td>DFS SERVICES LLC</td>\n",
       "      <td>IL</td>\n",
       "      <td>UNITED STATES OF AMERICA</td>\n",
       "      <td>...</td>\n",
       "      <td>2015</td>\n",
       "      <td>WILLIS TOWERS WATSON SURVEY</td>\n",
       "      <td>53000.0</td>\n",
       "      <td>57200.0</td>\n",
       "      <td>Year</td>\n",
       "      <td>N</td>\n",
       "      <td>N</td>\n",
       "      <td>IL</td>\n",
       "      <td>60015</td>\n",
       "      <td>CERTIFIEDWITHDRAWN</td>\n",
       "    </tr>\n",
       "    <tr>\n",
       "      <td>2</td>\n",
       "      <td>10</td>\n",
       "      <td>3</td>\n",
       "      <td>2016</td>\n",
       "      <td>1</td>\n",
       "      <td>10</td>\n",
       "      <td>2016</td>\n",
       "      <td>H1B</td>\n",
       "      <td>EASTBANC TECHNOLOGIES LLC</td>\n",
       "      <td>DC</td>\n",
       "      <td>UNITED STATES OF AMERICA</td>\n",
       "      <td>...</td>\n",
       "      <td>2015</td>\n",
       "      <td>OFLC ONLINE DATA CENTER</td>\n",
       "      <td>77000.0</td>\n",
       "      <td>0.0</td>\n",
       "      <td>Year</td>\n",
       "      <td>Y</td>\n",
       "      <td>N</td>\n",
       "      <td>DC</td>\n",
       "      <td>20007</td>\n",
       "      <td>CERTIFIEDWITHDRAWN</td>\n",
       "    </tr>\n",
       "    <tr>\n",
       "      <td>3</td>\n",
       "      <td>28</td>\n",
       "      <td>9</td>\n",
       "      <td>2016</td>\n",
       "      <td>1</td>\n",
       "      <td>10</td>\n",
       "      <td>2016</td>\n",
       "      <td>H1B</td>\n",
       "      <td>INFO SERVICES LLC</td>\n",
       "      <td>MI</td>\n",
       "      <td>UNITED STATES OF AMERICA</td>\n",
       "      <td>...</td>\n",
       "      <td>2016</td>\n",
       "      <td>OFLC ONLINE DATA CENTER</td>\n",
       "      <td>102000.0</td>\n",
       "      <td>0.0</td>\n",
       "      <td>Year</td>\n",
       "      <td>Y</td>\n",
       "      <td>N</td>\n",
       "      <td>NJ</td>\n",
       "      <td>7302</td>\n",
       "      <td>WITHDRAWN</td>\n",
       "    </tr>\n",
       "    <tr>\n",
       "      <td>4</td>\n",
       "      <td>22</td>\n",
       "      <td>2</td>\n",
       "      <td>2015</td>\n",
       "      <td>2</td>\n",
       "      <td>10</td>\n",
       "      <td>2016</td>\n",
       "      <td>H1B</td>\n",
       "      <td>BBandT CORPORATION</td>\n",
       "      <td>NC</td>\n",
       "      <td>UNITED STATES OF AMERICA</td>\n",
       "      <td>...</td>\n",
       "      <td>2015</td>\n",
       "      <td>OFLC ONLINE DATA CENTER</td>\n",
       "      <td>132500.0</td>\n",
       "      <td>0.0</td>\n",
       "      <td>Year</td>\n",
       "      <td>N</td>\n",
       "      <td>N</td>\n",
       "      <td>NY</td>\n",
       "      <td>10036</td>\n",
       "      <td>CERTIFIEDWITHDRAWN</td>\n",
       "    </tr>\n",
       "  </tbody>\n",
       "</table>\n",
       "<p>5 rows × 27 columns</p>\n",
       "</div>"
      ],
      "text/plain": [
       "   CASE_SUBMITTED_DAY  CASE_SUBMITTED_MONTH  CASE_SUBMITTED_YEAR  \\\n",
       "0                  24                     2                 2016   \n",
       "1                   4                     3                 2016   \n",
       "2                  10                     3                 2016   \n",
       "3                  28                     9                 2016   \n",
       "4                  22                     2                 2015   \n",
       "\n",
       "   DECISION_DAY  DECISION_MONTH  DECISION_YEAR VISA_CLASS  \\\n",
       "0             1              10           2016        H1B   \n",
       "1             1              10           2016        H1B   \n",
       "2             1              10           2016        H1B   \n",
       "3             1              10           2016        H1B   \n",
       "4             2              10           2016        H1B   \n",
       "\n",
       "               EMPLOYER_NAME EMPLOYER_STATE          EMPLOYER_COUNTRY  ...  \\\n",
       "0      DISCOVER PRODUCTS INC             IL  UNITED STATES OF AMERICA  ...   \n",
       "1           DFS SERVICES LLC             IL  UNITED STATES OF AMERICA  ...   \n",
       "2  EASTBANC TECHNOLOGIES LLC             DC  UNITED STATES OF AMERICA  ...   \n",
       "3          INFO SERVICES LLC             MI  UNITED STATES OF AMERICA  ...   \n",
       "4         BBandT CORPORATION             NC  UNITED STATES OF AMERICA  ...   \n",
       "\n",
       "  PW_SOURCE_YEAR              PW_SOURCE_OTHER  WAGE_RATE_OF_PAY_FROM  \\\n",
       "0           2015      OFLC ONLINE DATA CENTER                65811.0   \n",
       "1           2015  WILLIS TOWERS WATSON SURVEY                53000.0   \n",
       "2           2015      OFLC ONLINE DATA CENTER                77000.0   \n",
       "3           2016      OFLC ONLINE DATA CENTER               102000.0   \n",
       "4           2015      OFLC ONLINE DATA CENTER               132500.0   \n",
       "\n",
       "  WAGE_RATE_OF_PAY_TO  WAGE_UNIT_OF_PAY H-1B_DEPENDENT WILLFUL_VIOLATOR  \\\n",
       "0             67320.0              Year              N                N   \n",
       "1             57200.0              Year              N                N   \n",
       "2                 0.0              Year              Y                N   \n",
       "3                 0.0              Year              Y                N   \n",
       "4                 0.0              Year              N                N   \n",
       "\n",
       "   WORKSITE_STATE WORKSITE_POSTAL_CODE         CASE_STATUS  \n",
       "0              IL                60015  CERTIFIEDWITHDRAWN  \n",
       "1              IL                60015  CERTIFIEDWITHDRAWN  \n",
       "2              DC                20007  CERTIFIEDWITHDRAWN  \n",
       "3              NJ                 7302           WITHDRAWN  \n",
       "4              NY                10036  CERTIFIEDWITHDRAWN  \n",
       "\n",
       "[5 rows x 27 columns]"
      ]
     },
     "execution_count": 58,
     "metadata": {},
     "output_type": "execute_result"
    }
   ],
   "source": [
    "data1=pd.read_csv(r'h1b dataset.csv',encoding='ISO-8859-1',low_memory=False)\n",
    "data1.head()"
   ]
  },
  {
   "cell_type": "code",
   "execution_count": 59,
   "metadata": {},
   "outputs": [
    {
     "data": {
      "text/plain": [
       "array(['IL', 'DC', 'NJ', 'NY', 'GA', 'WA', 'TX', 'CA', 'OR', 'AR', 'NC',\n",
       "       'OK', 'AZ', 'MA', 'WI', 'PA', 'FL', 'VA', 'KS', 'MD', 'DE', 'CT',\n",
       "       'LA', 'MI', 'IN', 'MO', 'MN', 'IA', 'RI', 'OH', 'CO', 'TN', 'KY',\n",
       "       'NE', 'NV', 'UT', 'NH', 'MS', 'SC', 'AL', 'ID', 'PR', 'GU'],\n",
       "      dtype=object)"
      ]
     },
     "execution_count": 59,
     "metadata": {},
     "output_type": "execute_result"
    }
   ],
   "source": [
    "data1['WORKSITE_STATE'].unique()"
   ]
  },
  {
   "cell_type": "code",
   "execution_count": 60,
   "metadata": {},
   "outputs": [
    {
     "data": {
      "text/plain": [
       "array(['DISCOVER PRODUCTS INC', 'DFS SERVICES LLC',\n",
       "       'EASTBANC TECHNOLOGIES LLC', 'INFO SERVICES LLC',\n",
       "       'BBandT CORPORATION', 'SUNTRUST BANKS INC',\n",
       "       'CITADEL INFORMATION SERVICES INC',\n",
       "       'ADVANCED TECHNOLOGY GROUP USA INC', 'ITAS INC', 'BATTELLE',\n",
       "       'HARMONY SCIENCE ACADEMY HOUSTON HIGH',\n",
       "       'HARMONY SCIENCE ACADEMY WACO', 'IDC TECHNOLOGIES INC',\n",
       "       'OREGON HEALTH and SCIENCE UNIVERSITY', 'GIMMAL LLC',\n",
       "       'HARMONY SCIENCE ACADEMY EULESS', 'PLANTRONICS INC',\n",
       "       'UNIVERSITY OF CALIFORNIA LOS ANGELES',\n",
       "       'WASHINGTON STATE UNIVERSITY', 'J B HUNT TRANSPORT SERVICES INC',\n",
       "       'TECHTOMIX LLC', 'SEQUENOM CENTER FOR MOLECULAR MEDICINE LLC',\n",
       "       'CAREMARK LLC', 'HEARST COMMUNICATIONS INC', 'LIBSYS INC',\n",
       "       'TARLETON STATE UNIVERSITY', 'MEDIATEK USA INC',\n",
       "       'THE UNIVERSITY OF GEORGIA', 'DOVE SCIENCE ACADEMY TULSA',\n",
       "       'HARMONY SCHOOL OF FINE ARTS and TECHNOLOGY',\n",
       "       'LITTLE SCHOLARS OF ARKANSAS',\n",
       "       'HARMONY SCHOOL OF INNOVATION DALLAS',\n",
       "       'HARMONY SCHOOL OF INNOVATION GARLAND',\n",
       "       'HARMONY SCHOOL OF INNOVATION HOUSTON',\n",
       "       'HARMONY SCIENCE ACADEMY SAN ANTONIO',\n",
       "       'HARMONY SCHOOL OF INNOVATION EL PASO',\n",
       "       'HARMONY SCHOOL OF POLITICAL SCIENCE AND COMMUNICATION',\n",
       "       'HARMONY SCIENCE ACADEMY DALLAS', 'HARMONY SCHOOL OF BUSINESS',\n",
       "       'HARMONY SCHOOL OF NATURE and ATHLETICS',\n",
       "       'HARMONY SCIENCE ACADEMY BROWNSVILLE', 'OOYALA INC',\n",
       "       'HARMONY SCHOOL OF EXCELLENCE AUSTIN', 'HARVARD UNIVERSITY',\n",
       "       'CLOUDCAR INC', 'UNIVERSITY OF WISCONSIN MADISON',\n",
       "       'V SOFT CONSULTING GROUP INC', 'NYSE MARKET DE INC',\n",
       "       'NOMURA SECURITIES INTERNATIONAL INC', 'ROCKWELL COLLINS INC',\n",
       "       'PLOW and HEARTH LLC', 'ERICSSON INC', 'AARCG INC',\n",
       "       'WOLFSDORF ROSENTHAL LLP', 'UNIVERSITY OF MARYLAND BALTIMORE',\n",
       "       'FLUID INC', 'TEXAS AandM ENGINEERING EXPERIMENT STATION',\n",
       "       'AVIDXCHANGE INC', 'UNIVERSITY OF DELAWARE',\n",
       "       'SKADDEN ARPS SLATE MEAGHER and FLOM LLP', 'BANNER MEDICAL GROUP',\n",
       "       'SCIENTIFIC TECHNOLOGIES CORPORATION',\n",
       "       'ADVANCED MICRO DEVICES INC', 'UNIVERSITY OF CONNECTICUT',\n",
       "       'UNIVERSITY OF TEXAS HEALTH SCIENCE CENTER AT SAN ANTONIO',\n",
       "       'THE NEW MEDIA CONSORTIUM',\n",
       "       'OCCUPATIONAL HEALTH CENTERS OF GEORGIA P C', 'DELL MARKETING LP',\n",
       "       'LSU HEALTH SCIENCES CENTER/NEW ORLEANS',\n",
       "       'JB HUNT TRANSPORT SERVICES INC',\n",
       "       'LAWRENCE BERKELEY NATIONAL LABORATORY', 'LENDINGCLUB CORPORATION',\n",
       "       'ALPHADETAIL INC', 'ARKSTEK INC', 'INITECH GLOBAL LLC',\n",
       "       'FRONTIER TECHNOLOGIES LLC', 'DEUTSCHE BANK SECURITIES INC',\n",
       "       'DEUTSCHE BANK NEW YORK BRANCH', 'HOME DEPOT USA INC',\n",
       "       'BERENSON and COMPANY LLC', 'KAIZEN TECHNOLOGIES INC',\n",
       "       'MARKETO INC', 'MAVERICK FAMILY DENTAL P C', 'CIBER INC',\n",
       "       'MIZUHO TRUST and BANKING CO USA', 'MARUTHI TECHNOLOGIES LLC',\n",
       "       'DB GLOBAL TECHNOLOGY INC', 'DEUTSCHE BANK TRUST COMPANY AMERICAS',\n",
       "       'TAMARES MANAGEMENT LLC', 'HULU LLC', 'ECHOSTAR DATA NETWORKS',\n",
       "       'SG AMERICAS SECURITIES LLC', 'ANSYS INC',\n",
       "       'HOWARD HUGHES MEDICAL INSTITUTE', 'APPNEXUS INC',\n",
       "       'AC INVESTMENT MANAGEMENT LLC', 'ADVENT GLOBAL SOLUTIONS INC',\n",
       "       'CERNER CORPORATION', 'MICHAEL PAGE INTERNATIONAL INC',\n",
       "       'REGENTS OF THE UNIVERSITY OF CALIFORNIA AT RIVERSIDE',\n",
       "       'KINGSMEN SOFTWARE LLC', 'C VISION INC',\n",
       "       'UNIVERSITY OF MARYLAND COLLEGE PARK',\n",
       "       'BUTTE GLENN COMMUNITY COLLEGE DISTRICT',\n",
       "       'HIAWATHA LEADERSHIP ACADEMY', 'ARGHA SERVICES INC',\n",
       "       'LOREAL USA INC', 'STATE UNIVERSITY OF NEW YORK AT BUFFALO',\n",
       "       'BATTELLE MEMORIAL INSTITUTE', 'MORGAN STANLEY SERVICES GROUP INC',\n",
       "       'AMERICAN ELECTRIC POWER', 'LIFE TECHNOLOGIES CORPORATION',\n",
       "       'SOFTPATH SYSTEM LLC', 'BENJAMIN MOORE and CO',\n",
       "       'UCHICAGO ARGONNE LLC', 'DALLAS INDEPENDENT SCHOOL DISTRICT',\n",
       "       'KPIT INFOSYSTEMS INC', 'LandT TECHNOLOGY SERVICES LIMITED',\n",
       "       'PEGASYS SYSTEMS AND TECHNOLOGIES INC',\n",
       "       'PROPELSYS TECHNOLOGIES LLC', 'THE UNIVERSITY OF IOWA',\n",
       "       '3 D MICROMAC AMERICA LLC', '4 SERV SOLUTIONS INC',\n",
       "       '8K MILES SOFTWARE SERVICES INC', 'A1 KAISER INC',\n",
       "       'A2Z DEVELOPMENT CENTER INC', 'ABBVIE INC', 'ABHRA INC ',\n",
       "       'ABILITY COMMERCE INC', 'ABIOMED INC', 'ACADEMY LTD',\n",
       "       'ACCENTURE LLP', 'ACCESSDATA GROUP INC', 'ACI INFOTECH INC',\n",
       "       'ACROPETAL INC', 'ADARA NETWORKS INC', 'ADECCO USA INC',\n",
       "       'ADOBE SYSTEMS INCORPORATED', 'ADP TECHNOLOGY SERVICES INC',\n",
       "       'ADROIX CORP', 'ADVANCE MAGAZINE PUBLISHERS INC DBA CONDE NAST',\n",
       "       'ADVANSOFT INTERNATIONAL INC', 'ADVANSYS INC',\n",
       "       'AGAMA SOLUTIONS INC', 'AGREEYA SOLUTIONS INC', 'AHOLD USA INC',\n",
       "       'AIRLINE TARIFF PUBLISHING COMPANY ATPCO', 'AKHSAYA INC',\n",
       "       'ALCATEL LUCENT USA INC ', 'ALECTO HEALTHCARE SERVICES LLC',\n",
       "       'ALERTENTERPRISE INC', 'ALIXPARTNERS LLP',\n",
       "       'ALLIED INFORMATICS INC', 'ALLTECH CONSULTING SERVICES INC',\n",
       "       'AMAZON CORPORATE LLC', 'AMAZON COM DEDC LLC', 'AMDOCS INC',\n",
       "       'AMERICAN AIRLINES INC', 'AMERICAN IT RESOURCE GROUP INC',\n",
       "       'AMERICAN TECHNOLOGY CONSULTING LLC', 'AMERICAN UNIT INC',\n",
       "       'AMERICAN VALVE INC', 'AMERICAS COLLECTIBLES NETWORK INC',\n",
       "       'AMERISOURCEBERGEN CORPORATION', 'AMFAL TECH LLC', 'AMONGIT INC',\n",
       "       'AMQ SOLUTIONS LLC', 'ANAGH TECHNOLOGIES INC', 'ANIMOTO INC',\n",
       "       'ANIRA SOLUTIONS INC', 'ANTHEM INC', 'AOL INC', 'APEX SYSTEMS LLC',\n",
       "       'APEX TECHNOLOGY GROUP INC', 'APEX TECHNOLOGY SYSTEMS INC',\n",
       "       'APOGEE MEDICAL GROUP NEW YORK PC', 'APPLIED MATERIALS INC',\n",
       "       'APTIVA CORP', 'AQUILA FUNDAMENTAL STRATEGY PARTNERS LLC',\n",
       "       'ARBOR NETWORKS', 'ARCHROCK SERVICES L P', 'ARICENT NA',\n",
       "       'ARRIS TECHNOLOGY INC', 'ARROW ELECTRONICS INC',\n",
       "       'ASAP SOLUTIONS GROUP', 'ASSOCIATION OF AMERICAN MEDICAL COLLEGES',\n",
       "       'ASTIR IT SOLUTIONS INC', 'ASTIR SERVICES LLC',\n",
       "       'AUJAS NETWORKS PRIVATE LIMITED', 'AUTO INJURY SOLUTIONS INC',\n",
       "       'AVCO CONSULTING INC', 'AVENT INC D/B/A HALYARD HEALTH',\n",
       "       'AWAKE NETWORKS INC', 'AXON SOLUTIONS INC', 'AXTRIA INC',\n",
       "       'BAKER HUGHES INCORPORATED', 'BANK OF AMERICA NA',\n",
       "       'BANK OF THE WEST', 'BARRED OWL PRODUCTIONS LLC',\n",
       "       'BAY AREA COMPLIANCE LABORATORIES CORP', 'BAYER HEALTHCARE LLC',\n",
       "       'BAYSTATE MEDICAL PRACTICES INC', 'BECTON DICKINSON AND COMPANY',\n",
       "       'BELL SYSTEMS INC', 'BENALI BUSINESS SOLUTIONS LLC',\n",
       "       'BIO MED SERVICES INC', 'BLACKROCK INVESTMENT MANAGEMENT LLC',\n",
       "       'BLACKSMITH APPLICATIONS INC', 'BLUE SHIELD OF CALIFORNIA',\n",
       "       'BMO CAPITAL MARKETS CORP', 'BORDERFREE INC',\n",
       "       'BREAKPOINT SYSTEMS INC', 'BRIGHTORDER US INC', 'BRILLIO LLC',\n",
       "       'BROKEN HILL PROPRIETARY USA INC', 'BROKSTEIN and ROSEN CPAS LLP',\n",
       "       'BTI SOLUTIONS INC',\n",
       "       'BURLINGTON COAT FACTORY WAREHOUSE CORPORATION',\n",
       "       'BURNS and MCDONNELL ENGINEERING COMPANY INC',\n",
       "       'BUSINESS INTELLIGENCE SYSTEMS INC',\n",
       "       'BUSINESS REPORTING MANAGEMENT SERVICES INC',\n",
       "       'CANBERRA INDUSTRIES INC', 'CANRIG DRILLING TECHNOLOGY LTD',\n",
       "       'CAPGEMINI AMERICA INC',\n",
       "       'CAPGEMINI AMERICA INC LEGACY CAPGEMINI FINANCIAL SERVICES INC',\n",
       "       'CAPITAL ONE SERVICES LLC', 'CASTLIGHT HEALTH INC',\n",
       "       'CATHOLIC HIGH SCHOOL INC', 'CAVALIER IT INC', 'CELER SYSTEMS INC',\n",
       "       'CENTIZEN INC', 'CGN and ASSOCIATES INC', 'CH2M HILL INC',\n",
       "       'CHEP CONTAINER AND POOLING SOLUTIONS INC',\n",
       "       'CHINA MERCHANTS BANK CO LTD',\n",
       "       'CHOICE HOTELS INTERNATIONAL SERVICES CORP',\n",
       "       'CHURCHILL DOWNS TECHNOLOGY INITIATIVES COMPANY',\n",
       "       'CIGNA HEALTH AND LIFE INSURANCE COMPANY', 'CIGNITI INC',\n",
       "       'CIMAREX ENERGY CO', 'CINERGY TECHNOLOGY INC', 'CISCO SYSTEMS INC',\n",
       "       'CITIBANK N A', 'CITIGROUP TECHNOLOGY INC', 'CLINTON GROUP INC',\n",
       "       'CLOUDWICK TECHNOLOGIES INC', 'CLUTCHPOINT LLC', 'COGNILYTICS INC',\n",
       "       'COGNIZANT TECHNOLOGY SOLUTIONS US CORPORATION',\n",
       "       'COLLABORATE SOLUTIONS INC', 'COLLASYS LLC', 'COLUMBIA UNIVERSITY',\n",
       "       'COMCAST CABLE COMMUNICATIONS LLC',\n",
       "       'COMMUNITY REHABILITATION SERVICES INC',\n",
       "       'COMPUNNEL SOFTWARE GROUP INC', 'COMPUTECH CORPORATION',\n",
       "       'COMPUTER GLOBAL SOLUTIONS INC',\n",
       "       'COMPUTERIZED ASSESSMENTS AND LEARNING LLC',\n",
       "       'CONCORD ENGINEERING INC', 'CONFIMINDS LLC', 'COOLSOFT LLC',\n",
       "       'COOPERATIEVE RABOBANK UA', 'COPIAH LINCOLN COMMUNITY COLLEGE',\n",
       "       'CORIXA CORPORATION', 'CORPORATE COMPUTER SERVICES INC',\n",
       "       'COTA INC', 'CURE FIRST', 'CURVATURE LLC', 'CYBERTHINK INC',\n",
       "       'CYIENT INC', 'CYMA SYSTEMS INC', 'CYNOSURE TECHNOLOGIES LLC',\n",
       "       'DANTA TECHNOLOGIES INC', 'DARDEN CORPORATION',\n",
       "       'DB SERVICES NJ INC', 'DC GROUP INC',\n",
       "       'DEDICATED TECH SERVICES INC', 'DELL PRODUCTS LP', 'DELL USA LP',\n",
       "       'DELOITTE and TOUCHE LLP', 'DELOITTE andAMP TOUCHE LLP',\n",
       "       'DELOITTE CONSULTING LLP',\n",
       "       'DELOITTE TRANSACTIONS AND BUSINESS ANALYTICS LLP',\n",
       "       'DELTA COMPUTER CONSULTING INC', 'DFS CORPORATE SERVICES LLC',\n",
       "       'DIASPARK INC', 'DICE IT SOLUTIONS LLC', 'DIGITAL FUEL SV LLC',\n",
       "       'DONNELLEY FINANCIAL LLC', 'DRIVESTREAM INC', 'DTEX SYSTEMS INC',\n",
       "       'EAST and BOND LLC', 'EASTERN ACCOUNTING and TAX INC',\n",
       "       'EASTERNCCTV USA LLC', 'E BUSINESS INTERNATIONAL INC',\n",
       "       'ECOM CONSULTING INC', 'E DATA EXPERTS INC', 'EDVENSWA TECH LLC',\n",
       "       'EFFIMED LIFESCIENCE PARTNERS', 'EFRON CONSULTING INC',\n",
       "       'ELITE DENTAL LLC', 'EMC CORPORATION',\n",
       "       'ENTERPRISE RESOURCE PLANNING INTERNATIONAL LLC',\n",
       "       'EPAM SYSTEMS INC', 'EPROMPTUS INC', 'ERNST and YOUNG US LLP',\n",
       "       'ESSENTIAL TECHNOLOGIES INC', 'ETOUCH SYSTEMS CORPORATION',\n",
       "       'EVEREST CONSULTING GROUP INC', 'EVERYDAY HEALTH MEDIA LLC',\n",
       "       'EXILANT TECHNOLOGIES PRIVATE LIMITED', 'EXPERIS US INC',\n",
       "       'EXZAC INC', 'F5 NETWORKS INC', 'FACEBOOK INC',\n",
       "       'FAIR ISAAC CORPORATION', 'FAMILY DOLLAR INC', 'FARMERS GROUP INC',\n",
       "       'FEDERAL HOME LOAN BANK OF SAN FRANCISCO',\n",
       "       'FEDERAL HOME LOAN MORTGAGE CO', 'FIDELITY SERVICE COMPANY INC',\n",
       "       'FIDELITY TECHNOLOGY GROUP LLC', 'FIRST DATA TECHNOLOGIES INC',\n",
       "       'FIRST TENNESSEE BANK N A', 'FLEXERA GLOBAL INC',\n",
       "       'FLEXTRONICS INTERNATIONAL USA INC',\n",
       "       'FLORIDA INTERNATIONAL UNIVERSITY', 'FLORIDA RandD ASSOCIATES LLC',\n",
       "       'FOREIGN TRADE CORPORATION', 'FRED MEYER STORES INC',\n",
       "       'FRIENDLY CONSULTANTS INC', 'FTI LLC', 'FUJITSU AMERICA INC',\n",
       "       'FUJITSU TEN CORP OF AMERICA', 'FUSION PLUS SOLUTIONS INC',\n",
       "       'GAS UNLIMITED INC', 'GALLOP SOLUTIONS INC', 'GARDEN VIEW INC',\n",
       "       'GATEWAY SOLUTIONS INC', 'GE OIL AND GAS COMPRESSION SYSTEMS LLC',\n",
       "       'GENERAL ELECTRIC COMPANY', 'GENERAL INFORMATION SERVICES INC',\n",
       "       'GENOME INTERNATIONAL CORPORATION',\n",
       "       'GENZYME THERAPEUTIC PRODUCTS LIMITED PARTNERSHIP',\n",
       "       'GEOMETRIC AMERICAS INC', 'GIC ASSET MANAGEMENT PTE LTD',\n",
       "       'GLOBAL INFORMATION TECHNOLOGY INC', 'GLOBALGATE IT SOLUTIONS LLC',\n",
       "       'GLOBANT LLC', 'GLOBUS IT INCORPORATED', 'GOKATECH INC',\n",
       "       'GOLDEN SPECIALTY INC', 'GOLDEN STAR TECHNOLOGIES INC',\n",
       "       'GOLDEN STATE FC LLC', 'GOLDMAN SACHS and CO',\n",
       "       'GOOD SHEPHERD SERVICES', 'GOOGLE INC', 'GOPA IT CONSULTANTS INC',\n",
       "       'GOTENNA INC', 'GOVERNMENT SYSTEMS TECHNOLOGIES INC',\n",
       "       'GRAND VALLEY STATE UNIVERSITY', 'GREENLEE TEXTRON INC',\n",
       "       'GROUNDFLOOR FINANCE INC', 'GROUPRX LLC', 'GUESS INC',\n",
       "       'GUNJAN CUTTING EDGE SOLUTIONS INC',\n",
       "       'HALLMARK GLOBAL TECHNOLOGIES INC', 'HANAP S ENTERPRISES',\n",
       "       'HARMAN CONNECTED SERVICES TECHNOLOGIES PVT LTD',\n",
       "       'HARWARD TECHNOLOGIES LLC', 'HAWK IMPORTERS INC',\n",
       "       'HCL AMERICA INC', 'HCL GLOBAL SYSTEMS INC',\n",
       "       'HEADSTRONG SERVICES LLC', 'HEALTH MANAGEMENT SYSTEMS INC',\n",
       "       'HEALTH SERVICES OF CENTRAL GEORGIA INC', 'HEALTHCORE INC',\n",
       "       'HELEN OF TROY NEVADA CORP', 'HEWLETT PACKARD ENTERPRISE COMPANY',\n",
       "       'HEWLETT PACKARD STATE and LOCAL ENTERPRISE SERVICES INC',\n",
       "       'HEXACORP LLC', 'HEXAWARE TECHNOLOGIES INC',\n",
       "       'HILLSOFT BUSINESS SOLUTIONS LLC', 'HIRACLE INC',\n",
       "       'HITACHI AUTOMOTIVE SYSTEMS AMERICAS INC',\n",
       "       'HITACHI CONSULTING CORPORATION',\n",
       "       'HI TECH BANGLA STAFFING SERVICES INC', 'HOLISTIC LABS INC',\n",
       "       'HOLTHOUSE CARLIN and VAN TRIGT LLP',\n",
       "       'HONEYWELL INTERNATIONAL INC', 'HORIZON ADVANCED SYSTEMS INC',\n",
       "       'HOUSTON MINT DENTISTRY PLLC', 'HP ENTERPRISE SERVICES LLC',\n",
       "       'I3INFOTEK INC', 'IAS GROUP LTD', 'IBM CORPORATION',\n",
       "       'IBM INDIA PRIVATE LIMITED',\n",
       "       'ICAHN SCHOOL OF MEDICINE AT MOUNT SINAI', 'ICERTIS INC',\n",
       "       'IDOL SOFT INC', 'IKASYSTEMS CORPORATION',\n",
       "       'IKON TECH SERVICES LLC', 'ILLUMINA INC', 'IMMEREX INC',\n",
       "       'IMPETUS TECHNOLOGIES INC', 'INABIA SOFTWARE and CONSULTING',\n",
       "       'INC RESEARCH LLC', 'INCION LLC', 'INCYTE CORPORATION',\n",
       "       'INDIANA UNIVERSITY HEALTH BALL MEMORIAL PHYSICIANS INC',\n",
       "       'INDSOFT INC', 'INDUS TECHNOLOGY INC', 'INFOBAHN SOFTWORLD INC',\n",
       "       'INFOLOGITECH INC', 'INFORMATICA LLC', 'INFOSPAN INC',\n",
       "       'INFOSYS LIMITED', 'INNOVIS HEALTH LLC', 'INOVANT LLC',\n",
       "       'INPATIENT SERVICES OF INDIANA', 'INTEGRAL PARTNERS LLC',\n",
       "       'INTEL CORPORATION',\n",
       "       'INTERACTIVE COMMUNICATIONS INTERNATIONAL INC',\n",
       "       'INTERGRO RESOURCES INC',\n",
       "       'INTERNATIONAL INFORMATION TECHNOLOGY TEAM INC',\n",
       "       'INTERNATIONAL SYSTEMS TECHNOLOGIES INC', 'INTERPRO INC',\n",
       "       'INTUIT INC', 'INTUITIVE SURGICAL OPERATIONS INC',\n",
       "       'INVENSENSE INC', 'IONIDEA INC', 'IP NETWORK SOLUTIONS INC',\n",
       "       'IPIVOT LLC', 'ISITE TECHNOLOGIES INC', 'IT CATS LLC',\n",
       "       'IT PEOPLE CORPORATION', 'IT RYSOURCES INC',\n",
       "       'ITC INFOTECH USA INC', 'ITECH US INC', 'ITFACE INC',\n",
       "       'ITRACE FOUNDATION INC', 'J JILL LLC', 'JACO OIL COMPANY',\n",
       "       'JAVITCH BLOCK LLC', 'JEAN MARTIN INC',\n",
       "       'JLT SPECIALTY INSURANCE SERVICES INC', 'JNIT TECHNOLOGIES',\n",
       "       'JOHNS HOPKINS UNIVERSITY', 'JOSEPH LAWRENCE UTILITIES COMPANY',\n",
       "       'JPMORGAN CHASE and CO', 'JPMORGAN CHASE andAMP CO',\n",
       "       'KALVEN TECHNOLOGIES INC', 'KANSAS STATE UNIVERSITY', 'KAPLAN INC',\n",
       "       'KELLY WEARSTLER FASHION LLLP', 'KHAN ACADEMY INC',\n",
       "       'KNOWLEDGE LENS LLC', 'KNOWLEDGENT GROUP INC',\n",
       "       'KODIAK NETWORKS INC', 'KOGENTIX INC',\n",
       "       'KPIT INFOSYSTEMS INCORPORATED', 'KPMG LLP',\n",
       "       'KRIDDHA TECHNOLOGIES INC', 'KROLL BOND RATING AGENCY INC',\n",
       "       'LA JOLLA INSTITUTE FOR ALLERGY and IMMUNOLOGY', 'LABCENTRIX LLC',\n",
       "       'LAM RESEARCH CORPORATION', 'LARSEN and TOUBRO INFOTECH LIMITED',\n",
       "       'LATHAM and WATKINS LLP',\n",
       "       'LAWRENCE LIVERMORE NATIONAL SECURITY LLC', 'LEAD IT CORPORATION',\n",
       "       'LEIDOS INC', 'LEX NIMBLE SOLUTIONS INC', 'LINKEDIN CORPORATION',\n",
       "       'LOGIC PLANET INC', 'LOGIC SOFT INC', 'LOGISTICS PLUS INC',\n",
       "       'M2 RESOURCES INC', 'MACYS SYSTEMS AND TECHNOLOGY INC',\n",
       "       'MACYS COM LLC', 'MANHATTAN COLLEGE', 'MAQUET CARDIOVASCULAR LLC',\n",
       "       'MARLABS INC', 'MASSACHUSETTS INSTITUTE OF TECHNOLOGY',\n",
       "       'MASTECH DIGITAL TECHNOLOGIES INC A MASTECH DIGITAL INC COMPANY',\n",
       "       'MASTERBASE LLC', 'MCKESSON CORPORATION',\n",
       "       'MCKINSEY and COMPANY INC UNITED STATES',\n",
       "       'MEDIABRANDS WORLDWIDE INC',\n",
       "       'MEDICAL AIDS OUTREACH OF ALABAMA INC',\n",
       "       'MEMORIAL SLOAN KETTERING CANCER CENTER', 'MIASOLE HI TECH CORP',\n",
       "       'MICHIGAN STATE UNIVERSITY', 'MICROCHIP TECHNOLOGY INC',\n",
       "       'MICRON TECHNOLOGY INC', 'MICROSOFT CORPORATION',\n",
       "       'MID SOUTH HOME HEALTH LLC', 'MINDTREE LIMITED', 'MINIO INC',\n",
       "       'MINISTRY MEDICAL GROUP', 'MITCHELL INTERNATIONAL INC',\n",
       "       'MKIT SOLUTIONS INC', 'MOODYS SHARED SERVICES INC',\n",
       "       'MOON CAPITAL MANAGMENT LP', 'MORGAN STANLEY and CO LLC',\n",
       "       'MORLOGIC INC', 'MORTENSON FAMILIY DENTAL HOLDINGS INC',\n",
       "       'MPHASIS CORPORATION', 'MUFG UNION BANK N A',\n",
       "       'MYTHRI CONSULTING LLC', nan, 'NARTAL SYSTEMS INC',\n",
       "       'NATIONAL INSTRUMENTS CORPORATION',\n",
       "       'NATIONAL MEDICAL CARE INC A FRESENIUS MEDICAL CARE N A COMPANY',\n",
       "       'NATSOFT CORPORATION', 'NATURAL SYSTEMS ANALYSTS INC',\n",
       "       'NBA PROPERTIES INC', 'NEO PRISM SOLUTIONS LLC',\n",
       "       'NEOAGE SERVICES LLC', 'NESS USA INC', 'NETAPP INC',\n",
       "       'NEUROLEADERSHIP INSTITUTE INC', 'NEW HORIZON SCHOOL PASADENA',\n",
       "       'NEW JERSEY INSTITUTE OF TECHNOLOGY', 'NEW YORK and COMPANY INC',\n",
       "       'NEW YORK STATE OFFICE OF MENTAL HEALTH',\n",
       "       'NEW YORK UNIVERSITY HOSPITALS CENTER',\n",
       "       'NEW YORK UNIVERSITY SCHOOL OF MEDICINE',\n",
       "       'NEWT GLOBAL CONSULTING LLC', 'NEXTEER AUTOMOTIVE',\n",
       "       'NIAGARA BOTTLING LLC', 'NIC INFO TEK INC',\n",
       "       'NITYA SOFTWARE SOLUTIONS INC', 'NORDSTROM INC',\n",
       "       'NORTH POINT IT CORP', 'NOVA CONSULTANTS INC',\n",
       "       'NOVARTIS PHARMACEUTICALS CORPORATION', 'NOVELIS INC',\n",
       "       'NOVELTY INFOTECH INC', 'NTT DATA INC', 'NYU HOSPITALS CENTER',\n",
       "       'OAKLEY INC', 'OFFICE DEPOT INC', 'OHIO FARMERS INSURANCE COMPANY',\n",
       "       'OKTA INC', 'OLD DOMINION UNIVERSITY', 'OLIVER WYMAN INC',\n",
       "       'OMOHUNDRO INSTITUTE FOR EARLY AMERICAN HISTORY AND CULTURE',\n",
       "       'ONCORRE INC', 'ONE ROCKWELL CORP', 'ONLY IT CONSULTING LLC',\n",
       "       'ONUR ULGEN INC', 'ORACLE AMERICA INC',\n",
       "       'ORION SYSTEMS INTEGRATORS LLC', 'OTM LABS INC',\n",
       "       'OTSAW DIGITAL INC', 'OVERSTOCK COM INC', 'P3 NORTH AMERICA INC',\n",
       "       'PACIFIC INVESTMENT MANAGEMENT COMPANY LLC',\n",
       "       'PACIFIC STATES UNIVERSITY', 'PAGNY PC', 'PANZURA INC',\n",
       "       'PARADIGM INFO TECH INC', 'PAREXEL INTERNATIONAL',\n",
       "       'PAYPAL DATA SERVICES INC', 'PAYPAL INC', 'PCTEL INC',\n",
       "       'PEARL CONSTRUCTION ENVIRONMENTAL SERVICE INC', 'PELCO INC',\n",
       "       'PELICAN EDUCATIONAL FOUNDATION'], dtype=object)"
      ]
     },
     "execution_count": 60,
     "metadata": {},
     "output_type": "execute_result"
    }
   ],
   "source": [
    "data1['EMPLOYER_NAME'].unique()"
   ]
  },
  {
   "cell_type": "code",
   "execution_count": 61,
   "metadata": {},
   "outputs": [
    {
     "data": {
      "text/plain": [
       "array(['OFLC ONLINE DATA CENTER', 'WILLIS TOWERS WATSON SURVEY',\n",
       "       'ONLINE WAGE LIBRARY', 'NONE', 'RADFORD GLOBAL SURVEY',\n",
       "       'DIETRICH ENGINEERING SALARY SURVEY',\n",
       "       'COLLECTIVE BARGAINING AGREEMENT',\n",
       "       'AAMC SURVEY OF RESIDENT FELLOW STIPENDS',\n",
       "       'US MERCER BENCHMARK DATABASE SURVEY',\n",
       "       'MERCER BENCHMARK DATABASE SURVEY',\n",
       "       'HUMAN RESOURCES ASSOCIATION OF THE NATIONAL CAPITAL AREA COMPENSATION SURVEY',\n",
       "       'HRA NCA COMPENSATION SURVEY REPORT'], dtype=object)"
      ]
     },
     "execution_count": 61,
     "metadata": {},
     "output_type": "execute_result"
    }
   ],
   "source": [
    "data1['PW_SOURCE_OTHER'].unique()"
   ]
  },
  {
   "cell_type": "code",
   "execution_count": 62,
   "metadata": {},
   "outputs": [
    {
     "data": {
      "text/plain": [
       "array(['H1B', 'E3 Australian', 'H1B1 Chile', 'H1B1 Singapore'],\n",
       "      dtype=object)"
      ]
     },
     "execution_count": 62,
     "metadata": {},
     "output_type": "execute_result"
    }
   ],
   "source": [
    "data1['VISA_CLASS'].unique()"
   ]
  },
  {
   "cell_type": "code",
   "execution_count": 63,
   "metadata": {},
   "outputs": [
    {
     "data": {
      "text/plain": [
       "array(['UNITED STATES OF AMERICA'], dtype=object)"
      ]
     },
     "execution_count": 63,
     "metadata": {},
     "output_type": "execute_result"
    }
   ],
   "source": [
    "data1['EMPLOYER_COUNTRY'].unique()"
   ]
  },
  {
   "cell_type": "code",
   "execution_count": 64,
   "metadata": {},
   "outputs": [
    {
     "data": {
      "text/plain": [
       "array(['CERTIFIEDWITHDRAWN', 'WITHDRAWN', 'CERTIFIED'], dtype=object)"
      ]
     },
     "execution_count": 64,
     "metadata": {},
     "output_type": "execute_result"
    }
   ],
   "source": [
    "data1['CASE_STATUS'].unique()"
   ]
  },
  {
   "cell_type": "code",
   "execution_count": 65,
   "metadata": {},
   "outputs": [
    {
     "data": {
      "text/plain": [
       "array(['ANALYSTS', 'COMPUTER OCCUPATION', 'FINANCE', 'MARKETING',\n",
       "       'EDUCATION', 'ACCOUNTANTS', 'ARCHITECTURE', 'FITNESS TRAINERS',\n",
       "       'CURATORS', 'SCIENTIST', 'BUSINESS OPERATIONS SPECIALIST',\n",
       "       'CHIEF EXECUTIVES', 'MANAGERS', 'COMMUNICATIONS'], dtype=object)"
      ]
     },
     "execution_count": 65,
     "metadata": {},
     "output_type": "execute_result"
    }
   ],
   "source": [
    "data1['SOC_NAME'].unique()"
   ]
  },
  {
   "cell_type": "code",
   "execution_count": 66,
   "metadata": {},
   "outputs": [
    {
     "data": {
      "text/plain": [
       "array(['OES', 'Other', 'CBA'], dtype=object)"
      ]
     },
     "execution_count": 66,
     "metadata": {},
     "output_type": "execute_result"
    }
   ],
   "source": [
    "data1['PW_SOURCE'].unique()"
   ]
  },
  {
   "cell_type": "markdown",
   "metadata": {},
   "source": [
    "# Treating with missing values "
   ]
  },
  {
   "cell_type": "code",
   "execution_count": 67,
   "metadata": {},
   "outputs": [
    {
     "data": {
      "text/plain": [
       "CASE_SUBMITTED_DAY        0\n",
       "CASE_SUBMITTED_MONTH      0\n",
       "CASE_SUBMITTED_YEAR       0\n",
       "DECISION_DAY              0\n",
       "DECISION_MONTH            0\n",
       "DECISION_YEAR             0\n",
       "VISA_CLASS                0\n",
       "EMPLOYER_NAME             1\n",
       "EMPLOYER_STATE            0\n",
       "EMPLOYER_COUNTRY          0\n",
       "SOC_NAME                  0\n",
       "NAICS_CODE                0\n",
       "TOTAL_WORKERS             0\n",
       "FULL_TIME_POSITION        0\n",
       "PREVAILING_WAGE           0\n",
       "PW_UNIT_OF_PAY            0\n",
       "PW_SOURCE                 0\n",
       "PW_SOURCE_YEAR            0\n",
       "PW_SOURCE_OTHER           0\n",
       "WAGE_RATE_OF_PAY_FROM     0\n",
       "WAGE_RATE_OF_PAY_TO       0\n",
       "WAGE_UNIT_OF_PAY          0\n",
       "H-1B_DEPENDENT           36\n",
       "WILLFUL_VIOLATOR         36\n",
       "WORKSITE_STATE            0\n",
       "WORKSITE_POSTAL_CODE      0\n",
       "CASE_STATUS               0\n",
       "dtype: int64"
      ]
     },
     "execution_count": 67,
     "metadata": {},
     "output_type": "execute_result"
    }
   ],
   "source": [
    "#Get a count of missing values in the dataset\n",
    "data1.apply(lambda x: sum(x.isnull()),axis=0)"
   ]
  },
  {
   "cell_type": "code",
   "execution_count": 68,
   "metadata": {},
   "outputs": [
    {
     "data": {
      "text/plain": [
       "N    650\n",
       "Y    313\n",
       "Name: H-1B_DEPENDENT, dtype: int64"
      ]
     },
     "execution_count": 68,
     "metadata": {},
     "output_type": "execute_result"
    }
   ],
   "source": [
    "data1['H-1B_DEPENDENT'].value_counts()"
   ]
  },
  {
   "cell_type": "code",
   "execution_count": 69,
   "metadata": {},
   "outputs": [
    {
     "data": {
      "text/plain": [
       "N    650\n",
       "Y    349\n",
       "Name: H-1B_DEPENDENT, dtype: int64"
      ]
     },
     "execution_count": 69,
     "metadata": {},
     "output_type": "execute_result"
    }
   ],
   "source": [
    "data1 ['H-1B_DEPENDENT'].fillna('Y', inplace=True)\n",
    "data1['H-1B_DEPENDENT'].value_counts()"
   ]
  },
  {
   "cell_type": "code",
   "execution_count": 70,
   "metadata": {},
   "outputs": [
    {
     "data": {
      "text/plain": [
       "N    963\n",
       "Name: WILLFUL_VIOLATOR, dtype: int64"
      ]
     },
     "execution_count": 70,
     "metadata": {},
     "output_type": "execute_result"
    }
   ],
   "source": [
    "data1['WILLFUL_VIOLATOR'].value_counts()"
   ]
  },
  {
   "cell_type": "code",
   "execution_count": 71,
   "metadata": {},
   "outputs": [
    {
     "data": {
      "text/plain": [
       "N    999\n",
       "Name: WILLFUL_VIOLATOR, dtype: int64"
      ]
     },
     "execution_count": 71,
     "metadata": {},
     "output_type": "execute_result"
    }
   ],
   "source": [
    "data1 ['WILLFUL_VIOLATOR'].fillna('N', inplace=True)\n",
    "data1['WILLFUL_VIOLATOR'].value_counts()"
   ]
  },
  {
   "cell_type": "code",
   "execution_count": 72,
   "metadata": {},
   "outputs": [
    {
     "data": {
      "text/plain": [
       "INFOSYS LIMITED                       40\n",
       "DELOITTE CONSULTING LLP               33\n",
       "ERNST and YOUNG US LLP                21\n",
       "MICROSOFT CORPORATION                 21\n",
       "ACCENTURE LLP                         21\n",
       "                                      ..\n",
       "DALLAS INDEPENDENT SCHOOL DISTRICT     1\n",
       "COLUMBIA UNIVERSITY                    1\n",
       "UNIVERSITY OF WISCONSIN MADISON        1\n",
       "DIASPARK INC                           1\n",
       "J JILL LLC                             1\n",
       "Name: EMPLOYER_NAME, Length: 569, dtype: int64"
      ]
     },
     "execution_count": 72,
     "metadata": {},
     "output_type": "execute_result"
    }
   ],
   "source": [
    "data1['EMPLOYER_NAME'].value_counts()"
   ]
  },
  {
   "cell_type": "code",
   "execution_count": 73,
   "metadata": {},
   "outputs": [
    {
     "data": {
      "text/plain": [
       "INFOSYS LIMITED                    40\n",
       "DELOITTE CONSULTING LLP            33\n",
       "ERNST and YOUNG US LLP             21\n",
       "ACCENTURE LLP                      21\n",
       "MICROSOFT CORPORATION              21\n",
       "                                   ..\n",
       "COLUMBIA UNIVERSITY                 1\n",
       "UNIVERSITY OF WISCONSIN MADISON     1\n",
       "DIASPARK INC                        1\n",
       "NARTAL SYSTEMS INC                  1\n",
       "J JILL LLC                          1\n",
       "Name: EMPLOYER_NAME, Length: 570, dtype: int64"
      ]
     },
     "execution_count": 73,
     "metadata": {},
     "output_type": "execute_result"
    }
   ],
   "source": [
    "data1 ['EMPLOYER_NAME'].fillna('INFOSYS LIMITED ', inplace=True)\n",
    "data1['EMPLOYER_NAME'].value_counts()"
   ]
  },
  {
   "cell_type": "code",
   "execution_count": 74,
   "metadata": {},
   "outputs": [
    {
     "data": {
      "text/plain": [
       "CASE_SUBMITTED_DAY       0\n",
       "CASE_SUBMITTED_MONTH     0\n",
       "CASE_SUBMITTED_YEAR      0\n",
       "DECISION_DAY             0\n",
       "DECISION_MONTH           0\n",
       "DECISION_YEAR            0\n",
       "VISA_CLASS               0\n",
       "EMPLOYER_NAME            0\n",
       "EMPLOYER_STATE           0\n",
       "EMPLOYER_COUNTRY         0\n",
       "SOC_NAME                 0\n",
       "NAICS_CODE               0\n",
       "TOTAL_WORKERS            0\n",
       "FULL_TIME_POSITION       0\n",
       "PREVAILING_WAGE          0\n",
       "PW_UNIT_OF_PAY           0\n",
       "PW_SOURCE                0\n",
       "PW_SOURCE_YEAR           0\n",
       "PW_SOURCE_OTHER          0\n",
       "WAGE_RATE_OF_PAY_FROM    0\n",
       "WAGE_RATE_OF_PAY_TO      0\n",
       "WAGE_UNIT_OF_PAY         0\n",
       "H-1B_DEPENDENT           0\n",
       "WILLFUL_VIOLATOR         0\n",
       "WORKSITE_STATE           0\n",
       "WORKSITE_POSTAL_CODE     0\n",
       "CASE_STATUS              0\n",
       "dtype: int64"
      ]
     },
     "execution_count": 74,
     "metadata": {},
     "output_type": "execute_result"
    }
   ],
   "source": [
    "# After imputation Get a count of missing values in the dataset\n",
    "data1.apply(lambda x: sum(x.isnull()),axis=0)"
   ]
  },
  {
   "cell_type": "code",
   "execution_count": 75,
   "metadata": {},
   "outputs": [],
   "source": [
    "data1['CASE_STATUS'].replace(['CERTIFIED','CERTIFIEDWITHDRAWN','WITHDRAWN'],[1,0,2],inplace=True)"
   ]
  },
  {
   "cell_type": "code",
   "execution_count": 76,
   "metadata": {},
   "outputs": [
    {
     "data": {
      "text/html": [
       "<div>\n",
       "<style scoped>\n",
       "    .dataframe tbody tr th:only-of-type {\n",
       "        vertical-align: middle;\n",
       "    }\n",
       "\n",
       "    .dataframe tbody tr th {\n",
       "        vertical-align: top;\n",
       "    }\n",
       "\n",
       "    .dataframe thead th {\n",
       "        text-align: right;\n",
       "    }\n",
       "</style>\n",
       "<table border=\"1\" class=\"dataframe\">\n",
       "  <thead>\n",
       "    <tr style=\"text-align: right;\">\n",
       "      <th></th>\n",
       "      <th>CASE_SUBMITTED_DAY</th>\n",
       "      <th>CASE_SUBMITTED_MONTH</th>\n",
       "      <th>CASE_SUBMITTED_YEAR</th>\n",
       "      <th>DECISION_DAY</th>\n",
       "      <th>DECISION_MONTH</th>\n",
       "      <th>DECISION_YEAR</th>\n",
       "      <th>VISA_CLASS</th>\n",
       "      <th>EMPLOYER_NAME</th>\n",
       "      <th>EMPLOYER_STATE</th>\n",
       "      <th>EMPLOYER_COUNTRY</th>\n",
       "      <th>...</th>\n",
       "      <th>PW_SOURCE_YEAR</th>\n",
       "      <th>PW_SOURCE_OTHER</th>\n",
       "      <th>WAGE_RATE_OF_PAY_FROM</th>\n",
       "      <th>WAGE_RATE_OF_PAY_TO</th>\n",
       "      <th>WAGE_UNIT_OF_PAY</th>\n",
       "      <th>H-1B_DEPENDENT</th>\n",
       "      <th>WILLFUL_VIOLATOR</th>\n",
       "      <th>WORKSITE_STATE</th>\n",
       "      <th>WORKSITE_POSTAL_CODE</th>\n",
       "      <th>CASE_STATUS</th>\n",
       "    </tr>\n",
       "  </thead>\n",
       "  <tbody>\n",
       "    <tr>\n",
       "      <td>0</td>\n",
       "      <td>24</td>\n",
       "      <td>2</td>\n",
       "      <td>2016</td>\n",
       "      <td>1</td>\n",
       "      <td>10</td>\n",
       "      <td>2016</td>\n",
       "      <td>H1B</td>\n",
       "      <td>DISCOVER PRODUCTS INC</td>\n",
       "      <td>IL</td>\n",
       "      <td>UNITED STATES OF AMERICA</td>\n",
       "      <td>...</td>\n",
       "      <td>2015</td>\n",
       "      <td>OFLC ONLINE DATA CENTER</td>\n",
       "      <td>65811.0</td>\n",
       "      <td>67320.0</td>\n",
       "      <td>Year</td>\n",
       "      <td>N</td>\n",
       "      <td>N</td>\n",
       "      <td>IL</td>\n",
       "      <td>60015</td>\n",
       "      <td>0</td>\n",
       "    </tr>\n",
       "    <tr>\n",
       "      <td>1</td>\n",
       "      <td>4</td>\n",
       "      <td>3</td>\n",
       "      <td>2016</td>\n",
       "      <td>1</td>\n",
       "      <td>10</td>\n",
       "      <td>2016</td>\n",
       "      <td>H1B</td>\n",
       "      <td>DFS SERVICES LLC</td>\n",
       "      <td>IL</td>\n",
       "      <td>UNITED STATES OF AMERICA</td>\n",
       "      <td>...</td>\n",
       "      <td>2015</td>\n",
       "      <td>WILLIS TOWERS WATSON SURVEY</td>\n",
       "      <td>53000.0</td>\n",
       "      <td>57200.0</td>\n",
       "      <td>Year</td>\n",
       "      <td>N</td>\n",
       "      <td>N</td>\n",
       "      <td>IL</td>\n",
       "      <td>60015</td>\n",
       "      <td>0</td>\n",
       "    </tr>\n",
       "    <tr>\n",
       "      <td>2</td>\n",
       "      <td>10</td>\n",
       "      <td>3</td>\n",
       "      <td>2016</td>\n",
       "      <td>1</td>\n",
       "      <td>10</td>\n",
       "      <td>2016</td>\n",
       "      <td>H1B</td>\n",
       "      <td>EASTBANC TECHNOLOGIES LLC</td>\n",
       "      <td>DC</td>\n",
       "      <td>UNITED STATES OF AMERICA</td>\n",
       "      <td>...</td>\n",
       "      <td>2015</td>\n",
       "      <td>OFLC ONLINE DATA CENTER</td>\n",
       "      <td>77000.0</td>\n",
       "      <td>0.0</td>\n",
       "      <td>Year</td>\n",
       "      <td>Y</td>\n",
       "      <td>N</td>\n",
       "      <td>DC</td>\n",
       "      <td>20007</td>\n",
       "      <td>0</td>\n",
       "    </tr>\n",
       "    <tr>\n",
       "      <td>3</td>\n",
       "      <td>28</td>\n",
       "      <td>9</td>\n",
       "      <td>2016</td>\n",
       "      <td>1</td>\n",
       "      <td>10</td>\n",
       "      <td>2016</td>\n",
       "      <td>H1B</td>\n",
       "      <td>INFO SERVICES LLC</td>\n",
       "      <td>MI</td>\n",
       "      <td>UNITED STATES OF AMERICA</td>\n",
       "      <td>...</td>\n",
       "      <td>2016</td>\n",
       "      <td>OFLC ONLINE DATA CENTER</td>\n",
       "      <td>102000.0</td>\n",
       "      <td>0.0</td>\n",
       "      <td>Year</td>\n",
       "      <td>Y</td>\n",
       "      <td>N</td>\n",
       "      <td>NJ</td>\n",
       "      <td>7302</td>\n",
       "      <td>2</td>\n",
       "    </tr>\n",
       "    <tr>\n",
       "      <td>4</td>\n",
       "      <td>22</td>\n",
       "      <td>2</td>\n",
       "      <td>2015</td>\n",
       "      <td>2</td>\n",
       "      <td>10</td>\n",
       "      <td>2016</td>\n",
       "      <td>H1B</td>\n",
       "      <td>BBandT CORPORATION</td>\n",
       "      <td>NC</td>\n",
       "      <td>UNITED STATES OF AMERICA</td>\n",
       "      <td>...</td>\n",
       "      <td>2015</td>\n",
       "      <td>OFLC ONLINE DATA CENTER</td>\n",
       "      <td>132500.0</td>\n",
       "      <td>0.0</td>\n",
       "      <td>Year</td>\n",
       "      <td>N</td>\n",
       "      <td>N</td>\n",
       "      <td>NY</td>\n",
       "      <td>10036</td>\n",
       "      <td>0</td>\n",
       "    </tr>\n",
       "    <tr>\n",
       "      <td>...</td>\n",
       "      <td>...</td>\n",
       "      <td>...</td>\n",
       "      <td>...</td>\n",
       "      <td>...</td>\n",
       "      <td>...</td>\n",
       "      <td>...</td>\n",
       "      <td>...</td>\n",
       "      <td>...</td>\n",
       "      <td>...</td>\n",
       "      <td>...</td>\n",
       "      <td>...</td>\n",
       "      <td>...</td>\n",
       "      <td>...</td>\n",
       "      <td>...</td>\n",
       "      <td>...</td>\n",
       "      <td>...</td>\n",
       "      <td>...</td>\n",
       "      <td>...</td>\n",
       "      <td>...</td>\n",
       "      <td>...</td>\n",
       "      <td>...</td>\n",
       "    </tr>\n",
       "    <tr>\n",
       "      <td>994</td>\n",
       "      <td>27</td>\n",
       "      <td>9</td>\n",
       "      <td>2016</td>\n",
       "      <td>3</td>\n",
       "      <td>10</td>\n",
       "      <td>2016</td>\n",
       "      <td>H1B</td>\n",
       "      <td>PCTEL INC</td>\n",
       "      <td>IL</td>\n",
       "      <td>UNITED STATES OF AMERICA</td>\n",
       "      <td>...</td>\n",
       "      <td>2016</td>\n",
       "      <td>OFLC ONLINE DATA CENTER</td>\n",
       "      <td>75500.0</td>\n",
       "      <td>90000.0</td>\n",
       "      <td>Year</td>\n",
       "      <td>N</td>\n",
       "      <td>N</td>\n",
       "      <td>NJ</td>\n",
       "      <td>7059</td>\n",
       "      <td>1</td>\n",
       "    </tr>\n",
       "    <tr>\n",
       "      <td>995</td>\n",
       "      <td>27</td>\n",
       "      <td>9</td>\n",
       "      <td>2016</td>\n",
       "      <td>3</td>\n",
       "      <td>10</td>\n",
       "      <td>2016</td>\n",
       "      <td>H1B</td>\n",
       "      <td>PEARL CONSTRUCTION ENVIRONMENTAL SERVICE INC</td>\n",
       "      <td>GU</td>\n",
       "      <td>UNITED STATES OF AMERICA</td>\n",
       "      <td>...</td>\n",
       "      <td>2016</td>\n",
       "      <td>OFLC ONLINE DATA CENTER</td>\n",
       "      <td>37939.0</td>\n",
       "      <td>0.0</td>\n",
       "      <td>Year</td>\n",
       "      <td>N</td>\n",
       "      <td>N</td>\n",
       "      <td>GU</td>\n",
       "      <td>96910</td>\n",
       "      <td>1</td>\n",
       "    </tr>\n",
       "    <tr>\n",
       "      <td>996</td>\n",
       "      <td>27</td>\n",
       "      <td>9</td>\n",
       "      <td>2016</td>\n",
       "      <td>3</td>\n",
       "      <td>10</td>\n",
       "      <td>2016</td>\n",
       "      <td>H1B</td>\n",
       "      <td>PEGASYS SYSTEMS AND TECHNOLOGIES INC</td>\n",
       "      <td>MI</td>\n",
       "      <td>UNITED STATES OF AMERICA</td>\n",
       "      <td>...</td>\n",
       "      <td>2016</td>\n",
       "      <td>OFLC ONLINE DATA CENTER</td>\n",
       "      <td>83304.0</td>\n",
       "      <td>0.0</td>\n",
       "      <td>Year</td>\n",
       "      <td>Y</td>\n",
       "      <td>N</td>\n",
       "      <td>VA</td>\n",
       "      <td>20190</td>\n",
       "      <td>1</td>\n",
       "    </tr>\n",
       "    <tr>\n",
       "      <td>997</td>\n",
       "      <td>27</td>\n",
       "      <td>9</td>\n",
       "      <td>2016</td>\n",
       "      <td>3</td>\n",
       "      <td>10</td>\n",
       "      <td>2016</td>\n",
       "      <td>H1B</td>\n",
       "      <td>PELCO INC</td>\n",
       "      <td>MA</td>\n",
       "      <td>UNITED STATES OF AMERICA</td>\n",
       "      <td>...</td>\n",
       "      <td>2016</td>\n",
       "      <td>OFLC ONLINE DATA CENTER</td>\n",
       "      <td>76066.0</td>\n",
       "      <td>82477.2</td>\n",
       "      <td>Year</td>\n",
       "      <td>N</td>\n",
       "      <td>N</td>\n",
       "      <td>CA</td>\n",
       "      <td>93612</td>\n",
       "      <td>1</td>\n",
       "    </tr>\n",
       "    <tr>\n",
       "      <td>998</td>\n",
       "      <td>27</td>\n",
       "      <td>9</td>\n",
       "      <td>2016</td>\n",
       "      <td>3</td>\n",
       "      <td>10</td>\n",
       "      <td>2016</td>\n",
       "      <td>H1B</td>\n",
       "      <td>PELICAN EDUCATIONAL FOUNDATION</td>\n",
       "      <td>LA</td>\n",
       "      <td>UNITED STATES OF AMERICA</td>\n",
       "      <td>...</td>\n",
       "      <td>2016</td>\n",
       "      <td>OFLC ONLINE DATA CENTER</td>\n",
       "      <td>43080.0</td>\n",
       "      <td>0.0</td>\n",
       "      <td>Year</td>\n",
       "      <td>N</td>\n",
       "      <td>N</td>\n",
       "      <td>LA</td>\n",
       "      <td>70808</td>\n",
       "      <td>1</td>\n",
       "    </tr>\n",
       "  </tbody>\n",
       "</table>\n",
       "<p>999 rows × 27 columns</p>\n",
       "</div>"
      ],
      "text/plain": [
       "     CASE_SUBMITTED_DAY  CASE_SUBMITTED_MONTH  CASE_SUBMITTED_YEAR  \\\n",
       "0                    24                     2                 2016   \n",
       "1                     4                     3                 2016   \n",
       "2                    10                     3                 2016   \n",
       "3                    28                     9                 2016   \n",
       "4                    22                     2                 2015   \n",
       "..                  ...                   ...                  ...   \n",
       "994                  27                     9                 2016   \n",
       "995                  27                     9                 2016   \n",
       "996                  27                     9                 2016   \n",
       "997                  27                     9                 2016   \n",
       "998                  27                     9                 2016   \n",
       "\n",
       "     DECISION_DAY  DECISION_MONTH  DECISION_YEAR VISA_CLASS  \\\n",
       "0               1              10           2016        H1B   \n",
       "1               1              10           2016        H1B   \n",
       "2               1              10           2016        H1B   \n",
       "3               1              10           2016        H1B   \n",
       "4               2              10           2016        H1B   \n",
       "..            ...             ...            ...        ...   \n",
       "994             3              10           2016        H1B   \n",
       "995             3              10           2016        H1B   \n",
       "996             3              10           2016        H1B   \n",
       "997             3              10           2016        H1B   \n",
       "998             3              10           2016        H1B   \n",
       "\n",
       "                                    EMPLOYER_NAME EMPLOYER_STATE  \\\n",
       "0                           DISCOVER PRODUCTS INC             IL   \n",
       "1                                DFS SERVICES LLC             IL   \n",
       "2                       EASTBANC TECHNOLOGIES LLC             DC   \n",
       "3                               INFO SERVICES LLC             MI   \n",
       "4                              BBandT CORPORATION             NC   \n",
       "..                                            ...            ...   \n",
       "994                                     PCTEL INC             IL   \n",
       "995  PEARL CONSTRUCTION ENVIRONMENTAL SERVICE INC             GU   \n",
       "996          PEGASYS SYSTEMS AND TECHNOLOGIES INC             MI   \n",
       "997                                     PELCO INC             MA   \n",
       "998                PELICAN EDUCATIONAL FOUNDATION             LA   \n",
       "\n",
       "             EMPLOYER_COUNTRY  ... PW_SOURCE_YEAR  \\\n",
       "0    UNITED STATES OF AMERICA  ...           2015   \n",
       "1    UNITED STATES OF AMERICA  ...           2015   \n",
       "2    UNITED STATES OF AMERICA  ...           2015   \n",
       "3    UNITED STATES OF AMERICA  ...           2016   \n",
       "4    UNITED STATES OF AMERICA  ...           2015   \n",
       "..                        ...  ...            ...   \n",
       "994  UNITED STATES OF AMERICA  ...           2016   \n",
       "995  UNITED STATES OF AMERICA  ...           2016   \n",
       "996  UNITED STATES OF AMERICA  ...           2016   \n",
       "997  UNITED STATES OF AMERICA  ...           2016   \n",
       "998  UNITED STATES OF AMERICA  ...           2016   \n",
       "\n",
       "                 PW_SOURCE_OTHER  WAGE_RATE_OF_PAY_FROM WAGE_RATE_OF_PAY_TO  \\\n",
       "0        OFLC ONLINE DATA CENTER                65811.0             67320.0   \n",
       "1    WILLIS TOWERS WATSON SURVEY                53000.0             57200.0   \n",
       "2        OFLC ONLINE DATA CENTER                77000.0                 0.0   \n",
       "3        OFLC ONLINE DATA CENTER               102000.0                 0.0   \n",
       "4        OFLC ONLINE DATA CENTER               132500.0                 0.0   \n",
       "..                           ...                    ...                 ...   \n",
       "994      OFLC ONLINE DATA CENTER                75500.0             90000.0   \n",
       "995      OFLC ONLINE DATA CENTER                37939.0                 0.0   \n",
       "996      OFLC ONLINE DATA CENTER                83304.0                 0.0   \n",
       "997      OFLC ONLINE DATA CENTER                76066.0             82477.2   \n",
       "998      OFLC ONLINE DATA CENTER                43080.0                 0.0   \n",
       "\n",
       "     WAGE_UNIT_OF_PAY H-1B_DEPENDENT WILLFUL_VIOLATOR  WORKSITE_STATE  \\\n",
       "0                Year              N                N              IL   \n",
       "1                Year              N                N              IL   \n",
       "2                Year              Y                N              DC   \n",
       "3                Year              Y                N              NJ   \n",
       "4                Year              N                N              NY   \n",
       "..                ...            ...              ...             ...   \n",
       "994              Year              N                N              NJ   \n",
       "995              Year              N                N              GU   \n",
       "996              Year              Y                N              VA   \n",
       "997              Year              N                N              CA   \n",
       "998              Year              N                N              LA   \n",
       "\n",
       "    WORKSITE_POSTAL_CODE  CASE_STATUS  \n",
       "0                  60015            0  \n",
       "1                  60015            0  \n",
       "2                  20007            0  \n",
       "3                   7302            2  \n",
       "4                  10036            0  \n",
       "..                   ...          ...  \n",
       "994                 7059            1  \n",
       "995                96910            1  \n",
       "996                20190            1  \n",
       "997                93612            1  \n",
       "998                70808            1  \n",
       "\n",
       "[999 rows x 27 columns]"
      ]
     },
     "execution_count": 76,
     "metadata": {},
     "output_type": "execute_result"
    }
   ],
   "source": [
    "data1"
   ]
  },
  {
   "cell_type": "markdown",
   "metadata": {},
   "source": [
    "# Label Encoding"
   ]
  },
  {
   "cell_type": "code",
   "execution_count": 77,
   "metadata": {},
   "outputs": [],
   "source": [
    "x=data1.iloc[:,6:27]\n"
   ]
  },
  {
   "cell_type": "code",
   "execution_count": 78,
   "metadata": {},
   "outputs": [
    {
     "data": {
      "text/html": [
       "<div>\n",
       "<style scoped>\n",
       "    .dataframe tbody tr th:only-of-type {\n",
       "        vertical-align: middle;\n",
       "    }\n",
       "\n",
       "    .dataframe tbody tr th {\n",
       "        vertical-align: top;\n",
       "    }\n",
       "\n",
       "    .dataframe thead th {\n",
       "        text-align: right;\n",
       "    }\n",
       "</style>\n",
       "<table border=\"1\" class=\"dataframe\">\n",
       "  <thead>\n",
       "    <tr style=\"text-align: right;\">\n",
       "      <th></th>\n",
       "      <th>VISA_CLASS</th>\n",
       "      <th>EMPLOYER_NAME</th>\n",
       "      <th>EMPLOYER_STATE</th>\n",
       "      <th>EMPLOYER_COUNTRY</th>\n",
       "      <th>SOC_NAME</th>\n",
       "      <th>NAICS_CODE</th>\n",
       "      <th>TOTAL_WORKERS</th>\n",
       "      <th>FULL_TIME_POSITION</th>\n",
       "      <th>PREVAILING_WAGE</th>\n",
       "      <th>PW_UNIT_OF_PAY</th>\n",
       "      <th>...</th>\n",
       "      <th>PW_SOURCE_YEAR</th>\n",
       "      <th>PW_SOURCE_OTHER</th>\n",
       "      <th>WAGE_RATE_OF_PAY_FROM</th>\n",
       "      <th>WAGE_RATE_OF_PAY_TO</th>\n",
       "      <th>WAGE_UNIT_OF_PAY</th>\n",
       "      <th>H-1B_DEPENDENT</th>\n",
       "      <th>WILLFUL_VIOLATOR</th>\n",
       "      <th>WORKSITE_STATE</th>\n",
       "      <th>WORKSITE_POSTAL_CODE</th>\n",
       "      <th>CASE_STATUS</th>\n",
       "    </tr>\n",
       "  </thead>\n",
       "  <tbody>\n",
       "    <tr>\n",
       "      <td>0</td>\n",
       "      <td>H1B</td>\n",
       "      <td>DISCOVER PRODUCTS INC</td>\n",
       "      <td>IL</td>\n",
       "      <td>UNITED STATES OF AMERICA</td>\n",
       "      <td>ANALYSTS</td>\n",
       "      <td>522210</td>\n",
       "      <td>1</td>\n",
       "      <td>Y</td>\n",
       "      <td>59197.0</td>\n",
       "      <td>Year</td>\n",
       "      <td>...</td>\n",
       "      <td>2015</td>\n",
       "      <td>OFLC ONLINE DATA CENTER</td>\n",
       "      <td>65811.0</td>\n",
       "      <td>67320.0</td>\n",
       "      <td>Year</td>\n",
       "      <td>N</td>\n",
       "      <td>N</td>\n",
       "      <td>IL</td>\n",
       "      <td>60015</td>\n",
       "      <td>0</td>\n",
       "    </tr>\n",
       "    <tr>\n",
       "      <td>1</td>\n",
       "      <td>H1B</td>\n",
       "      <td>DFS SERVICES LLC</td>\n",
       "      <td>IL</td>\n",
       "      <td>UNITED STATES OF AMERICA</td>\n",
       "      <td>ANALYSTS</td>\n",
       "      <td>522210</td>\n",
       "      <td>1</td>\n",
       "      <td>Y</td>\n",
       "      <td>49800.0</td>\n",
       "      <td>Year</td>\n",
       "      <td>...</td>\n",
       "      <td>2015</td>\n",
       "      <td>WILLIS TOWERS WATSON SURVEY</td>\n",
       "      <td>53000.0</td>\n",
       "      <td>57200.0</td>\n",
       "      <td>Year</td>\n",
       "      <td>N</td>\n",
       "      <td>N</td>\n",
       "      <td>IL</td>\n",
       "      <td>60015</td>\n",
       "      <td>0</td>\n",
       "    </tr>\n",
       "    <tr>\n",
       "      <td>2</td>\n",
       "      <td>H1B</td>\n",
       "      <td>EASTBANC TECHNOLOGIES LLC</td>\n",
       "      <td>DC</td>\n",
       "      <td>UNITED STATES OF AMERICA</td>\n",
       "      <td>ANALYSTS</td>\n",
       "      <td>541511</td>\n",
       "      <td>2</td>\n",
       "      <td>Y</td>\n",
       "      <td>76502.0</td>\n",
       "      <td>Year</td>\n",
       "      <td>...</td>\n",
       "      <td>2015</td>\n",
       "      <td>OFLC ONLINE DATA CENTER</td>\n",
       "      <td>77000.0</td>\n",
       "      <td>0.0</td>\n",
       "      <td>Year</td>\n",
       "      <td>Y</td>\n",
       "      <td>N</td>\n",
       "      <td>DC</td>\n",
       "      <td>20007</td>\n",
       "      <td>0</td>\n",
       "    </tr>\n",
       "    <tr>\n",
       "      <td>3</td>\n",
       "      <td>H1B</td>\n",
       "      <td>INFO SERVICES LLC</td>\n",
       "      <td>MI</td>\n",
       "      <td>UNITED STATES OF AMERICA</td>\n",
       "      <td>COMPUTER OCCUPATION</td>\n",
       "      <td>541511</td>\n",
       "      <td>1</td>\n",
       "      <td>Y</td>\n",
       "      <td>90376.0</td>\n",
       "      <td>Year</td>\n",
       "      <td>...</td>\n",
       "      <td>2016</td>\n",
       "      <td>OFLC ONLINE DATA CENTER</td>\n",
       "      <td>102000.0</td>\n",
       "      <td>0.0</td>\n",
       "      <td>Year</td>\n",
       "      <td>Y</td>\n",
       "      <td>N</td>\n",
       "      <td>NJ</td>\n",
       "      <td>7302</td>\n",
       "      <td>2</td>\n",
       "    </tr>\n",
       "    <tr>\n",
       "      <td>4</td>\n",
       "      <td>H1B</td>\n",
       "      <td>BBandT CORPORATION</td>\n",
       "      <td>NC</td>\n",
       "      <td>UNITED STATES OF AMERICA</td>\n",
       "      <td>ANALYSTS</td>\n",
       "      <td>522110</td>\n",
       "      <td>1</td>\n",
       "      <td>Y</td>\n",
       "      <td>116605.0</td>\n",
       "      <td>Year</td>\n",
       "      <td>...</td>\n",
       "      <td>2015</td>\n",
       "      <td>OFLC ONLINE DATA CENTER</td>\n",
       "      <td>132500.0</td>\n",
       "      <td>0.0</td>\n",
       "      <td>Year</td>\n",
       "      <td>N</td>\n",
       "      <td>N</td>\n",
       "      <td>NY</td>\n",
       "      <td>10036</td>\n",
       "      <td>0</td>\n",
       "    </tr>\n",
       "    <tr>\n",
       "      <td>...</td>\n",
       "      <td>...</td>\n",
       "      <td>...</td>\n",
       "      <td>...</td>\n",
       "      <td>...</td>\n",
       "      <td>...</td>\n",
       "      <td>...</td>\n",
       "      <td>...</td>\n",
       "      <td>...</td>\n",
       "      <td>...</td>\n",
       "      <td>...</td>\n",
       "      <td>...</td>\n",
       "      <td>...</td>\n",
       "      <td>...</td>\n",
       "      <td>...</td>\n",
       "      <td>...</td>\n",
       "      <td>...</td>\n",
       "      <td>...</td>\n",
       "      <td>...</td>\n",
       "      <td>...</td>\n",
       "      <td>...</td>\n",
       "      <td>...</td>\n",
       "    </tr>\n",
       "    <tr>\n",
       "      <td>994</td>\n",
       "      <td>H1B</td>\n",
       "      <td>PCTEL INC</td>\n",
       "      <td>IL</td>\n",
       "      <td>UNITED STATES OF AMERICA</td>\n",
       "      <td>COMPUTER OCCUPATION</td>\n",
       "      <td>334220</td>\n",
       "      <td>1</td>\n",
       "      <td>Y</td>\n",
       "      <td>75442.0</td>\n",
       "      <td>Year</td>\n",
       "      <td>...</td>\n",
       "      <td>2016</td>\n",
       "      <td>OFLC ONLINE DATA CENTER</td>\n",
       "      <td>75500.0</td>\n",
       "      <td>90000.0</td>\n",
       "      <td>Year</td>\n",
       "      <td>N</td>\n",
       "      <td>N</td>\n",
       "      <td>NJ</td>\n",
       "      <td>7059</td>\n",
       "      <td>1</td>\n",
       "    </tr>\n",
       "    <tr>\n",
       "      <td>995</td>\n",
       "      <td>H1B</td>\n",
       "      <td>PEARL CONSTRUCTION ENVIRONMENTAL SERVICE INC</td>\n",
       "      <td>GU</td>\n",
       "      <td>UNITED STATES OF AMERICA</td>\n",
       "      <td>COMPUTER OCCUPATION</td>\n",
       "      <td>236220</td>\n",
       "      <td>1</td>\n",
       "      <td>Y</td>\n",
       "      <td>37939.0</td>\n",
       "      <td>Year</td>\n",
       "      <td>...</td>\n",
       "      <td>2016</td>\n",
       "      <td>OFLC ONLINE DATA CENTER</td>\n",
       "      <td>37939.0</td>\n",
       "      <td>0.0</td>\n",
       "      <td>Year</td>\n",
       "      <td>N</td>\n",
       "      <td>N</td>\n",
       "      <td>GU</td>\n",
       "      <td>96910</td>\n",
       "      <td>1</td>\n",
       "    </tr>\n",
       "    <tr>\n",
       "      <td>996</td>\n",
       "      <td>H1B</td>\n",
       "      <td>PEGASYS SYSTEMS AND TECHNOLOGIES INC</td>\n",
       "      <td>MI</td>\n",
       "      <td>UNITED STATES OF AMERICA</td>\n",
       "      <td>COMPUTER OCCUPATION</td>\n",
       "      <td>541511</td>\n",
       "      <td>1</td>\n",
       "      <td>Y</td>\n",
       "      <td>83304.0</td>\n",
       "      <td>Year</td>\n",
       "      <td>...</td>\n",
       "      <td>2016</td>\n",
       "      <td>OFLC ONLINE DATA CENTER</td>\n",
       "      <td>83304.0</td>\n",
       "      <td>0.0</td>\n",
       "      <td>Year</td>\n",
       "      <td>Y</td>\n",
       "      <td>N</td>\n",
       "      <td>VA</td>\n",
       "      <td>20190</td>\n",
       "      <td>1</td>\n",
       "    </tr>\n",
       "    <tr>\n",
       "      <td>997</td>\n",
       "      <td>H1B</td>\n",
       "      <td>PELCO INC</td>\n",
       "      <td>MA</td>\n",
       "      <td>UNITED STATES OF AMERICA</td>\n",
       "      <td>COMPUTER OCCUPATION</td>\n",
       "      <td>334290</td>\n",
       "      <td>1</td>\n",
       "      <td>Y</td>\n",
       "      <td>76066.0</td>\n",
       "      <td>Year</td>\n",
       "      <td>...</td>\n",
       "      <td>2016</td>\n",
       "      <td>OFLC ONLINE DATA CENTER</td>\n",
       "      <td>76066.0</td>\n",
       "      <td>82477.2</td>\n",
       "      <td>Year</td>\n",
       "      <td>N</td>\n",
       "      <td>N</td>\n",
       "      <td>CA</td>\n",
       "      <td>93612</td>\n",
       "      <td>1</td>\n",
       "    </tr>\n",
       "    <tr>\n",
       "      <td>998</td>\n",
       "      <td>H1B</td>\n",
       "      <td>PELICAN EDUCATIONAL FOUNDATION</td>\n",
       "      <td>LA</td>\n",
       "      <td>UNITED STATES OF AMERICA</td>\n",
       "      <td>COMPUTER OCCUPATION</td>\n",
       "      <td>6117</td>\n",
       "      <td>1</td>\n",
       "      <td>Y</td>\n",
       "      <td>43080.0</td>\n",
       "      <td>Year</td>\n",
       "      <td>...</td>\n",
       "      <td>2016</td>\n",
       "      <td>OFLC ONLINE DATA CENTER</td>\n",
       "      <td>43080.0</td>\n",
       "      <td>0.0</td>\n",
       "      <td>Year</td>\n",
       "      <td>N</td>\n",
       "      <td>N</td>\n",
       "      <td>LA</td>\n",
       "      <td>70808</td>\n",
       "      <td>1</td>\n",
       "    </tr>\n",
       "  </tbody>\n",
       "</table>\n",
       "<p>999 rows × 21 columns</p>\n",
       "</div>"
      ],
      "text/plain": [
       "    VISA_CLASS                                 EMPLOYER_NAME EMPLOYER_STATE  \\\n",
       "0          H1B                         DISCOVER PRODUCTS INC             IL   \n",
       "1          H1B                              DFS SERVICES LLC             IL   \n",
       "2          H1B                     EASTBANC TECHNOLOGIES LLC             DC   \n",
       "3          H1B                             INFO SERVICES LLC             MI   \n",
       "4          H1B                            BBandT CORPORATION             NC   \n",
       "..         ...                                           ...            ...   \n",
       "994        H1B                                     PCTEL INC             IL   \n",
       "995        H1B  PEARL CONSTRUCTION ENVIRONMENTAL SERVICE INC             GU   \n",
       "996        H1B          PEGASYS SYSTEMS AND TECHNOLOGIES INC             MI   \n",
       "997        H1B                                     PELCO INC             MA   \n",
       "998        H1B                PELICAN EDUCATIONAL FOUNDATION             LA   \n",
       "\n",
       "             EMPLOYER_COUNTRY             SOC_NAME  NAICS_CODE  TOTAL_WORKERS  \\\n",
       "0    UNITED STATES OF AMERICA             ANALYSTS      522210              1   \n",
       "1    UNITED STATES OF AMERICA             ANALYSTS      522210              1   \n",
       "2    UNITED STATES OF AMERICA             ANALYSTS      541511              2   \n",
       "3    UNITED STATES OF AMERICA  COMPUTER OCCUPATION      541511              1   \n",
       "4    UNITED STATES OF AMERICA             ANALYSTS      522110              1   \n",
       "..                        ...                  ...         ...            ...   \n",
       "994  UNITED STATES OF AMERICA  COMPUTER OCCUPATION      334220              1   \n",
       "995  UNITED STATES OF AMERICA  COMPUTER OCCUPATION      236220              1   \n",
       "996  UNITED STATES OF AMERICA  COMPUTER OCCUPATION      541511              1   \n",
       "997  UNITED STATES OF AMERICA  COMPUTER OCCUPATION      334290              1   \n",
       "998  UNITED STATES OF AMERICA  COMPUTER OCCUPATION        6117              1   \n",
       "\n",
       "    FULL_TIME_POSITION  PREVAILING_WAGE PW_UNIT_OF_PAY  ... PW_SOURCE_YEAR  \\\n",
       "0                    Y          59197.0           Year  ...           2015   \n",
       "1                    Y          49800.0           Year  ...           2015   \n",
       "2                    Y          76502.0           Year  ...           2015   \n",
       "3                    Y          90376.0           Year  ...           2016   \n",
       "4                    Y         116605.0           Year  ...           2015   \n",
       "..                 ...              ...            ...  ...            ...   \n",
       "994                  Y          75442.0           Year  ...           2016   \n",
       "995                  Y          37939.0           Year  ...           2016   \n",
       "996                  Y          83304.0           Year  ...           2016   \n",
       "997                  Y          76066.0           Year  ...           2016   \n",
       "998                  Y          43080.0           Year  ...           2016   \n",
       "\n",
       "                 PW_SOURCE_OTHER WAGE_RATE_OF_PAY_FROM  WAGE_RATE_OF_PAY_TO  \\\n",
       "0        OFLC ONLINE DATA CENTER               65811.0              67320.0   \n",
       "1    WILLIS TOWERS WATSON SURVEY               53000.0              57200.0   \n",
       "2        OFLC ONLINE DATA CENTER               77000.0                  0.0   \n",
       "3        OFLC ONLINE DATA CENTER              102000.0                  0.0   \n",
       "4        OFLC ONLINE DATA CENTER              132500.0                  0.0   \n",
       "..                           ...                   ...                  ...   \n",
       "994      OFLC ONLINE DATA CENTER               75500.0              90000.0   \n",
       "995      OFLC ONLINE DATA CENTER               37939.0                  0.0   \n",
       "996      OFLC ONLINE DATA CENTER               83304.0                  0.0   \n",
       "997      OFLC ONLINE DATA CENTER               76066.0              82477.2   \n",
       "998      OFLC ONLINE DATA CENTER               43080.0                  0.0   \n",
       "\n",
       "     WAGE_UNIT_OF_PAY H-1B_DEPENDENT WILLFUL_VIOLATOR WORKSITE_STATE  \\\n",
       "0                Year              N                N             IL   \n",
       "1                Year              N                N             IL   \n",
       "2                Year              Y                N             DC   \n",
       "3                Year              Y                N             NJ   \n",
       "4                Year              N                N             NY   \n",
       "..                ...            ...              ...            ...   \n",
       "994              Year              N                N             NJ   \n",
       "995              Year              N                N             GU   \n",
       "996              Year              Y                N             VA   \n",
       "997              Year              N                N             CA   \n",
       "998              Year              N                N             LA   \n",
       "\n",
       "    WORKSITE_POSTAL_CODE  CASE_STATUS  \n",
       "0                  60015            0  \n",
       "1                  60015            0  \n",
       "2                  20007            0  \n",
       "3                   7302            2  \n",
       "4                  10036            0  \n",
       "..                   ...          ...  \n",
       "994                 7059            1  \n",
       "995                96910            1  \n",
       "996                20190            1  \n",
       "997                93612            1  \n",
       "998                70808            1  \n",
       "\n",
       "[999 rows x 21 columns]"
      ]
     },
     "execution_count": 78,
     "metadata": {},
     "output_type": "execute_result"
    }
   ],
   "source": [
    "x"
   ]
  },
  {
   "cell_type": "code",
   "execution_count": 79,
   "metadata": {},
   "outputs": [],
   "source": [
    "x=data1.iloc[:,6:27].values\n",
    "y=data1.iloc[:, 26].values"
   ]
  },
  {
   "cell_type": "code",
   "execution_count": 80,
   "metadata": {},
   "outputs": [
    {
     "data": {
      "text/plain": [
       "array([['H1B', 'DISCOVER PRODUCTS INC', 'IL', ..., 'IL', 60015, 0],\n",
       "       ['H1B', 'DFS SERVICES LLC', 'IL', ..., 'IL', 60015, 0],\n",
       "       ['H1B', 'EASTBANC TECHNOLOGIES LLC', 'DC', ..., 'DC', 20007, 0],\n",
       "       ...,\n",
       "       ['H1B', 'PEGASYS SYSTEMS AND TECHNOLOGIES INC', 'MI', ..., 'VA',\n",
       "        20190, 1],\n",
       "       ['H1B', 'PELCO INC', 'MA', ..., 'CA', 93612, 1],\n",
       "       ['H1B', 'PELICAN EDUCATIONAL FOUNDATION', 'LA', ..., 'LA', 70808,\n",
       "        1]], dtype=object)"
      ]
     },
     "execution_count": 80,
     "metadata": {},
     "output_type": "execute_result"
    }
   ],
   "source": [
    "x"
   ]
  },
  {
   "cell_type": "code",
   "execution_count": 81,
   "metadata": {},
   "outputs": [
    {
     "data": {
      "text/plain": [
       "array([0, 0, 0, 2, 0, 0, 0, 0, 0, 0, 0, 0, 0, 0, 0, 0, 2, 0, 0, 0, 0, 0,\n",
       "       0, 0, 0, 0, 0, 0, 0, 0, 0, 0, 0, 0, 0, 0, 0, 0, 0, 0, 0, 0, 0, 0,\n",
       "       0, 0, 0, 0, 0, 0, 0, 0, 0, 0, 0, 0, 0, 0, 0, 0, 0, 0, 0, 0, 0, 0,\n",
       "       0, 0, 0, 0, 0, 0, 0, 0, 0, 0, 0, 0, 0, 0, 0, 0, 0, 0, 0, 0, 0, 0,\n",
       "       0, 0, 0, 0, 0, 0, 0, 0, 0, 0, 0, 0, 0, 0, 0, 0, 0, 0, 0, 0, 0, 1,\n",
       "       0, 0, 0, 0, 0, 0, 0, 0, 0, 0, 0, 0, 0, 0, 0, 0, 0, 0, 0, 0, 0, 0,\n",
       "       0, 0, 0, 0, 0, 0, 0, 0, 0, 0, 0, 0, 0, 0, 0, 0, 0, 0, 0, 0, 0, 0,\n",
       "       0, 0, 0, 0, 0, 0, 0, 0, 0, 0, 0, 0, 0, 0, 0, 0, 0, 0, 0, 0, 0, 0,\n",
       "       0, 0, 0, 0, 0, 0, 0, 0, 0, 0, 1, 1, 1, 1, 1, 1, 1, 1, 1, 1, 1, 1,\n",
       "       1, 1, 1, 1, 1, 1, 1, 1, 1, 1, 1, 1, 1, 1, 1, 1, 1, 1, 1, 1, 1, 1,\n",
       "       1, 1, 1, 1, 1, 1, 1, 1, 1, 1, 1, 1, 1, 1, 1, 1, 1, 1, 1, 1, 1, 1,\n",
       "       1, 1, 1, 1, 1, 1, 1, 1, 1, 1, 1, 1, 1, 1, 1, 1, 1, 1, 1, 1, 1, 1,\n",
       "       1, 1, 1, 1, 1, 1, 1, 1, 1, 1, 1, 1, 1, 1, 1, 1, 1, 1, 1, 1, 1, 1,\n",
       "       1, 1, 1, 1, 1, 1, 1, 1, 1, 1, 1, 1, 1, 1, 1, 1, 1, 1, 1, 1, 1, 1,\n",
       "       1, 1, 1, 1, 1, 1, 1, 1, 1, 1, 1, 1, 1, 1, 1, 1, 1, 1, 1, 1, 1, 1,\n",
       "       1, 1, 1, 1, 1, 1, 1, 1, 1, 1, 1, 1, 1, 1, 1, 1, 1, 1, 1, 1, 1, 1,\n",
       "       1, 1, 1, 1, 1, 1, 1, 1, 1, 1, 1, 1, 1, 1, 1, 1, 1, 1, 1, 1, 1, 1,\n",
       "       1, 1, 1, 1, 1, 1, 1, 1, 1, 1, 1, 1, 1, 1, 1, 1, 1, 1, 1, 1, 1, 1,\n",
       "       1, 1, 1, 1, 1, 1, 1, 1, 1, 1, 1, 1, 1, 1, 1, 1, 1, 1, 1, 1, 1, 1,\n",
       "       1, 1, 1, 1, 1, 1, 1, 1, 1, 1, 1, 1, 1, 1, 1, 1, 1, 1, 1, 1, 1, 1,\n",
       "       1, 1, 1, 1, 1, 1, 1, 1, 1, 1, 1, 1, 1, 1, 1, 1, 1, 1, 1, 1, 1, 1,\n",
       "       1, 1, 1, 1, 1, 1, 1, 1, 1, 1, 1, 1, 1, 1, 1, 1, 1, 1, 1, 1, 1, 1,\n",
       "       1, 1, 1, 1, 1, 1, 1, 1, 1, 1, 1, 1, 1, 1, 1, 1, 1, 1, 1, 1, 1, 1,\n",
       "       1, 1, 1, 1, 1, 1, 1, 1, 1, 1, 1, 1, 1, 1, 1, 1, 1, 1, 1, 1, 1, 1,\n",
       "       1, 1, 1, 1, 1, 1, 1, 1, 1, 1, 1, 1, 1, 1, 1, 1, 1, 1, 1, 1, 1, 1,\n",
       "       1, 1, 1, 1, 1, 1, 1, 1, 1, 1, 1, 1, 1, 1, 1, 1, 1, 1, 1, 1, 1, 1,\n",
       "       1, 1, 1, 1, 1, 1, 1, 1, 1, 1, 1, 1, 1, 1, 1, 1, 1, 1, 1, 1, 1, 1,\n",
       "       1, 1, 1, 1, 1, 1, 1, 1, 1, 2, 1, 1, 1, 1, 1, 1, 1, 1, 1, 1, 1, 1,\n",
       "       1, 1, 1, 1, 1, 1, 1, 1, 1, 1, 1, 1, 1, 1, 1, 1, 1, 1, 1, 1, 1, 1,\n",
       "       1, 1, 1, 1, 1, 1, 1, 1, 1, 1, 1, 1, 1, 1, 1, 1, 1, 1, 1, 1, 1, 1,\n",
       "       1, 1, 1, 1, 1, 1, 1, 1, 1, 1, 1, 1, 1, 1, 1, 1, 1, 2, 1, 1, 1, 1,\n",
       "       1, 1, 1, 1, 1, 1, 1, 1, 1, 1, 1, 1, 1, 1, 1, 1, 1, 1, 1, 1, 1, 1,\n",
       "       1, 1, 1, 1, 1, 1, 1, 1, 1, 1, 1, 1, 1, 1, 1, 1, 1, 1, 1, 1, 1, 1,\n",
       "       1, 1, 1, 1, 1, 1, 1, 1, 1, 1, 1, 1, 1, 1, 1, 1, 1, 1, 1, 1, 1, 1,\n",
       "       1, 1, 1, 1, 1, 1, 1, 1, 1, 1, 1, 1, 1, 1, 1, 1, 1, 1, 1, 1, 1, 1,\n",
       "       1, 1, 1, 1, 1, 1, 1, 1, 1, 1, 1, 1, 1, 1, 1, 1, 1, 1, 1, 1, 1, 1,\n",
       "       1, 1, 1, 1, 1, 1, 1, 1, 1, 1, 1, 1, 1, 1, 1, 1, 1, 1, 1, 1, 1, 1,\n",
       "       1, 1, 1, 1, 1, 1, 1, 1, 1, 1, 1, 1, 1, 1, 1, 1, 1, 1, 1, 1, 1, 1,\n",
       "       1, 1, 1, 1, 1, 1, 1, 1, 1, 1, 1, 1, 1, 1, 1, 1, 1, 1, 1, 1, 1, 1,\n",
       "       1, 1, 1, 1, 1, 1, 1, 1, 1, 1, 1, 1, 1, 1, 1, 1, 1, 1, 1, 1, 1, 1,\n",
       "       1, 1, 1, 1, 1, 1, 1, 1, 1, 1, 1, 1, 1, 1, 1, 1, 1, 1, 1, 1, 1, 1,\n",
       "       1, 1, 1, 1, 1, 1, 1, 1, 1, 1, 1, 1, 1, 1, 1, 1, 1, 1, 1, 1, 1, 1,\n",
       "       1, 1, 1, 1, 1, 1, 1, 1, 1, 1, 1, 1, 1, 1, 1, 1, 1, 1, 1, 1, 1, 1,\n",
       "       1, 1, 1, 1, 1, 1, 1, 1, 1, 1, 1, 1, 1, 1, 1, 1, 1, 1, 1, 1, 1, 1,\n",
       "       1, 1, 1, 1, 1, 1, 1, 1, 1, 1, 1, 1, 1, 1, 1, 1, 1, 1, 1, 1, 1, 1,\n",
       "       1, 1, 1, 1, 1, 1, 1, 1, 1], dtype=int64)"
      ]
     },
     "execution_count": 81,
     "metadata": {},
     "output_type": "execute_result"
    }
   ],
   "source": [
    "y"
   ]
  },
  {
   "cell_type": "code",
   "execution_count": 82,
   "metadata": {},
   "outputs": [
    {
     "data": {
      "text/plain": [
       "CASE_SUBMITTED_DAY       False\n",
       "CASE_SUBMITTED_MONTH     False\n",
       "CASE_SUBMITTED_YEAR      False\n",
       "DECISION_DAY             False\n",
       "DECISION_MONTH           False\n",
       "DECISION_YEAR            False\n",
       "VISA_CLASS               False\n",
       "EMPLOYER_NAME            False\n",
       "EMPLOYER_STATE           False\n",
       "EMPLOYER_COUNTRY         False\n",
       "SOC_NAME                 False\n",
       "NAICS_CODE               False\n",
       "TOTAL_WORKERS            False\n",
       "FULL_TIME_POSITION       False\n",
       "PREVAILING_WAGE          False\n",
       "PW_UNIT_OF_PAY           False\n",
       "PW_SOURCE                False\n",
       "PW_SOURCE_YEAR           False\n",
       "PW_SOURCE_OTHER          False\n",
       "WAGE_RATE_OF_PAY_FROM    False\n",
       "WAGE_RATE_OF_PAY_TO      False\n",
       "WAGE_UNIT_OF_PAY         False\n",
       "H-1B_DEPENDENT           False\n",
       "WILLFUL_VIOLATOR         False\n",
       "WORKSITE_STATE           False\n",
       "WORKSITE_POSTAL_CODE     False\n",
       "CASE_STATUS              False\n",
       "dtype: bool"
      ]
     },
     "execution_count": 82,
     "metadata": {},
     "output_type": "execute_result"
    }
   ],
   "source": [
    "data1.isnull().any()"
   ]
  },
  {
   "cell_type": "code",
   "execution_count": 83,
   "metadata": {},
   "outputs": [],
   "source": [
    "from sklearn.preprocessing import LabelEncoder\n",
    "lb=LabelEncoder()\n"
   ]
  },
  {
   "cell_type": "code",
   "execution_count": 84,
   "metadata": {},
   "outputs": [],
   "source": [
    "x[:,0]=lb.fit_transform(x[:,0]) #visa class\n",
    "x[:,1]=lb.fit_transform(x[:,1]) #employer name\n",
    "x[:,2]=lb.fit_transform(x[:,2]) #employer state\n",
    "x[:,3]=lb.fit_transform(x[:,3]) #employer country\n",
    "x[:,4]=lb.fit_transform(x[:,4]) #soc_name\n",
    "x[:,-1]=lb.fit_transform(x[:,-1]) #case status\n",
    "x[:,-3]=lb.fit_transform(x[:,-3]) #worksite state\n",
    "x[:,-4]=lb.fit_transform(x[:,-4])#willfull violator\n",
    "x[:,-5]=lb.fit_transform(x[:,-5])#h1b dependent\n",
    "x[:,7]=lb.fit_transform(x[:,7]) #full time position\n",
    "x[:,9]=lb.fit_transform(x[:,9]) #pw unit of pay\n",
    "x[:,10]=lb.fit_transform(x[:,10]) #pw source\n",
    "x[:,12]=lb.fit_transform(x[:,12]) #pw source other\n",
    "x[:,15]=lb.fit_transform(x[:,15]) #wage unit of pay"
   ]
  },
  {
   "cell_type": "code",
   "execution_count": 85,
   "metadata": {},
   "outputs": [
    {
     "data": {
      "text/plain": [
       "array([[1, 199, 13, ..., 13, 60015, 0],\n",
       "       [1, 195, 13, ..., 13, 60015, 0],\n",
       "       [1, 207, 6, ..., 6, 20007, 0],\n",
       "       ...,\n",
       "       [1, 537, 20, ..., 40, 20190, 1],\n",
       "       [1, 538, 18, ..., 3, 93612, 1],\n",
       "       [1, 539, 17, ..., 17, 70808, 1]], dtype=object)"
      ]
     },
     "execution_count": 85,
     "metadata": {},
     "output_type": "execute_result"
    }
   ],
   "source": [
    "x"
   ]
  },
  {
   "cell_type": "markdown",
   "metadata": {},
   "source": [
    "# One-hot Encoding"
   ]
  },
  {
   "cell_type": "code",
   "execution_count": 86,
   "metadata": {},
   "outputs": [
    {
     "name": "stderr",
     "output_type": "stream",
     "text": [
      "C:\\ProgramData\\Anaconda3\\lib\\site-packages\\sklearn\\preprocessing\\_encoders.py:415: FutureWarning: The handling of integer data will change in version 0.22. Currently, the categories are determined based on the range [0, max(values)], while in the future they will be determined based on the unique values.\n",
      "If you want the future behaviour and silence this warning, you can specify \"categories='auto'\".\n",
      "In case you used a LabelEncoder before this OneHotEncoder to convert the categories to integers, then you can now use the OneHotEncoder directly.\n",
      "  warnings.warn(msg, FutureWarning)\n",
      "C:\\ProgramData\\Anaconda3\\lib\\site-packages\\sklearn\\preprocessing\\_encoders.py:451: DeprecationWarning: The 'categorical_features' keyword is deprecated in version 0.20 and will be removed in 0.22. You can use the ColumnTransformer instead.\n",
      "  \"use the ColumnTransformer instead.\", DeprecationWarning)\n"
     ]
    }
   ],
   "source": [
    "from sklearn.preprocessing import OneHotEncoder\n",
    "oh=OneHotEncoder(categorical_features=[0])\n",
    "x=oh.fit_transform(x).toarray()  "
   ]
  },
  {
   "cell_type": "code",
   "execution_count": 87,
   "metadata": {},
   "outputs": [
    {
     "data": {
      "text/plain": [
       "array([[0.0000e+00, 1.0000e+00, 0.0000e+00, ..., 1.3000e+01, 6.0015e+04,\n",
       "        0.0000e+00],\n",
       "       [0.0000e+00, 1.0000e+00, 0.0000e+00, ..., 1.3000e+01, 6.0015e+04,\n",
       "        0.0000e+00],\n",
       "       [0.0000e+00, 1.0000e+00, 0.0000e+00, ..., 6.0000e+00, 2.0007e+04,\n",
       "        0.0000e+00],\n",
       "       ...,\n",
       "       [0.0000e+00, 1.0000e+00, 0.0000e+00, ..., 4.0000e+01, 2.0190e+04,\n",
       "        1.0000e+00],\n",
       "       [0.0000e+00, 1.0000e+00, 0.0000e+00, ..., 3.0000e+00, 9.3612e+04,\n",
       "        1.0000e+00],\n",
       "       [0.0000e+00, 1.0000e+00, 0.0000e+00, ..., 1.7000e+01, 7.0808e+04,\n",
       "        1.0000e+00]])"
      ]
     },
     "execution_count": 87,
     "metadata": {},
     "output_type": "execute_result"
    }
   ],
   "source": [
    "x"
   ]
  },
  {
   "cell_type": "code",
   "execution_count": 88,
   "metadata": {},
   "outputs": [],
   "source": [
    "x=x[:,1:]"
   ]
  },
  {
   "cell_type": "code",
   "execution_count": 89,
   "metadata": {},
   "outputs": [
    {
     "data": {
      "text/plain": [
       "array([1.0000e+00, 0.0000e+00, 0.0000e+00, 1.9500e+02, 1.3000e+01,\n",
       "       0.0000e+00, 1.0000e+00, 5.2221e+05, 1.0000e+00, 1.0000e+00,\n",
       "       4.9800e+04, 1.0000e+00, 2.0000e+00, 2.0150e+03, 1.1000e+01,\n",
       "       5.3000e+04, 5.7200e+04, 1.0000e+00, 0.0000e+00, 0.0000e+00,\n",
       "       1.3000e+01, 6.0015e+04, 0.0000e+00])"
      ]
     },
     "execution_count": 89,
     "metadata": {},
     "output_type": "execute_result"
    }
   ],
   "source": [
    "x[1,:]"
   ]
  },
  {
   "cell_type": "markdown",
   "metadata": {},
   "source": [
    "# Splitting dataset to test and train"
   ]
  },
  {
   "cell_type": "code",
   "execution_count": 90,
   "metadata": {},
   "outputs": [],
   "source": [
    "from sklearn.model_selection import train_test_split\n",
    "x_train,x_test,y_train,y_test=train_test_split(x,y,test_size=0.2)"
   ]
  },
  {
   "cell_type": "code",
   "execution_count": 91,
   "metadata": {},
   "outputs": [
    {
     "data": {
      "text/plain": [
       "array([[1.0000e+00, 0.0000e+00, 0.0000e+00, ..., 3.8000e+01, 7.7493e+04,\n",
       "        1.0000e+00],\n",
       "       [1.0000e+00, 0.0000e+00, 0.0000e+00, ..., 1.8000e+01, 1.1990e+03,\n",
       "        1.0000e+00],\n",
       "       [1.0000e+00, 0.0000e+00, 0.0000e+00, ..., 2.9000e+01, 1.0018e+04,\n",
       "        1.0000e+00],\n",
       "       ...,\n",
       "       [1.0000e+00, 0.0000e+00, 0.0000e+00, ..., 2.7000e+01, 8.8540e+03,\n",
       "        1.0000e+00],\n",
       "       [1.0000e+00, 0.0000e+00, 0.0000e+00, ..., 2.7000e+01, 7.9810e+03,\n",
       "        1.0000e+00],\n",
       "       [1.0000e+00, 0.0000e+00, 0.0000e+00, ..., 4.1000e+01, 9.8007e+04,\n",
       "        1.0000e+00]])"
      ]
     },
     "execution_count": 91,
     "metadata": {},
     "output_type": "execute_result"
    }
   ],
   "source": [
    "x_train"
   ]
  },
  {
   "cell_type": "code",
   "execution_count": 92,
   "metadata": {},
   "outputs": [
    {
     "data": {
      "text/plain": [
       "array([1, 1, 1, 2, 1, 1, 0, 1, 1, 1, 1, 1, 1, 1, 1, 1, 0, 1, 1, 0, 1, 1,\n",
       "       1, 1, 1, 1, 1, 1, 1, 0, 1, 1, 0, 1, 0, 1, 1, 1, 1, 1, 0, 1, 1, 0,\n",
       "       1, 1, 1, 1, 1, 1, 1, 1, 1, 0, 1, 1, 1, 1, 1, 1, 1, 1, 1, 1, 1, 0,\n",
       "       1, 1, 1, 1, 0, 1, 1, 1, 0, 1, 1, 1, 1, 1, 1, 1, 1, 1, 1, 1, 1, 1,\n",
       "       1, 1, 0, 0, 0, 0, 1, 1, 1, 0, 1, 0, 1, 1, 1, 1, 1, 1, 1, 1, 1, 1,\n",
       "       1, 0, 0, 1, 0, 1, 1, 1, 1, 1, 1, 1, 1, 1, 1, 1, 1, 1, 1, 1, 1, 1,\n",
       "       0, 1, 1, 1, 1, 1, 1, 1, 1, 1, 0, 1, 1, 1, 1, 1, 1, 1, 1, 1, 1, 0,\n",
       "       1, 1, 1, 0, 1, 0, 1, 1, 0, 1, 0, 0, 1, 1, 1, 1, 1, 0, 0, 0, 1, 1,\n",
       "       1, 1, 1, 1, 1, 1, 1, 0, 0, 1, 1, 1, 1, 1, 0, 1, 1, 0, 1, 1, 0, 0,\n",
       "       1, 1, 1, 1, 0, 0, 1, 0, 1, 1, 1, 1, 1, 1, 1, 1, 1, 1, 0, 1, 1, 1,\n",
       "       0, 1, 1, 1, 1, 1, 1, 1, 1, 1, 0, 1, 1, 1, 1, 1, 1, 1, 1, 1, 1, 1,\n",
       "       1, 1, 1, 1, 1, 1, 1, 1, 1, 1, 1, 1, 0, 1, 0, 1, 1, 1, 0, 1, 1, 1,\n",
       "       0, 1, 1, 0, 1, 1, 1, 0, 0, 1, 1, 1, 1, 1, 1, 1, 0, 1, 0, 1, 1, 1,\n",
       "       1, 1, 1, 1, 1, 1, 0, 1, 0, 1, 1, 1, 1, 1, 0, 0, 1, 1, 1, 0, 1, 1,\n",
       "       1, 1, 1, 1, 1, 1, 1, 1, 1, 1, 1, 0, 1, 1, 1, 1, 0, 1, 0, 0, 0, 1,\n",
       "       1, 1, 1, 1, 1, 1, 1, 1, 1, 1, 1, 0, 1, 0, 1, 1, 0, 1, 1, 1, 1, 1,\n",
       "       1, 1, 1, 1, 1, 1, 1, 0, 1, 1, 1, 1, 1, 1, 1, 1, 1, 0, 0, 1, 0, 1,\n",
       "       0, 1, 1, 0, 1, 1, 1, 1, 1, 1, 1, 1, 1, 1, 1, 1, 1, 1, 1, 1, 1, 1,\n",
       "       1, 1, 1, 0, 1, 1, 1, 1, 1, 0, 1, 0, 1, 1, 1, 1, 1, 1, 0, 0, 0, 1,\n",
       "       1, 1, 1, 1, 1, 1, 1, 1, 0, 1, 1, 1, 1, 0, 1, 1, 1, 0, 0, 1, 1, 0,\n",
       "       1, 1, 0, 1, 1, 0, 1, 1, 0, 1, 1, 0, 1, 1, 0, 1, 1, 0, 1, 1, 1, 1,\n",
       "       1, 1, 0, 1, 1, 1, 1, 1, 0, 1, 1, 1, 1, 1, 1, 1, 1, 1, 1, 1, 1, 1,\n",
       "       1, 0, 1, 1, 0, 0, 1, 1, 1, 1, 1, 1, 1, 1, 0, 1, 1, 1, 1, 1, 0, 1,\n",
       "       1, 2, 1, 1, 1, 1, 1, 1, 0, 1, 1, 1, 1, 0, 1, 1, 0, 0, 1, 1, 1, 1,\n",
       "       1, 1, 1, 0, 0, 1, 1, 1, 1, 1, 1, 0, 1, 0, 0, 1, 1, 1, 1, 1, 1, 1,\n",
       "       1, 1, 1, 1, 1, 1, 1, 1, 1, 0, 0, 1, 0, 1, 1, 1, 0, 1, 1, 1, 1, 1,\n",
       "       1, 0, 1, 1, 1, 1, 1, 1, 1, 1, 0, 1, 1, 1, 1, 1, 1, 0, 1, 0, 1, 1,\n",
       "       1, 1, 1, 1, 0, 1, 1, 1, 0, 1, 0, 1, 1, 1, 1, 1, 0, 1, 1, 1, 1, 1,\n",
       "       1, 1, 1, 1, 0, 1, 0, 0, 1, 0, 2, 1, 1, 1, 1, 1, 1, 1, 1, 0, 1, 1,\n",
       "       2, 1, 1, 1, 1, 1, 1, 0, 1, 1, 1, 1, 1, 0, 1, 1, 1, 1, 1, 0, 0, 0,\n",
       "       1, 1, 1, 0, 0, 1, 1, 1, 1, 1, 1, 1, 1, 0, 1, 1, 0, 1, 1, 1, 1, 1,\n",
       "       0, 1, 1, 1, 1, 1, 1, 1, 0, 1, 1, 1, 0, 1, 1, 1, 1, 1, 1, 0, 1, 1,\n",
       "       1, 1, 1, 1, 1, 1, 1, 1, 1, 1, 1, 1, 1, 1, 0, 1, 1, 1, 1, 1, 1, 0,\n",
       "       1, 1, 1, 1, 0, 0, 1, 0, 1, 0, 1, 1, 1, 1, 1, 0, 0, 1, 1, 1, 1, 0,\n",
       "       1, 1, 1, 1, 1, 0, 1, 1, 1, 0, 1, 1, 1, 1, 0, 1, 0, 1, 0, 1, 1, 1,\n",
       "       0, 1, 1, 1, 1, 1, 1, 1, 1, 1, 0, 1, 1, 0, 0, 1, 1, 1, 1, 1, 1, 1,\n",
       "       1, 0, 1, 1, 1, 1, 1])"
      ]
     },
     "execution_count": 92,
     "metadata": {},
     "output_type": "execute_result"
    }
   ],
   "source": [
    "y_train = y_train.astype('int')\n",
    "y_train"
   ]
  },
  {
   "cell_type": "code",
   "execution_count": 93,
   "metadata": {},
   "outputs": [
    {
     "data": {
      "text/plain": [
       "array([[1.0000e+00, 0.0000e+00, 0.0000e+00, ..., 2.9000e+01, 1.0154e+04,\n",
       "        0.0000e+00],\n",
       "       [1.0000e+00, 0.0000e+00, 0.0000e+00, ..., 1.3000e+01, 6.0440e+04,\n",
       "        1.0000e+00],\n",
       "       [1.0000e+00, 0.0000e+00, 0.0000e+00, ..., 2.9000e+01, 1.0036e+04,\n",
       "        1.0000e+00],\n",
       "       ...,\n",
       "       [1.0000e+00, 0.0000e+00, 0.0000e+00, ..., 3.8000e+01, 7.5038e+04,\n",
       "        1.0000e+00],\n",
       "       [1.0000e+00, 0.0000e+00, 0.0000e+00, ..., 8.0000e+00, 3.3496e+04,\n",
       "        1.0000e+00],\n",
       "       [1.0000e+00, 0.0000e+00, 0.0000e+00, ..., 1.6000e+01, 4.0014e+04,\n",
       "        1.0000e+00]])"
      ]
     },
     "execution_count": 93,
     "metadata": {},
     "output_type": "execute_result"
    }
   ],
   "source": [
    "x_test"
   ]
  },
  {
   "cell_type": "code",
   "execution_count": 94,
   "metadata": {},
   "outputs": [
    {
     "data": {
      "text/plain": [
       "array([0, 1, 1, 1, 1, 1, 1, 1, 0, 0, 1, 0, 1, 1, 1, 1, 1, 1, 1, 1, 1, 1,\n",
       "       1, 1, 1, 1, 1, 1, 1, 0, 1, 1, 1, 0, 0, 1, 1, 1, 1, 1, 0, 1, 0, 1,\n",
       "       1, 1, 1, 1, 1, 1, 1, 1, 1, 1, 1, 1, 1, 1, 0, 1, 1, 1, 1, 0, 1, 1,\n",
       "       1, 1, 1, 1, 1, 1, 1, 1, 0, 1, 1, 1, 1, 1, 1, 1, 0, 1, 1, 1, 1, 1,\n",
       "       1, 0, 1, 1, 1, 1, 1, 1, 1, 1, 1, 1, 1, 0, 1, 1, 0, 1, 0, 0, 1, 1,\n",
       "       1, 0, 1, 1, 0, 1, 1, 1, 0, 1, 1, 1, 1, 0, 1, 1, 1, 1, 1, 1, 1, 1,\n",
       "       1, 1, 1, 1, 1, 1, 1, 1, 1, 1, 1, 0, 1, 1, 0, 0, 1, 0, 1, 1, 1, 1,\n",
       "       1, 0, 0, 1, 1, 1, 1, 1, 1, 1, 1, 1, 1, 1, 1, 1, 1, 1, 1, 1, 1, 0,\n",
       "       1, 1, 1, 1, 1, 1, 1, 1, 1, 1, 1, 1, 1, 1, 1, 1, 1, 1, 1, 1, 1, 1,\n",
       "       1, 1])"
      ]
     },
     "execution_count": 94,
     "metadata": {},
     "output_type": "execute_result"
    }
   ],
   "source": [
    "y_test = y_test.astype('int')\n",
    "y_test"
   ]
  },
  {
   "cell_type": "markdown",
   "metadata": {},
   "source": [
    "# Feature scaling"
   ]
  },
  {
   "cell_type": "code",
   "execution_count": 95,
   "metadata": {},
   "outputs": [],
   "source": [
    "from sklearn.preprocessing import StandardScaler\n",
    "sc= StandardScaler()\n",
    "\n",
    "x_train =sc.fit_transform(x_train)\n",
    "x_test = sc.transform(x_test)"
   ]
  },
  {
   "cell_type": "markdown",
   "metadata": {},
   "source": [
    "# KNN Classifier"
   ]
  },
  {
   "cell_type": "code",
   "execution_count": 96,
   "metadata": {},
   "outputs": [
    {
     "data": {
      "text/plain": [
       "KNeighborsClassifier(algorithm='auto', leaf_size=30, metric='minkowski',\n",
       "                     metric_params=None, n_jobs=None, n_neighbors=5, p=2,\n",
       "                     weights='uniform')"
      ]
     },
     "execution_count": 96,
     "metadata": {},
     "output_type": "execute_result"
    }
   ],
   "source": [
    "#Fitting Classifier to the Training set\n",
    "from sklearn import model_selection, neighbors\n",
    "clf = neighbors.KNeighborsClassifier()\n",
    "clf.fit(x_train,y_train)"
   ]
  },
  {
   "cell_type": "code",
   "execution_count": 97,
   "metadata": {},
   "outputs": [],
   "source": [
    "#Predict on test data\n",
    "y_pred=clf.predict(x_test)"
   ]
  },
  {
   "cell_type": "code",
   "execution_count": 98,
   "metadata": {},
   "outputs": [
    {
     "name": "stdout",
     "output_type": "stream",
     "text": [
      "Actual case_status : \n",
      "[0 1 1 1 1 1 1 1 0 0 1 0 1 1 1 1 1 1 1 1 1 1 1 1 1 1 1 1 1 0 1 1 1 0 0 1 1\n",
      " 1 1 1 0 1 0 1 1 1 1 1 1 1 1 1 1 1 1 1 1 1 0 1 1 1 1 0 1 1 1 1 1 1 1 1 1 1\n",
      " 0 1 1 1 1 1 1 1 0 1 1 1 1 1 1 0 1 1 1 1 1 1 1 1 1 1 1 0 1 1 0 1 0 0 1 1 1\n",
      " 0 1 1 0 1 1 1 0 1 1 1 1 0 1 1 1 1 1 1 1 1 1 1 1 1 1 1 1 1 1 1 1 0 1 1 0 0\n",
      " 1 0 1 1 1 1 1 0 0 1 1 1 1 1 1 1 1 1 1 1 1 1 1 1 1 1 1 0 1 1 1 1 1 1 1 1 1\n",
      " 1 1 1 1 1 1 1 1 1 1 1 1 1 1 1]\n"
     ]
    }
   ],
   "source": [
    "print(\"Actual case_status : \")\n",
    "print(y_test)"
   ]
  },
  {
   "cell_type": "code",
   "execution_count": 99,
   "metadata": {},
   "outputs": [
    {
     "name": "stdout",
     "output_type": "stream",
     "text": [
      "\n",
      "Predicted case_status : \n",
      "[0 1 1 1 1 1 1 1 0 0 1 0 1 1 1 1 1 1 1 1 1 1 1 1 1 1 1 1 1 0 1 1 1 0 0 1 1\n",
      " 1 1 1 0 1 0 1 1 1 1 1 1 1 1 1 1 1 1 1 1 1 0 1 1 1 1 0 1 1 1 1 1 1 1 1 1 1\n",
      " 0 1 1 1 1 1 1 1 0 1 1 1 1 1 1 0 1 1 1 1 1 1 1 1 1 1 1 0 1 1 0 1 0 1 1 1 1\n",
      " 0 1 1 0 1 1 1 0 1 1 1 1 0 1 1 1 1 1 1 1 1 1 1 1 1 1 1 1 1 1 1 1 0 1 1 0 0\n",
      " 1 0 1 1 1 1 1 0 0 1 1 1 1 1 1 1 1 1 1 1 1 1 1 1 1 1 1 0 1 1 1 1 1 1 1 1 1\n",
      " 1 1 1 1 1 1 1 1 1 1 1 1 1 1 1]\n"
     ]
    }
   ],
   "source": [
    "print(\"\\nPredicted case_status : \")\n",
    "print(y_pred)"
   ]
  },
  {
   "cell_type": "code",
   "execution_count": 100,
   "metadata": {},
   "outputs": [
    {
     "data": {
      "text/plain": [
       "array([[ 28,   1],\n",
       "       [  0, 171]], dtype=int64)"
      ]
     },
     "execution_count": 100,
     "metadata": {},
     "output_type": "execute_result"
    }
   ],
   "source": [
    "#Build confusion matrix on Test and Train\n",
    "from sklearn.metrics import confusion_matrix\n",
    "clf_cm_test = confusion_matrix(y_test,y_pred)\n",
    "clf_cm_test"
   ]
  },
  {
   "cell_type": "code",
   "execution_count": 101,
   "metadata": {},
   "outputs": [],
   "source": [
    "#Obtain accuracy\n",
    "accuracy = clf.score(x_test,y_test)"
   ]
  },
  {
   "cell_type": "code",
   "execution_count": 102,
   "metadata": {},
   "outputs": [
    {
     "name": "stdout",
     "output_type": "stream",
     "text": [
      "0.995\n"
     ]
    }
   ],
   "source": [
    "print(accuracy)"
   ]
  },
  {
   "cell_type": "code",
   "execution_count": 103,
   "metadata": {},
   "outputs": [],
   "source": [
    "#Predict the probability of each test data point\n",
    "#Get the probability distribution\n",
    "probas = clf.predict_proba(x_test)"
   ]
  },
  {
   "cell_type": "code",
   "execution_count": 104,
   "metadata": {},
   "outputs": [
    {
     "data": {
      "image/png": "[encoded data removed]",
      "text/plain": [
       "<Figure size 900x600 with 1 Axes>"
      ]
     },
     "metadata": {
      "needs_background": "light"
     },
     "output_type": "display_data"
    }
   ],
   "source": [
    "#Visualize the probabilities\n",
    "# plot\n",
    "import matplotlib.pyplot as plt\n",
    "plt.figure(dpi=150)\n",
    "plt.hist(probas, bins=20)\n",
    "plt.title('Classification Probabilities')\n",
    "plt.xlabel('Probability')\n",
    "plt.ylabel('# of Instances')\n",
    "plt.xlim([0.5, 1.0])\n",
    "plt.legend(y_test)\n",
    "plt.show()"
   ]
  },
  {
   "cell_type": "code",
   "execution_count": 105,
   "metadata": {},
   "outputs": [
    {
     "name": "stdout",
     "output_type": "stream",
     "text": [
      "\n",
      "Accuracy score: 99.500000\n",
      "Recall score : 99.500000\n",
      "[[ 28   1]\n",
      " [  0 171]]\n"
     ]
    }
   ],
   "source": [
    "#Accuracy score on Test and Train\n",
    "from sklearn.metrics import accuracy_score, recall_score, confusion_matrix\n",
    "\n",
    "print(\"\\nAccuracy score: %f\" %(accuracy_score(y_test,y_pred) * 100))\n",
    "print(\"Recall score : %f\" %(recall_score(y_test, y_pred,average='micro') * 100))\n",
    "print(confusion_matrix(y_test, y_pred)) "
   ]
  },
  {
   "cell_type": "markdown",
   "metadata": {},
   "source": [
    "# Support Vector Classification\n"
   ]
  },
  {
   "cell_type": "code",
   "execution_count": 106,
   "metadata": {},
   "outputs": [
    {
     "name": "stderr",
     "output_type": "stream",
     "text": [
      "C:\\ProgramData\\Anaconda3\\lib\\site-packages\\sklearn\\svm\\base.py:193: FutureWarning: The default value of gamma will change from 'auto' to 'scale' in version 0.22 to account better for unscaled features. Set gamma explicitly to 'auto' or 'scale' to avoid this warning.\n",
      "  \"avoid this warning.\", FutureWarning)\n"
     ]
    }
   ],
   "source": [
    "#Support Vector Classification\n",
    "from sklearn.svm import SVC\n",
    "sc = SVC(kernel='rbf')\n",
    "sc_classifier = sc.fit(x_train,y_train)  #model building "
   ]
  },
  {
   "cell_type": "code",
   "execution_count": 107,
   "metadata": {},
   "outputs": [
    {
     "name": "stdout",
     "output_type": "stream",
     "text": [
      "[0 1 1 1 1 1 1 1 0 0 1 0 1 1 1 1 1 1 1 1 1 1 1 1 1 1 1 1 1 0 1 1 1 0 0 1 1\n",
      " 1 1 1 0 1 0 1 1 1 1 1 1 1 1 1 1 1 1 1 1 1 0 1 1 1 1 0 1 1 1 1 1 1 1 1 1 1\n",
      " 0 1 1 1 1 1 1 1 0 1 1 1 1 1 1 0 1 1 1 1 1 1 1 1 1 1 1 0 1 1 0 1 0 1 1 1 1\n",
      " 0 1 1 0 1 1 1 0 1 1 1 1 0 1 1 1 1 1 1 1 1 1 1 1 1 1 1 1 1 1 1 1 0 1 1 0 0\n",
      " 1 0 1 1 1 1 1 0 0 1 1 1 1 1 1 1 1 1 1 1 1 1 1 1 1 1 1 0 1 1 1 1 1 1 1 1 1\n",
      " 1 1 1 1 1 1 1 1 1 1 1 1 1 1 1]\n"
     ]
    }
   ],
   "source": [
    "#Predicting on Test and Train data\n",
    "svc_y_test = sc_classifier.predict(x_test)\n",
    "print(svc_y_test)"
   ]
  },
  {
   "cell_type": "code",
   "execution_count": 108,
   "metadata": {},
   "outputs": [
    {
     "name": "stdout",
     "output_type": "stream",
     "text": [
      "[1 1 1 1 1 1 0 1 1 1 1 1 1 1 1 1 0 1 1 0 1 1 1 1 1 1 1 1 1 0 1 1 0 1 0 1 1\n",
      " 1 1 1 0 1 1 0 1 1 1 1 1 1 1 1 1 0 1 1 1 1 1 1 1 1 1 1 1 0 1 1 1 1 0 1 1 1\n",
      " 0 1 1 1 1 1 1 1 1 1 1 1 1 1 1 1 0 0 0 0 1 1 1 0 1 0 1 1 1 1 1 1 1 1 1 1 1\n",
      " 0 0 1 0 1 1 1 1 1 1 1 1 1 1 1 1 1 1 1 1 1 0 1 1 1 1 1 1 1 1 1 0 1 1 1 1 1\n",
      " 1 1 1 1 1 0 1 1 1 0 1 0 1 1 0 1 0 0 1 1 1 1 1 0 0 0 1 1 1 1 1 1 1 1 1 0 0\n",
      " 1 1 1 1 1 0 1 1 0 1 1 0 0 1 1 1 1 0 0 1 0 1 1 1 1 1 1 1 1 1 1 0 1 1 1 1 1\n",
      " 1 1 1 1 1 1 1 1 0 1 1 1 1 1 1 1 1 1 1 1 1 1 1 1 1 1 1 1 1 1 1 1 0 1 0 1 1\n",
      " 1 0 1 1 1 0 1 1 0 1 1 1 0 0 1 1 1 1 1 1 1 0 1 0 1 1 1 1 1 1 1 1 1 0 1 0 1\n",
      " 1 1 1 1 0 0 1 1 1 0 1 1 1 1 1 1 1 1 1 1 1 1 1 0 1 1 1 1 0 1 0 0 0 1 1 1 1\n",
      " 1 1 1 1 1 1 1 1 0 1 0 1 1 0 1 1 1 1 1 1 1 1 1 1 1 1 0 1 1 1 1 1 1 1 1 1 0\n",
      " 0 1 0 1 0 1 1 0 1 1 1 1 1 1 1 1 1 1 1 1 1 1 1 1 1 1 1 1 1 0 1 1 1 1 1 0 1\n",
      " 0 1 1 1 1 1 1 0 0 0 1 1 1 1 1 1 1 1 1 0 1 1 1 1 0 1 1 1 0 0 1 1 0 1 1 0 1\n",
      " 1 0 1 1 0 1 1 0 1 1 0 1 1 0 1 1 1 1 1 1 0 1 1 1 1 1 0 1 1 1 1 1 1 1 1 1 1\n",
      " 1 1 1 1 0 1 1 0 0 1 1 1 1 1 1 1 1 0 1 1 1 1 1 0 1 1 1 1 1 1 1 1 1 0 1 1 1\n",
      " 1 0 1 1 0 0 1 1 1 1 1 1 1 0 0 1 1 1 1 1 1 0 1 0 0 1 1 1 1 1 1 1 1 1 1 1 1\n",
      " 1 1 1 1 0 0 1 0 1 1 1 0 1 1 1 1 1 1 0 1 1 1 1 1 1 1 1 0 1 1 1 1 1 1 0 1 0\n",
      " 1 1 1 1 1 1 0 1 1 1 0 1 0 1 1 1 1 1 0 1 1 1 1 1 1 1 1 1 0 1 0 0 1 0 1 1 1\n",
      " 1 1 1 1 1 1 0 1 1 1 1 1 1 1 1 1 0 1 1 1 1 1 0 1 1 1 1 1 0 0 0 1 1 1 0 0 1\n",
      " 1 1 1 1 1 1 1 0 1 1 0 1 1 1 1 1 0 1 1 1 1 1 1 1 0 1 1 1 0 1 1 1 1 1 1 0 1\n",
      " 1 1 1 1 1 1 1 1 1 1 1 1 1 1 1 0 1 1 1 1 1 1 0 1 1 1 1 0 0 1 0 1 0 1 1 1 1\n",
      " 1 0 0 1 1 1 1 0 1 1 1 1 1 0 1 1 1 0 1 1 1 1 0 1 0 1 0 1 1 1 0 1 1 1 1 1 1\n",
      " 1 1 1 0 1 1 0 0 1 1 1 1 1 1 1 1 0 1 1 1 1 1]\n"
     ]
    }
   ],
   "source": [
    "svc_y_train=sc_classifier.predict(x_train)  #train\n",
    "print(svc_y_train)"
   ]
  },
  {
   "cell_type": "code",
   "execution_count": 109,
   "metadata": {},
   "outputs": [
    {
     "data": {
      "text/plain": [
       "array([[ 28,   1],\n",
       "       [  0, 171]], dtype=int64)"
      ]
     },
     "execution_count": 109,
     "metadata": {},
     "output_type": "execute_result"
    }
   ],
   "source": [
    "#Build confusion matrix on test and train\n",
    "from sklearn.metrics import confusion_matrix\n",
    "svc_cm_test = confusion_matrix(y_test,svc_y_test)   \n",
    "svc_cm_test"
   ]
  },
  {
   "cell_type": "code",
   "execution_count": 110,
   "metadata": {},
   "outputs": [
    {
     "data": {
      "text/plain": [
       "array([[153,   1,   0],\n",
       "       [  0, 641,   0],\n",
       "       [  0,   4,   0]], dtype=int64)"
      ]
     },
     "execution_count": 110,
     "metadata": {},
     "output_type": "execute_result"
    }
   ],
   "source": [
    "svc_cm_train =confusion_matrix(y_train, svc_y_train)\n",
    "svc_cm_train"
   ]
  },
  {
   "cell_type": "code",
   "execution_count": 111,
   "metadata": {},
   "outputs": [
    {
     "data": {
      "text/plain": [
       "0.995"
      ]
     },
     "execution_count": 111,
     "metadata": {},
     "output_type": "execute_result"
    }
   ],
   "source": [
    "#Accuracy classsification score\n",
    "from sklearn.metrics import accuracy_score\n",
    "svc_acc_test=accuracy_score(y_test, svc_y_test)  #for test  \n",
    "svc_acc_test"
   ]
  },
  {
   "cell_type": "code",
   "execution_count": 112,
   "metadata": {},
   "outputs": [
    {
     "data": {
      "text/plain": [
       "0.9937421777221527"
      ]
     },
     "execution_count": 112,
     "metadata": {},
     "output_type": "execute_result"
    }
   ],
   "source": [
    "svc_acc_train= accuracy_score(y_train, svc_y_train)  #for train  \n",
    "svc_acc_train"
   ]
  },
  {
   "cell_type": "code",
   "execution_count": 113,
   "metadata": {},
   "outputs": [
    {
     "name": "stdout",
     "output_type": "stream",
     "text": [
      "0.9950290697674419\n",
      "0.9887843550568242\n"
     ]
    },
    {
     "name": "stderr",
     "output_type": "stream",
     "text": [
      "C:\\ProgramData\\Anaconda3\\lib\\site-packages\\sklearn\\metrics\\classification.py:1437: UndefinedMetricWarning: Precision is ill-defined and being set to 0.0 in labels with no predicted samples.\n",
      "  'precision', 'predicted', average, warn_for)\n"
     ]
    }
   ],
   "source": [
    "#Precision score on Test and Train\n",
    "from sklearn.metrics import precision_score\n",
    "sv_precision_test= precision_score(y_test, svc_y_test, average='weighted')  \n",
    "print(sv_precision_test)\n",
    "sv_precision_train=precision_score(y_train, svc_y_train, average='weighted')\n",
    "print(sv_precision_train)"
   ]
  },
  {
   "cell_type": "markdown",
   "metadata": {},
   "source": [
    "# Naive Bayes Classification"
   ]
  },
  {
   "cell_type": "code",
   "execution_count": 114,
   "metadata": {},
   "outputs": [
    {
     "data": {
      "text/plain": [
       "GaussianNB(priors=None, var_smoothing=1e-09)"
      ]
     },
     "execution_count": 114,
     "metadata": {},
     "output_type": "execute_result"
    }
   ],
   "source": [
    "#Perform Naibe Bayes Classification\n",
    "from sklearn.naive_bayes import GaussianNB\n",
    "nb_classfier =GaussianNB()\n",
    "nb_classfier.fit(x_train, y_train)"
   ]
  },
  {
   "cell_type": "code",
   "execution_count": 115,
   "metadata": {},
   "outputs": [
    {
     "data": {
      "text/plain": [
       "array([0, 1, 1, 1, 1, 1, 1, 1, 0, 0, 1, 0, 1, 1, 1, 1, 1, 1, 1, 1, 1, 1,\n",
       "       1, 1, 1, 1, 1, 1, 1, 0, 1, 1, 1, 0, 0, 1, 1, 1, 1, 1, 0, 1, 0, 1,\n",
       "       1, 1, 1, 1, 1, 1, 1, 1, 1, 1, 1, 1, 1, 1, 0, 1, 1, 1, 1, 0, 1, 1,\n",
       "       1, 1, 1, 1, 1, 1, 1, 1, 0, 1, 1, 1, 1, 1, 1, 1, 0, 1, 1, 1, 1, 1,\n",
       "       1, 0, 1, 1, 1, 1, 1, 1, 1, 1, 1, 1, 1, 0, 1, 1, 0, 1, 0, 0, 1, 1,\n",
       "       1, 0, 1, 1, 0, 1, 1, 1, 0, 1, 1, 1, 1, 0, 1, 1, 1, 1, 1, 1, 1, 1,\n",
       "       1, 1, 1, 1, 1, 1, 1, 1, 1, 1, 1, 0, 1, 1, 0, 0, 1, 0, 1, 1, 1, 1,\n",
       "       1, 0, 0, 1, 1, 1, 1, 1, 1, 1, 1, 1, 1, 1, 1, 1, 1, 1, 1, 1, 1, 0,\n",
       "       1, 1, 1, 1, 1, 1, 1, 1, 1, 1, 1, 1, 1, 1, 1, 1, 1, 1, 1, 1, 1, 1,\n",
       "       1, 1])"
      ]
     },
     "execution_count": 115,
     "metadata": {},
     "output_type": "execute_result"
    }
   ],
   "source": [
    "#Predicting on Test and Train\n",
    "nb_y_test = nb_classfier.predict(x_test)  #for test\n",
    "nb_y_test"
   ]
  },
  {
   "cell_type": "code",
   "execution_count": 116,
   "metadata": {},
   "outputs": [
    {
     "data": {
      "text/plain": [
       "array([1, 1, 1, 2, 1, 1, 0, 1, 1, 1, 1, 1, 1, 1, 1, 1, 0, 1, 1, 0, 1, 1,\n",
       "       1, 1, 1, 1, 1, 1, 1, 0, 1, 1, 0, 1, 0, 1, 1, 1, 1, 1, 0, 1, 1, 0,\n",
       "       1, 1, 1, 1, 1, 1, 1, 1, 1, 0, 1, 1, 1, 1, 1, 1, 1, 1, 1, 1, 1, 0,\n",
       "       1, 1, 1, 1, 0, 1, 1, 1, 0, 1, 1, 1, 1, 1, 1, 1, 1, 1, 1, 1, 1, 1,\n",
       "       1, 1, 0, 0, 0, 0, 1, 1, 1, 0, 1, 0, 1, 1, 1, 1, 1, 1, 1, 1, 1, 1,\n",
       "       1, 0, 0, 1, 0, 1, 1, 1, 1, 1, 1, 1, 1, 1, 1, 1, 1, 1, 1, 1, 1, 1,\n",
       "       0, 1, 1, 1, 1, 1, 1, 1, 1, 1, 0, 1, 1, 1, 1, 1, 1, 1, 1, 1, 1, 0,\n",
       "       1, 1, 1, 0, 1, 0, 1, 1, 0, 1, 0, 0, 1, 1, 1, 1, 1, 0, 0, 0, 1, 1,\n",
       "       1, 1, 1, 1, 1, 1, 1, 0, 0, 1, 1, 1, 1, 1, 0, 1, 1, 0, 1, 1, 0, 0,\n",
       "       1, 1, 1, 1, 0, 0, 1, 0, 1, 1, 1, 1, 1, 1, 1, 1, 1, 1, 0, 1, 1, 1,\n",
       "       0, 1, 1, 1, 1, 1, 1, 1, 1, 1, 0, 1, 1, 1, 1, 1, 1, 1, 1, 1, 1, 1,\n",
       "       1, 1, 1, 1, 1, 1, 1, 1, 1, 1, 1, 1, 0, 1, 0, 1, 1, 1, 0, 1, 1, 1,\n",
       "       0, 1, 1, 0, 1, 1, 1, 0, 0, 1, 1, 1, 1, 1, 1, 1, 0, 1, 0, 1, 1, 1,\n",
       "       1, 1, 1, 1, 1, 1, 0, 1, 0, 1, 1, 1, 1, 1, 0, 0, 1, 1, 1, 0, 1, 1,\n",
       "       1, 1, 1, 1, 1, 1, 1, 1, 1, 1, 1, 0, 1, 1, 1, 1, 0, 1, 0, 0, 0, 1,\n",
       "       1, 1, 1, 1, 1, 1, 1, 1, 1, 1, 1, 0, 1, 0, 1, 1, 0, 1, 1, 1, 1, 1,\n",
       "       1, 1, 1, 1, 1, 1, 1, 0, 1, 1, 1, 1, 1, 1, 1, 1, 1, 0, 0, 1, 0, 1,\n",
       "       0, 1, 1, 0, 1, 1, 1, 1, 1, 1, 1, 1, 1, 1, 1, 1, 1, 1, 1, 1, 1, 1,\n",
       "       1, 1, 1, 0, 1, 1, 1, 1, 1, 0, 1, 0, 1, 1, 1, 1, 1, 1, 0, 0, 0, 1,\n",
       "       1, 1, 1, 1, 1, 1, 1, 1, 0, 1, 1, 1, 1, 0, 1, 1, 1, 0, 0, 1, 1, 0,\n",
       "       1, 1, 0, 1, 1, 0, 1, 1, 0, 1, 1, 0, 1, 1, 0, 1, 1, 0, 1, 1, 1, 1,\n",
       "       1, 1, 0, 1, 1, 1, 1, 1, 0, 1, 1, 1, 1, 1, 1, 1, 1, 1, 1, 1, 1, 1,\n",
       "       1, 0, 1, 1, 0, 0, 1, 1, 1, 1, 1, 1, 1, 1, 0, 1, 1, 1, 1, 1, 0, 1,\n",
       "       1, 2, 1, 1, 1, 1, 1, 1, 0, 1, 1, 1, 1, 0, 1, 1, 0, 0, 1, 1, 1, 1,\n",
       "       1, 1, 1, 0, 0, 1, 1, 1, 1, 1, 1, 0, 1, 0, 0, 1, 1, 1, 1, 1, 1, 1,\n",
       "       1, 1, 1, 1, 1, 1, 1, 1, 1, 0, 0, 1, 0, 1, 1, 1, 0, 1, 1, 1, 1, 1,\n",
       "       1, 0, 1, 1, 1, 1, 1, 1, 1, 1, 0, 1, 1, 1, 1, 1, 1, 0, 1, 0, 1, 1,\n",
       "       1, 1, 1, 1, 0, 1, 1, 1, 0, 1, 0, 1, 1, 1, 1, 1, 0, 1, 1, 1, 1, 1,\n",
       "       1, 1, 1, 1, 0, 1, 0, 0, 1, 0, 2, 1, 1, 1, 1, 1, 1, 1, 1, 0, 1, 1,\n",
       "       2, 1, 1, 1, 1, 1, 1, 0, 1, 1, 1, 1, 1, 0, 1, 1, 1, 1, 1, 0, 0, 0,\n",
       "       1, 1, 1, 0, 0, 1, 1, 1, 1, 1, 1, 1, 1, 0, 1, 1, 0, 1, 1, 1, 1, 1,\n",
       "       0, 1, 1, 1, 1, 1, 1, 1, 0, 1, 1, 1, 0, 1, 1, 1, 1, 1, 1, 0, 1, 1,\n",
       "       1, 1, 1, 1, 1, 1, 1, 1, 1, 1, 1, 1, 1, 1, 0, 1, 1, 1, 1, 1, 1, 0,\n",
       "       1, 1, 1, 1, 0, 0, 1, 0, 1, 0, 1, 1, 1, 1, 1, 0, 0, 1, 1, 1, 1, 0,\n",
       "       1, 1, 1, 1, 1, 0, 1, 1, 1, 0, 1, 1, 1, 1, 0, 1, 0, 1, 0, 1, 1, 1,\n",
       "       0, 1, 1, 1, 1, 1, 1, 1, 1, 1, 0, 1, 1, 0, 0, 1, 1, 1, 1, 1, 1, 1,\n",
       "       1, 0, 1, 1, 1, 1, 1])"
      ]
     },
     "execution_count": 116,
     "metadata": {},
     "output_type": "execute_result"
    }
   ],
   "source": [
    "nb_y_train=nb_classfier.predict(x_train)#for train\n",
    "nb_y_train"
   ]
  },
  {
   "cell_type": "code",
   "execution_count": 117,
   "metadata": {},
   "outputs": [
    {
     "data": {
      "text/plain": [
       "array([[ 29,   0],\n",
       "       [  0, 171]], dtype=int64)"
      ]
     },
     "execution_count": 117,
     "metadata": {},
     "output_type": "execute_result"
    }
   ],
   "source": [
    "#Build confusion matrix on Test and Train\n",
    "from sklearn.metrics import confusion_matrix\n",
    "nb_cm_test = confusion_matrix(y_test,nb_y_test)\n",
    "nb_cm_test"
   ]
  },
  {
   "cell_type": "code",
   "execution_count": 118,
   "metadata": {},
   "outputs": [
    {
     "data": {
      "text/plain": [
       "1.0"
      ]
     },
     "execution_count": 118,
     "metadata": {},
     "output_type": "execute_result"
    }
   ],
   "source": [
    "#Accuracy score on Test and Train\n",
    "from sklearn.metrics import accuracy_score\n",
    "nb_acc_test=accuracy_score(y_test, nb_y_test)\n",
    "nb_acc_test"
   ]
  },
  {
   "cell_type": "code",
   "execution_count": 119,
   "metadata": {},
   "outputs": [
    {
     "data": {
      "text/plain": [
       "1.0"
      ]
     },
     "execution_count": 119,
     "metadata": {},
     "output_type": "execute_result"
    }
   ],
   "source": [
    "nb_acc_train=accuracy_score(y_train, nb_y_train)  #train  \n",
    "nb_acc_train"
   ]
  },
  {
   "cell_type": "code",
   "execution_count": 120,
   "metadata": {},
   "outputs": [
    {
     "name": "stdout",
     "output_type": "stream",
     "text": [
      "1.0\n",
      "1.0\n"
     ]
    }
   ],
   "source": [
    "#Precision score on Test and Train\n",
    "from sklearn.metrics import precision_score\n",
    "\n",
    "nb_precision_test =precision_score(y_test, nb_y_test, average='weighted')  \n",
    "print(nb_precision_test)\n",
    "nb_precision_train =precision_score(y_train, nb_y_train, average='weighted')\n",
    "print(nb_precision_train)"
   ]
  },
  {
   "cell_type": "markdown",
   "metadata": {},
   "source": [
    "# Logistic Regression\n"
   ]
  },
  {
   "cell_type": "code",
   "execution_count": 85,
   "metadata": {},
   "outputs": [
    {
     "name": "stderr",
     "output_type": "stream",
     "text": [
      "C:\\ProgramData\\Anaconda3\\lib\\site-packages\\sklearn\\linear_model\\logistic.py:432: FutureWarning: Default solver will be changed to 'lbfgs' in 0.22. Specify a solver to silence this warning.\n",
      "  FutureWarning)\n",
      "C:\\ProgramData\\Anaconda3\\lib\\site-packages\\sklearn\\linear_model\\logistic.py:469: FutureWarning: Default multi_class will be changed to 'auto' in 0.22. Specify the multi_class option to silence this warning.\n",
      "  \"this warning.\", FutureWarning)\n"
     ]
    }
   ],
   "source": [
    "#Perform Logistic Regression\n",
    "from sklearn.linear_model.logistic import LogisticRegression\n",
    "\n",
    "cls =LogisticRegression(random_state =0)\n",
    "\n",
    "lr_cls=cls.fit(x_train, y_train)"
   ]
  },
  {
   "cell_type": "code",
   "execution_count": 86,
   "metadata": {},
   "outputs": [
    {
     "data": {
      "text/plain": [
       "array([1, 1, 1, 0, 1, 0, 1, 1, 0, 1, 0, 1, 1, 1, 1, 1, 0, 1, 1, 1, 1, 0,\n",
       "       1, 1, 1, 1, 1, 1, 1, 1, 0, 1, 1, 1, 1, 1, 1, 1, 0, 1, 1, 1, 1, 1,\n",
       "       1, 1, 1, 1, 1, 1, 1, 1, 1, 1, 1, 1, 1, 1, 1, 1, 1, 1, 1, 1, 1, 1,\n",
       "       1, 1, 1, 1, 1, 1, 0, 1, 1, 1, 1, 1, 1, 0, 1, 1, 1, 1, 1, 1, 1, 1,\n",
       "       1, 1, 1, 1, 1, 1, 0, 1, 1, 1, 0, 1, 0, 0, 1, 1, 1, 1, 1, 1, 1, 1,\n",
       "       1, 1, 0, 1, 1, 1, 1, 1, 1, 1, 0, 1, 0, 1, 1, 0, 1, 1, 1, 1, 1, 1,\n",
       "       1, 1, 1, 1, 1, 1, 1, 1, 0, 1, 1, 0, 1, 0, 1, 1, 1, 1, 0, 1, 1, 0,\n",
       "       1, 1, 0, 1, 1, 1, 1, 0, 1, 1, 1, 1, 0, 1, 1, 1, 1, 1, 1, 1, 1, 1,\n",
       "       1, 1, 1, 1, 0, 1, 1, 1, 0, 0, 1, 1, 1, 1, 0, 1, 1, 1, 1, 1, 1, 1,\n",
       "       1, 1])"
      ]
     },
     "execution_count": 86,
     "metadata": {},
     "output_type": "execute_result"
    }
   ],
   "source": [
    "#Predicting on test and train data\n",
    "lr_y_test =lr_cls.predict(x_test)\n",
    "lr_y_test"
   ]
  },
  {
   "cell_type": "code",
   "execution_count": 87,
   "metadata": {},
   "outputs": [
    {
     "name": "stdout",
     "output_type": "stream",
     "text": [
      "Actual case_status : \n",
      "[1 1 1 0 1 0 1 1 0 1 0 1 1 1 1 1 0 1 1 1 1 0 1 1 1 1 1 1 1 1 0 1 1 1 1 1 1\n",
      " 1 0 1 1 1 1 1 1 1 1 1 1 1 1 1 1 1 1 1 1 1 1 1 1 1 1 1 1 1 1 1 1 1 1 1 0 1\n",
      " 1 1 1 1 1 0 1 1 1 1 1 1 1 1 1 1 1 1 1 1 0 1 1 1 0 1 0 0 1 1 1 1 1 1 1 1 1\n",
      " 1 0 1 1 1 1 1 1 1 0 1 0 1 2 0 1 1 1 1 1 1 1 1 1 1 1 1 1 1 0 1 1 0 1 0 1 1\n",
      " 1 1 0 1 1 0 1 1 0 2 1 1 1 0 1 1 1 1 0 1 1 1 1 1 1 1 1 1 1 1 1 1 0 1 1 1 0\n",
      " 0 1 1 1 1 0 1 1 1 1 1 1 1 1 1]\n"
     ]
    }
   ],
   "source": [
    "print(\"Actual case_status : \")\n",
    "print(y_test)"
   ]
  },
  {
   "cell_type": "code",
   "execution_count": 88,
   "metadata": {},
   "outputs": [
    {
     "name": "stdout",
     "output_type": "stream",
     "text": [
      "\n",
      "Predicted case_status : \n",
      "[1 1 1 0 1 0 1 1 0 1 0 1 1 1 1 1 0 1 1 1 1 0 1 1 1 1 1 1 1 1 0 1 1 1 1 1 1\n",
      " 1 0 1 1 1 1 1 1 1 1 1 1 1 1 1 1 1 1 1 1 1 1 1 1 1 1 1 1 1 1 1 1 1 1 1 0 1\n",
      " 1 1 1 1 1 0 1 1 1 1 1 1 1 1 1 1 1 1 1 1 0 1 1 1 0 1 0 0 1 1 1 1 1 1 1 1 1\n",
      " 1 0 1 1 1 1 1 1 1 0 1 0 1 1 0 1 1 1 1 1 1 1 1 1 1 1 1 1 1 0 1 1 0 1 0 1 1\n",
      " 1 1 0 1 1 0 1 1 0 1 1 1 1 0 1 1 1 1 0 1 1 1 1 1 1 1 1 1 1 1 1 1 0 1 1 1 0\n",
      " 0 1 1 1 1 0 1 1 1 1 1 1 1 1 1]\n"
     ]
    }
   ],
   "source": [
    "print(\"\\nPredicted case_status : \")\n",
    "print(lr_y_test)"
   ]
  },
  {
   "cell_type": "code",
   "execution_count": 89,
   "metadata": {},
   "outputs": [
    {
     "data": {
      "text/plain": [
       "array([0, 1, 1, 1, 1, 0, 0, 1, 1, 1, 1, 1, 0, 1, 1, 0, 0, 0, 1, 1, 0, 1,\n",
       "       0, 1, 1, 1, 1, 1, 1, 1, 1, 1, 1, 0, 1, 1, 1, 1, 1, 1, 1, 1, 1, 1,\n",
       "       1, 1, 1, 1, 1, 1, 1, 0, 1, 1, 1, 1, 0, 1, 1, 1, 1, 0, 1, 1, 1, 1,\n",
       "       1, 1, 1, 1, 1, 1, 1, 1, 1, 1, 1, 1, 1, 1, 1, 0, 1, 1, 1, 1, 1, 1,\n",
       "       1, 1, 1, 1, 0, 1, 1, 1, 1, 1, 1, 1, 1, 1, 1, 0, 1, 0, 1, 1, 1, 1,\n",
       "       1, 1, 1, 1, 1, 1, 1, 1, 0, 0, 1, 1, 1, 0, 0, 1, 1, 1, 0, 1, 1, 1,\n",
       "       0, 1, 1, 1, 1, 1, 1, 0, 1, 1, 0, 0, 0, 1, 0, 0, 1, 1, 1, 1, 1, 1,\n",
       "       0, 0, 1, 1, 0, 1, 1, 0, 1, 1, 1, 1, 1, 1, 0, 1, 1, 1, 1, 1, 1, 1,\n",
       "       1, 1, 1, 1, 1, 1, 1, 1, 1, 1, 1, 1, 1, 1, 1, 1, 0, 1, 0, 1, 1, 1,\n",
       "       1, 1, 1, 0, 1, 1, 1, 1, 1, 1, 0, 1, 1, 1, 1, 1, 1, 1, 1, 1, 1, 1,\n",
       "       1, 0, 1, 1, 1, 1, 1, 1, 1, 1, 1, 1, 0, 1, 1, 1, 1, 1, 1, 0, 1, 1,\n",
       "       1, 0, 0, 1, 1, 1, 1, 0, 0, 1, 1, 1, 1, 0, 1, 1, 1, 1, 0, 1, 1, 1,\n",
       "       1, 1, 1, 1, 1, 1, 0, 1, 1, 1, 1, 1, 1, 0, 1, 1, 1, 1, 1, 1, 1, 0,\n",
       "       1, 1, 1, 1, 0, 1, 1, 1, 0, 1, 1, 0, 0, 0, 0, 1, 0, 1, 1, 1, 1, 1,\n",
       "       1, 1, 0, 0, 1, 1, 1, 1, 0, 1, 1, 1, 1, 1, 1, 0, 1, 0, 1, 1, 1, 1,\n",
       "       0, 1, 1, 0, 1, 1, 1, 1, 1, 1, 0, 1, 0, 1, 1, 0, 1, 1, 1, 1, 1, 1,\n",
       "       1, 0, 0, 1, 1, 0, 0, 1, 1, 1, 0, 1, 1, 0, 1, 1, 1, 0, 1, 1, 1, 1,\n",
       "       1, 1, 1, 1, 1, 1, 1, 1, 1, 1, 1, 1, 0, 1, 0, 1, 1, 0, 0, 1, 1, 1,\n",
       "       1, 1, 1, 1, 1, 1, 0, 1, 1, 0, 1, 1, 1, 1, 1, 1, 0, 1, 1, 1, 0, 1,\n",
       "       1, 0, 1, 0, 0, 1, 1, 1, 1, 1, 1, 1, 1, 0, 0, 1, 1, 1, 1, 1, 1, 0,\n",
       "       1, 1, 1, 1, 0, 1, 0, 1, 1, 1, 1, 1, 0, 1, 1, 0, 1, 0, 0, 1, 1, 0,\n",
       "       1, 1, 1, 1, 0, 1, 1, 1, 0, 1, 1, 1, 1, 1, 1, 1, 1, 1, 0, 1, 1, 1,\n",
       "       0, 1, 1, 1, 1, 1, 1, 1, 0, 1, 0, 0, 1, 1, 1, 1, 1, 1, 1, 1, 0, 1,\n",
       "       1, 1, 1, 1, 1, 1, 1, 1, 1, 0, 1, 1, 1, 1, 1, 0, 1, 1, 1, 1, 1, 1,\n",
       "       1, 1, 1, 0, 0, 0, 1, 1, 1, 1, 1, 1, 0, 0, 0, 1, 1, 1, 1, 1, 1, 1,\n",
       "       1, 1, 1, 1, 1, 1, 0, 1, 1, 1, 1, 1, 1, 1, 1, 1, 1, 1, 1, 1, 1, 0,\n",
       "       1, 0, 1, 1, 1, 0, 0, 1, 1, 1, 1, 1, 1, 1, 1, 1, 0, 1, 1, 1, 0, 1,\n",
       "       1, 1, 1, 1, 1, 1, 1, 1, 1, 1, 1, 1, 1, 1, 1, 1, 1, 1, 0, 0, 1, 1,\n",
       "       1, 1, 0, 1, 1, 0, 1, 1, 0, 1, 0, 1, 1, 1, 1, 1, 1, 1, 1, 0, 1, 1,\n",
       "       1, 1, 1, 1, 1, 1, 1, 1, 1, 1, 1, 1, 1, 1, 1, 1, 1, 1, 1, 1, 1, 0,\n",
       "       1, 0, 1, 1, 1, 1, 0, 0, 1, 1, 1, 1, 1, 1, 1, 1, 1, 1, 0, 1, 1, 1,\n",
       "       1, 1, 0, 1, 0, 1, 1, 0, 1, 1, 0, 1, 1, 1, 1, 1, 1, 1, 0, 1, 1, 0,\n",
       "       1, 1, 1, 1, 1, 1, 1, 1, 1, 1, 1, 1, 1, 0, 1, 1, 1, 1, 1, 1, 1, 1,\n",
       "       1, 1, 1, 1, 1, 1, 1, 1, 1, 0, 1, 0, 1, 0, 1, 1, 1, 1, 1, 1, 0, 1,\n",
       "       1, 1, 1, 1, 1, 0, 1, 1, 1, 1, 1, 1, 1, 1, 0, 1, 1, 1, 1, 1, 1, 1,\n",
       "       1, 0, 1, 1, 1, 1, 1, 1, 0, 1, 0, 0, 0, 1, 1, 1, 0, 1, 0, 0, 1, 1,\n",
       "       1, 1, 1, 0, 0, 1, 1])"
      ]
     },
     "execution_count": 89,
     "metadata": {},
     "output_type": "execute_result"
    }
   ],
   "source": [
    "lr_y_train = lr_cls.predict(x_train)\n",
    "lr_y_train"
   ]
  },
  {
   "cell_type": "code",
   "execution_count": 90,
   "metadata": {},
   "outputs": [
    {
     "name": "stdout",
     "output_type": "stream",
     "text": [
      "\n",
      "Accuracy score: 99.000000\n",
      "Recall score : 99.000000\n",
      "[[ 30   0   0]\n",
      " [  0 168   0]\n",
      " [  0   2   0]]\n"
     ]
    }
   ],
   "source": [
    "#Accuracy score on Test and Train\n",
    "from sklearn.metrics import accuracy_score, recall_score, confusion_matrix\n",
    "\n",
    "print(\"\\nAccuracy score: %f\" %(accuracy_score(y_test,lr_y_test) * 100))\n",
    "print(\"Recall score : %f\" %(recall_score(y_test, lr_y_test,average='micro') * 100))\n",
    "print(confusion_matrix(y_test, lr_y_test)) "
   ]
  },
  {
   "cell_type": "code",
   "execution_count": 91,
   "metadata": {},
   "outputs": [
    {
     "name": "stdout",
     "output_type": "stream",
     "text": [
      "0.9801176470588235\n",
      "0.995001491802834\n"
     ]
    },
    {
     "name": "stderr",
     "output_type": "stream",
     "text": [
      "C:\\ProgramData\\Anaconda3\\lib\\site-packages\\sklearn\\metrics\\classification.py:1437: UndefinedMetricWarning: Precision is ill-defined and being set to 0.0 in labels with no predicted samples.\n",
      "  'precision', 'predicted', average, warn_for)\n"
     ]
    }
   ],
   "source": [
    "#Precision score on Test and Train\n",
    "from sklearn.metrics import precision_score\n",
    "\n",
    "lr_precision_test =precision_score(y_test, lr_y_test, average='weighted')  \n",
    "print(lr_precision_test)\n",
    "lr_precision_train =precision_score(y_train, lr_y_train, average='weighted')\n",
    "print(lr_precision_train)"
   ]
  },
  {
   "cell_type": "markdown",
   "metadata": {},
   "source": [
    "# Decision Tree Calssifier"
   ]
  },
  {
   "cell_type": "code",
   "execution_count": 92,
   "metadata": {},
   "outputs": [
    {
     "data": {
      "text/plain": [
       "DecisionTreeClassifier(class_weight=None, criterion='gini', max_depth=None,\n",
       "                       max_features=None, max_leaf_nodes=None,\n",
       "                       min_impurity_decrease=0.0, min_impurity_split=None,\n",
       "                       min_samples_leaf=1, min_samples_split=2,\n",
       "                       min_weight_fraction_leaf=0.0, presort=False,\n",
       "                       random_state=None, splitter='best')"
      ]
     },
     "execution_count": 92,
     "metadata": {},
     "output_type": "execute_result"
    }
   ],
   "source": [
    "#Decision Tree Classifier\n",
    "from sklearn.tree import DecisionTreeClassifier\n",
    "\n",
    "dtc_clf = DecisionTreeClassifier()\n",
    "dtc_clf.fit(x_train,y_train)\n"
   ]
  },
  {
   "cell_type": "code",
   "execution_count": 93,
   "metadata": {},
   "outputs": [
    {
     "data": {
      "text/plain": [
       "array([1, 1, 1, 0, 1, 0, 1, 1, 0, 1, 0, 1, 1, 1, 1, 1, 0, 1, 1, 1, 1, 0,\n",
       "       1, 1, 1, 1, 1, 1, 1, 1, 0, 1, 1, 1, 1, 1, 1, 1, 0, 1, 1, 1, 1, 1,\n",
       "       1, 1, 1, 1, 1, 1, 1, 1, 1, 1, 1, 1, 1, 1, 1, 1, 1, 1, 1, 1, 1, 1,\n",
       "       1, 1, 1, 1, 1, 1, 0, 1, 1, 1, 1, 1, 1, 0, 1, 1, 1, 1, 1, 1, 1, 1,\n",
       "       1, 1, 1, 1, 1, 1, 0, 1, 1, 1, 0, 1, 0, 0, 1, 1, 1, 1, 1, 1, 1, 1,\n",
       "       1, 1, 0, 1, 1, 1, 1, 1, 1, 1, 0, 1, 0, 1, 2, 0, 1, 1, 1, 1, 1, 1,\n",
       "       1, 1, 1, 1, 1, 1, 1, 1, 0, 1, 1, 0, 1, 0, 1, 1, 1, 1, 0, 1, 1, 0,\n",
       "       1, 1, 0, 2, 1, 1, 1, 0, 1, 1, 1, 1, 0, 1, 1, 1, 1, 1, 1, 1, 1, 1,\n",
       "       1, 1, 1, 1, 0, 1, 1, 1, 0, 0, 1, 1, 1, 1, 0, 1, 1, 1, 1, 1, 1, 1,\n",
       "       1, 1])"
      ]
     },
     "execution_count": 93,
     "metadata": {},
     "output_type": "execute_result"
    }
   ],
   "source": [
    "#Predicting on test and train data\n",
    "dtc_y_test =dtc_clf.predict(x_test)\n",
    "dtc_y_test"
   ]
  },
  {
   "cell_type": "code",
   "execution_count": 94,
   "metadata": {},
   "outputs": [
    {
     "data": {
      "text/plain": [
       "array([0, 1, 1, 1, 1, 0, 0, 1, 1, 1, 1, 1, 0, 1, 1, 0, 0, 0, 1, 1, 0, 1,\n",
       "       0, 1, 1, 1, 1, 1, 1, 1, 1, 1, 1, 0, 1, 1, 1, 1, 1, 1, 1, 1, 1, 1,\n",
       "       1, 1, 1, 1, 1, 1, 1, 0, 1, 1, 1, 1, 0, 1, 1, 2, 1, 0, 1, 1, 1, 1,\n",
       "       1, 1, 1, 1, 1, 1, 1, 1, 1, 1, 1, 1, 1, 1, 1, 0, 1, 1, 1, 1, 1, 1,\n",
       "       1, 1, 1, 1, 0, 1, 1, 1, 1, 1, 1, 1, 1, 1, 1, 0, 1, 0, 1, 1, 1, 1,\n",
       "       1, 1, 1, 1, 1, 1, 1, 1, 0, 0, 1, 1, 1, 0, 0, 1, 1, 1, 0, 1, 1, 1,\n",
       "       0, 1, 1, 1, 1, 1, 1, 0, 1, 1, 0, 0, 0, 1, 0, 0, 1, 1, 1, 1, 1, 1,\n",
       "       0, 0, 1, 1, 0, 1, 1, 0, 1, 1, 1, 1, 1, 1, 0, 1, 1, 1, 1, 1, 1, 1,\n",
       "       1, 1, 1, 1, 1, 1, 1, 1, 1, 1, 1, 1, 1, 1, 1, 1, 0, 1, 0, 1, 1, 1,\n",
       "       1, 1, 1, 0, 1, 1, 1, 1, 1, 1, 0, 1, 1, 1, 1, 1, 1, 1, 1, 1, 1, 1,\n",
       "       1, 0, 1, 1, 1, 1, 1, 1, 1, 1, 1, 1, 0, 1, 1, 1, 1, 1, 1, 0, 1, 1,\n",
       "       1, 0, 0, 1, 1, 1, 1, 0, 0, 1, 1, 1, 1, 0, 1, 1, 1, 1, 0, 2, 1, 1,\n",
       "       1, 1, 1, 1, 1, 1, 0, 1, 1, 1, 1, 1, 1, 0, 1, 1, 1, 1, 1, 1, 1, 0,\n",
       "       1, 1, 1, 1, 0, 1, 1, 1, 0, 1, 1, 0, 0, 0, 0, 1, 0, 1, 1, 1, 1, 1,\n",
       "       1, 1, 0, 0, 1, 1, 1, 1, 0, 1, 1, 1, 1, 1, 1, 0, 1, 0, 1, 1, 1, 1,\n",
       "       0, 1, 1, 0, 1, 1, 1, 1, 1, 1, 0, 1, 0, 1, 1, 0, 1, 1, 1, 1, 1, 1,\n",
       "       1, 0, 0, 1, 1, 0, 0, 1, 1, 1, 0, 1, 1, 0, 1, 1, 1, 0, 1, 1, 1, 1,\n",
       "       1, 1, 1, 1, 1, 1, 1, 1, 1, 1, 1, 1, 0, 1, 0, 1, 1, 0, 0, 1, 1, 1,\n",
       "       1, 1, 1, 1, 1, 1, 0, 1, 1, 0, 1, 1, 1, 1, 1, 1, 0, 1, 1, 1, 0, 1,\n",
       "       1, 0, 1, 0, 0, 1, 1, 1, 1, 1, 1, 1, 1, 0, 0, 1, 1, 1, 1, 1, 1, 0,\n",
       "       1, 1, 1, 1, 0, 1, 0, 1, 1, 1, 1, 1, 0, 1, 1, 0, 1, 0, 0, 1, 1, 0,\n",
       "       1, 1, 1, 1, 0, 1, 1, 1, 0, 1, 1, 1, 1, 1, 1, 1, 1, 1, 0, 1, 1, 1,\n",
       "       0, 1, 1, 1, 1, 1, 1, 1, 0, 1, 0, 0, 1, 1, 1, 1, 1, 1, 1, 1, 0, 1,\n",
       "       1, 1, 1, 1, 1, 1, 1, 1, 1, 0, 1, 1, 1, 1, 1, 0, 1, 1, 1, 1, 1, 1,\n",
       "       1, 1, 1, 0, 0, 0, 1, 1, 1, 1, 1, 1, 0, 0, 0, 1, 1, 1, 1, 1, 1, 1,\n",
       "       1, 1, 1, 1, 1, 1, 0, 1, 1, 1, 1, 1, 1, 1, 1, 1, 1, 1, 1, 1, 1, 0,\n",
       "       1, 0, 1, 1, 1, 0, 0, 1, 1, 1, 1, 1, 1, 1, 1, 1, 0, 1, 1, 1, 0, 1,\n",
       "       1, 1, 1, 1, 1, 1, 1, 1, 1, 1, 1, 1, 1, 1, 1, 1, 1, 1, 0, 0, 1, 1,\n",
       "       1, 1, 0, 1, 1, 0, 1, 1, 0, 1, 0, 1, 1, 1, 1, 1, 1, 1, 1, 0, 1, 1,\n",
       "       1, 1, 1, 1, 1, 1, 1, 1, 1, 1, 1, 1, 1, 1, 1, 1, 1, 1, 1, 1, 1, 0,\n",
       "       1, 0, 1, 1, 1, 1, 0, 0, 1, 1, 1, 1, 1, 1, 1, 1, 1, 1, 0, 1, 1, 1,\n",
       "       1, 1, 0, 1, 0, 1, 1, 0, 1, 1, 0, 1, 1, 1, 1, 1, 1, 1, 0, 1, 1, 0,\n",
       "       1, 1, 1, 1, 1, 1, 1, 1, 1, 1, 1, 1, 1, 0, 1, 1, 1, 1, 1, 1, 1, 1,\n",
       "       1, 1, 1, 1, 1, 1, 1, 1, 1, 0, 1, 0, 1, 0, 1, 1, 1, 1, 1, 1, 0, 1,\n",
       "       1, 1, 1, 1, 1, 0, 1, 1, 1, 1, 1, 1, 1, 1, 0, 1, 1, 1, 1, 1, 1, 1,\n",
       "       1, 0, 1, 1, 1, 1, 1, 1, 0, 1, 0, 0, 0, 1, 1, 1, 0, 1, 0, 0, 1, 1,\n",
       "       1, 1, 1, 0, 0, 1, 1])"
      ]
     },
     "execution_count": 94,
     "metadata": {},
     "output_type": "execute_result"
    }
   ],
   "source": [
    "dtc_y_train = dtc_clf.predict(x_train)\n",
    "dtc_y_train"
   ]
  },
  {
   "cell_type": "code",
   "execution_count": 95,
   "metadata": {},
   "outputs": [
    {
     "data": {
      "text/plain": [
       "array([[ 30,   0,   0],\n",
       "       [  0, 168,   0],\n",
       "       [  0,   0,   2]], dtype=int64)"
      ]
     },
     "execution_count": 95,
     "metadata": {},
     "output_type": "execute_result"
    }
   ],
   "source": [
    "#Build confusion matrix on Test and Train\n",
    "from sklearn.metrics import confusion_matrix\n",
    "dtc_cm_test = confusion_matrix(y_test, dtc_y_test)\n",
    "dtc_cm_test"
   ]
  },
  {
   "cell_type": "code",
   "execution_count": 96,
   "metadata": {},
   "outputs": [
    {
     "data": {
      "text/plain": [
       "1.0"
      ]
     },
     "execution_count": 96,
     "metadata": {},
     "output_type": "execute_result"
    }
   ],
   "source": [
    "#Accuracy score on Test and Train\n",
    "from sklearn.metrics import accuracy_score\n",
    "dtc_accu_test= accuracy_score(y_test,dtc_y_test)\n",
    "dtc_accu_test"
   ]
  },
  {
   "cell_type": "code",
   "execution_count": 97,
   "metadata": {},
   "outputs": [
    {
     "data": {
      "text/plain": [
       "1.0"
      ]
     },
     "execution_count": 97,
     "metadata": {},
     "output_type": "execute_result"
    }
   ],
   "source": [
    "dtc_accu_train= accuracy_score(y_train,dtc_y_train)    \n",
    "dtc_accu_train"
   ]
  },
  {
   "cell_type": "code",
   "execution_count": 98,
   "metadata": {},
   "outputs": [
    {
     "name": "stdout",
     "output_type": "stream",
     "text": [
      "1.0\n",
      "1.0\n"
     ]
    }
   ],
   "source": [
    "#Precision score on Test and Train\n",
    "from sklearn.metrics import precision_score\n",
    "\n",
    "dtc_precision_test =precision_score(y_test, dtc_y_test, average='weighted')  \n",
    "print(dtc_precision_test)\n",
    "dtc_precision_train =precision_score(y_train, dtc_y_train, average='weighted')\n",
    "print(dtc_precision_train)"
   ]
  },
  {
   "cell_type": "code",
   "execution_count": 99,
   "metadata": {},
   "outputs": [
    {
     "name": "stdout",
     "output_type": "stream",
     "text": [
      "1.0\n",
      "1.0\n"
     ]
    }
   ],
   "source": [
    "#Recall score on Test and Train\n",
    "from sklearn.metrics import recall_score\n",
    "dtc_recall_test=recall_score(y_test,dtc_y_test, average='weighted' )\n",
    "print(dtc_recall_test)\n",
    "dtc_recall_train=recall_score(y_train,dtc_y_train, average='weighted' )\n",
    "print(dtc_recall_train)"
   ]
  },
  {
   "cell_type": "code",
   "execution_count": 100,
   "metadata": {},
   "outputs": [],
   "source": [
    "#Perform AdaBoost\n",
    "from sklearn import model_selection\n",
    "from sklearn.ensemble import AdaBoostClassifier\n",
    "seed = 7\n",
    "num_trees = 30\n",
    "kfold = model_selection.KFold(n_splits=10, random_state=seed)\n",
    "model = AdaBoostClassifier(n_estimators=num_trees, random_state=seed)\n",
    "results = model_selection.cross_val_score(model, x_train, y_train, cv=kfold)"
   ]
  },
  {
   "cell_type": "code",
   "execution_count": 101,
   "metadata": {},
   "outputs": [
    {
     "name": "stdout",
     "output_type": "stream",
     "text": [
      "[1. 1. 1. 1. 1. 1. 1. 1. 1. 1.]\n"
     ]
    }
   ],
   "source": [
    "print(results)"
   ]
  },
  {
   "cell_type": "code",
   "execution_count": 103,
   "metadata": {},
   "outputs": [
    {
     "name": "stdout",
     "output_type": "stream",
     "text": [
      "1.0\n"
     ]
    }
   ],
   "source": [
    "print(results.mean())"
   ]
  },
  {
   "cell_type": "markdown",
   "metadata": {},
   "source": [
    "# Random forest"
   ]
  },
  {
   "cell_type": "code",
   "execution_count": null,
   "metadata": {},
   "outputs": [],
   "source": [
    "#Build Random Forest Calssifier\n",
    "from sklearn.ensemble import RandomForestClassifier\n",
    "rmf = RandomForestClassifier(max_depth=3, random_state=0)\n",
    "rf_classi = rmf.fit(x_train, y_train)"
   ]
  },
  {
   "cell_type": "code",
   "execution_count": null,
   "metadata": {},
   "outputs": [],
   "source": [
    "#Predicting on test and train data\n",
    "rf_y_test = rf_classi.predict(x_test)\n",
    "rf_y_test"
   ]
  },
  {
   "cell_type": "code",
   "execution_count": null,
   "metadata": {},
   "outputs": [],
   "source": [
    "rf_y_train = rf_classi.predict(x_train)\n",
    "rf_y_train"
   ]
  },
  {
   "cell_type": "code",
   "execution_count": null,
   "metadata": {},
   "outputs": [],
   "source": [
    "#Build Confusion Matrix on Test and Train\n",
    "from sklearn.metrics import confusion_matrix\n",
    "rf_cm_test = confusion_matrix(y_test, rf_y_test)\n",
    "rf_cm_test"
   ]
  },
  {
   "cell_type": "code",
   "execution_count": null,
   "metadata": {},
   "outputs": [],
   "source": [
    "rf_cm_train = confusion_matrix(y_train, rf_y_train)\n",
    "rf_cm_train"
   ]
  },
  {
   "cell_type": "code",
   "execution_count": null,
   "metadata": {},
   "outputs": [],
   "source": [
    "#Accuracy Score on Test and Train\n",
    "from sklearn.metrics import accuracy_score\n",
    "rf_accu_test= accuracy_score(y_test,rf_y_test)  #test\n",
    "rf_accu_test"
   ]
  },
  {
   "cell_type": "code",
   "execution_count": null,
   "metadata": {},
   "outputs": [],
   "source": [
    "rf_accu_train= accuracy_score(y_train,rf_y_train)  \n",
    "rf_accu_train"
   ]
  },
  {
   "cell_type": "code",
   "execution_count": null,
   "metadata": {},
   "outputs": [],
   "source": [
    "#Precision Score on Test and Train\n",
    "from sklearn.metrics import precision_score\n",
    "rf_precision_test =precision_score(y_test, rf_y_test, average='weighted')  \n",
    "print(rf_precision_test)  #test data\n",
    "rf_precision_train =precision_score(y_train, rf_y_train, average='weighted')\n",
    "print(rf_precision_train) #train data"
   ]
  },
  {
   "cell_type": "code",
   "execution_count": null,
   "metadata": {},
   "outputs": [],
   "source": [
    "from sklearn.metrics import recall_score\n",
    "rf_recall_test=recall_score(y_test,rf_y_test, average='weighted' )\n",
    "print(rf_recall_test)\n",
    "rf_recall_train=recall_score(y_train,rf_y_train, average='weighted' )\n",
    "print(rf_recall_train)"
   ]
  }
 ],
 "metadata": {
  "kernelspec": {
   "display_name": "Python 3",
   "language": "python",
   "name": "python3"
  },
  "language_info": {
   "codemirror_mode": {
    "name": "ipython",
    "version": 3
   },
   "file_extension": ".py",
   "mimetype": "text/x-python",
   "name": "python",
   "nbconvert_exporter": "python",
   "pygments_lexer": "ipython3",
   "version": "3.7.6"
  }
 },
 "nbformat": 4,
 "nbformat_minor": 2
}
